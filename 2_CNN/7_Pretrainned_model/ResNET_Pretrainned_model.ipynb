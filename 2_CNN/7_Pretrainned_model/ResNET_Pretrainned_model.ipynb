{
 "cells": [
  {
   "cell_type": "code",
   "id": "initial_id",
   "metadata": {
    "collapsed": true,
    "ExecuteTime": {
     "end_time": "2025-01-10T03:53:17.817184Z",
     "start_time": "2025-01-10T03:53:17.813852Z"
    }
   },
   "source": [
    "from tensorflow.keras.applications import ResNet50\n",
    "from tensorflow.keras.utils import load_img, img_to_array\n",
    "from tensorflow.keras.applications.resnet50 import preprocess_input, decode_predictions\n",
    "import numpy as np"
   ],
   "outputs": [],
   "execution_count": 8
  },
  {
   "metadata": {
    "ExecuteTime": {
     "end_time": "2025-01-10T03:53:18.542448Z",
     "start_time": "2025-01-10T03:53:17.817184Z"
    }
   },
   "cell_type": "code",
   "source": "model = ResNet50(weights='imagenet')",
   "id": "303af16089357a27",
   "outputs": [],
   "execution_count": 9
  },
  {
   "metadata": {
    "ExecuteTime": {
     "end_time": "2025-01-10T03:53:18.552258Z",
     "start_time": "2025-01-10T03:53:18.542448Z"
    }
   },
   "cell_type": "code",
   "source": [
    "img = load_img('img/cake2.png',target_size=(224,224))\n",
    "x = img_to_array(img)\n",
    "x = np.expand_dims(x,axis=0)\n",
    "x = preprocess_input(x)"
   ],
   "id": "bf2a15f8d0c52ebb",
   "outputs": [],
   "execution_count": 10
  },
  {
   "metadata": {
    "ExecuteTime": {
     "end_time": "2025-01-10T03:53:20.407638Z",
     "start_time": "2025-01-10T03:53:18.552258Z"
    }
   },
   "cell_type": "code",
   "source": [
    "pred = model.predict(x)\n",
    "print('Predicted:',decode_predictions(pred,top=3)[0])"
   ],
   "id": "2d739415cfdd0a66",
   "outputs": [
    {
     "name": "stdout",
     "output_type": "stream",
     "text": [
      "\u001B[1m1/1\u001B[0m \u001B[32m━━━━━━━━━━━━━━━━━━━━\u001B[0m\u001B[37m\u001B[0m \u001B[1m2s\u001B[0m 2s/step\n",
      "Predicted: [('n02776631', 'bakery', 0.92905444), ('n07614500', 'ice_cream', 0.030721884), ('n02948072', 'candle', 0.010224599)]\n"
     ]
    }
   ],
   "execution_count": 11
  },
  {
   "metadata": {
    "ExecuteTime": {
     "end_time": "2025-01-10T03:53:20.410800Z",
     "start_time": "2025-01-10T03:53:20.408651Z"
    }
   },
   "cell_type": "code",
   "source": "",
   "id": "558f8a29fa56977",
   "outputs": [],
   "execution_count": 11
  }
 ],
 "metadata": {
  "kernelspec": {
   "display_name": "Python 3",
   "language": "python",
   "name": "python3"
  },
  "language_info": {
   "codemirror_mode": {
    "name": "ipython",
    "version": 2
   },
   "file_extension": ".py",
   "mimetype": "text/x-python",
   "name": "python",
   "nbconvert_exporter": "python",
   "pygments_lexer": "ipython2",
   "version": "2.7.6"
  }
 },
 "nbformat": 4,
 "nbformat_minor": 5
}
