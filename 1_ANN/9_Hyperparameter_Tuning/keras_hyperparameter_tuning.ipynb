{
 "cells": [
  {
   "cell_type": "code",
   "id": "initial_id",
   "metadata": {
    "collapsed": true,
    "ExecuteTime": {
     "end_time": "2025-01-03T04:42:57.477039Z",
     "start_time": "2025-01-03T04:42:57.464963Z"
    }
   },
   "source": [
    "import numpy as np\n",
    "import pandas as pd"
   ],
   "outputs": [],
   "execution_count": 20
  },
  {
   "metadata": {
    "ExecuteTime": {
     "end_time": "2025-01-03T04:42:58.178537Z",
     "start_time": "2025-01-03T04:42:58.166396Z"
    }
   },
   "cell_type": "code",
   "source": [
    "df = pd.read_csv('Churn_Modelling.csv')\n",
    "df"
   ],
   "id": "1e26d2bcd974a481",
   "outputs": [
    {
     "data": {
      "text/plain": [
       "     Pregnancies  Glucose  BloodPressure  SkinThickness  Insulin   BMI  \\\n",
       "0              6      148             72             35        0  33.6   \n",
       "1              1       85             66             29        0  26.6   \n",
       "2              8      183             64              0        0  23.3   \n",
       "3              1       89             66             23       94  28.1   \n",
       "4              0      137             40             35      168  43.1   \n",
       "..           ...      ...            ...            ...      ...   ...   \n",
       "763           10      101             76             48      180  32.9   \n",
       "764            2      122             70             27        0  36.8   \n",
       "765            5      121             72             23      112  26.2   \n",
       "766            1      126             60              0        0  30.1   \n",
       "767            1       93             70             31        0  30.4   \n",
       "\n",
       "     DiabetesPedigreeFunction  Age  Outcome  \n",
       "0                       0.627   50        1  \n",
       "1                       0.351   31        0  \n",
       "2                       0.672   32        1  \n",
       "3                       0.167   21        0  \n",
       "4                       2.288   33        1  \n",
       "..                        ...  ...      ...  \n",
       "763                     0.171   63        0  \n",
       "764                     0.340   27        0  \n",
       "765                     0.245   30        0  \n",
       "766                     0.349   47        1  \n",
       "767                     0.315   23        0  \n",
       "\n",
       "[768 rows x 9 columns]"
      ],
      "text/html": [
       "<div>\n",
       "<style scoped>\n",
       "    .dataframe tbody tr th:only-of-type {\n",
       "        vertical-align: middle;\n",
       "    }\n",
       "\n",
       "    .dataframe tbody tr th {\n",
       "        vertical-align: top;\n",
       "    }\n",
       "\n",
       "    .dataframe thead th {\n",
       "        text-align: right;\n",
       "    }\n",
       "</style>\n",
       "<table border=\"1\" class=\"dataframe\">\n",
       "  <thead>\n",
       "    <tr style=\"text-align: right;\">\n",
       "      <th></th>\n",
       "      <th>Pregnancies</th>\n",
       "      <th>Glucose</th>\n",
       "      <th>BloodPressure</th>\n",
       "      <th>SkinThickness</th>\n",
       "      <th>Insulin</th>\n",
       "      <th>BMI</th>\n",
       "      <th>DiabetesPedigreeFunction</th>\n",
       "      <th>Age</th>\n",
       "      <th>Outcome</th>\n",
       "    </tr>\n",
       "  </thead>\n",
       "  <tbody>\n",
       "    <tr>\n",
       "      <th>0</th>\n",
       "      <td>6</td>\n",
       "      <td>148</td>\n",
       "      <td>72</td>\n",
       "      <td>35</td>\n",
       "      <td>0</td>\n",
       "      <td>33.6</td>\n",
       "      <td>0.627</td>\n",
       "      <td>50</td>\n",
       "      <td>1</td>\n",
       "    </tr>\n",
       "    <tr>\n",
       "      <th>1</th>\n",
       "      <td>1</td>\n",
       "      <td>85</td>\n",
       "      <td>66</td>\n",
       "      <td>29</td>\n",
       "      <td>0</td>\n",
       "      <td>26.6</td>\n",
       "      <td>0.351</td>\n",
       "      <td>31</td>\n",
       "      <td>0</td>\n",
       "    </tr>\n",
       "    <tr>\n",
       "      <th>2</th>\n",
       "      <td>8</td>\n",
       "      <td>183</td>\n",
       "      <td>64</td>\n",
       "      <td>0</td>\n",
       "      <td>0</td>\n",
       "      <td>23.3</td>\n",
       "      <td>0.672</td>\n",
       "      <td>32</td>\n",
       "      <td>1</td>\n",
       "    </tr>\n",
       "    <tr>\n",
       "      <th>3</th>\n",
       "      <td>1</td>\n",
       "      <td>89</td>\n",
       "      <td>66</td>\n",
       "      <td>23</td>\n",
       "      <td>94</td>\n",
       "      <td>28.1</td>\n",
       "      <td>0.167</td>\n",
       "      <td>21</td>\n",
       "      <td>0</td>\n",
       "    </tr>\n",
       "    <tr>\n",
       "      <th>4</th>\n",
       "      <td>0</td>\n",
       "      <td>137</td>\n",
       "      <td>40</td>\n",
       "      <td>35</td>\n",
       "      <td>168</td>\n",
       "      <td>43.1</td>\n",
       "      <td>2.288</td>\n",
       "      <td>33</td>\n",
       "      <td>1</td>\n",
       "    </tr>\n",
       "    <tr>\n",
       "      <th>...</th>\n",
       "      <td>...</td>\n",
       "      <td>...</td>\n",
       "      <td>...</td>\n",
       "      <td>...</td>\n",
       "      <td>...</td>\n",
       "      <td>...</td>\n",
       "      <td>...</td>\n",
       "      <td>...</td>\n",
       "      <td>...</td>\n",
       "    </tr>\n",
       "    <tr>\n",
       "      <th>763</th>\n",
       "      <td>10</td>\n",
       "      <td>101</td>\n",
       "      <td>76</td>\n",
       "      <td>48</td>\n",
       "      <td>180</td>\n",
       "      <td>32.9</td>\n",
       "      <td>0.171</td>\n",
       "      <td>63</td>\n",
       "      <td>0</td>\n",
       "    </tr>\n",
       "    <tr>\n",
       "      <th>764</th>\n",
       "      <td>2</td>\n",
       "      <td>122</td>\n",
       "      <td>70</td>\n",
       "      <td>27</td>\n",
       "      <td>0</td>\n",
       "      <td>36.8</td>\n",
       "      <td>0.340</td>\n",
       "      <td>27</td>\n",
       "      <td>0</td>\n",
       "    </tr>\n",
       "    <tr>\n",
       "      <th>765</th>\n",
       "      <td>5</td>\n",
       "      <td>121</td>\n",
       "      <td>72</td>\n",
       "      <td>23</td>\n",
       "      <td>112</td>\n",
       "      <td>26.2</td>\n",
       "      <td>0.245</td>\n",
       "      <td>30</td>\n",
       "      <td>0</td>\n",
       "    </tr>\n",
       "    <tr>\n",
       "      <th>766</th>\n",
       "      <td>1</td>\n",
       "      <td>126</td>\n",
       "      <td>60</td>\n",
       "      <td>0</td>\n",
       "      <td>0</td>\n",
       "      <td>30.1</td>\n",
       "      <td>0.349</td>\n",
       "      <td>47</td>\n",
       "      <td>1</td>\n",
       "    </tr>\n",
       "    <tr>\n",
       "      <th>767</th>\n",
       "      <td>1</td>\n",
       "      <td>93</td>\n",
       "      <td>70</td>\n",
       "      <td>31</td>\n",
       "      <td>0</td>\n",
       "      <td>30.4</td>\n",
       "      <td>0.315</td>\n",
       "      <td>23</td>\n",
       "      <td>0</td>\n",
       "    </tr>\n",
       "  </tbody>\n",
       "</table>\n",
       "<p>768 rows × 9 columns</p>\n",
       "</div>"
      ]
     },
     "execution_count": 21,
     "metadata": {},
     "output_type": "execute_result"
    }
   ],
   "execution_count": 21
  },
  {
   "metadata": {
    "ExecuteTime": {
     "end_time": "2025-01-03T04:43:00.318546Z",
     "start_time": "2025-01-03T04:43:00.312214Z"
    }
   },
   "cell_type": "code",
   "source": "df.corr()['Outcome']",
   "id": "db4ab1781c184eb5",
   "outputs": [
    {
     "data": {
      "text/plain": [
       "Pregnancies                 0.221898\n",
       "Glucose                     0.466581\n",
       "BloodPressure               0.065068\n",
       "SkinThickness               0.074752\n",
       "Insulin                     0.130548\n",
       "BMI                         0.292695\n",
       "DiabetesPedigreeFunction    0.173844\n",
       "Age                         0.238356\n",
       "Outcome                     1.000000\n",
       "Name: Outcome, dtype: float64"
      ]
     },
     "execution_count": 22,
     "metadata": {},
     "output_type": "execute_result"
    }
   ],
   "execution_count": 22
  },
  {
   "metadata": {
    "ExecuteTime": {
     "end_time": "2025-01-03T04:43:02.569600Z",
     "start_time": "2025-01-03T04:43:02.565707Z"
    }
   },
   "cell_type": "code",
   "source": [
    "X = df.iloc[:,:-1].values\n",
    "y = df.iloc[:,-1].values"
   ],
   "id": "5cc6af30f5783aba",
   "outputs": [],
   "execution_count": 23
  },
  {
   "metadata": {
    "ExecuteTime": {
     "end_time": "2025-01-03T04:43:03.635660Z",
     "start_time": "2025-01-03T04:43:03.632214Z"
    }
   },
   "cell_type": "code",
   "source": [
    "from sklearn.preprocessing import StandardScaler\n",
    "scaler = StandardScaler()"
   ],
   "id": "99bda42bd8b27c04",
   "outputs": [],
   "execution_count": 24
  },
  {
   "metadata": {
    "ExecuteTime": {
     "end_time": "2025-01-03T04:43:04.066554Z",
     "start_time": "2025-01-03T04:43:04.062210Z"
    }
   },
   "cell_type": "code",
   "source": "X = scaler.fit_transform(X)",
   "id": "7d9ce375e84375b6",
   "outputs": [],
   "execution_count": 25
  },
  {
   "metadata": {
    "ExecuteTime": {
     "end_time": "2025-01-03T04:43:04.642378Z",
     "start_time": "2025-01-03T04:43:04.638487Z"
    }
   },
   "cell_type": "code",
   "source": "X.shape",
   "id": "c1c0575240a7ef9f",
   "outputs": [
    {
     "data": {
      "text/plain": [
       "(768, 8)"
      ]
     },
     "execution_count": 26,
     "metadata": {},
     "output_type": "execute_result"
    }
   ],
   "execution_count": 26
  },
  {
   "metadata": {
    "ExecuteTime": {
     "end_time": "2025-01-03T04:43:05.563961Z",
     "start_time": "2025-01-03T04:43:05.559221Z"
    }
   },
   "cell_type": "code",
   "source": [
    "from sklearn.model_selection import train_test_split\n",
    "X_train, X_test, y_train, y_test = train_test_split(X,y,test_size=0.1,random_state=1)"
   ],
   "id": "4db72cad0b745695",
   "outputs": [],
   "execution_count": 27
  },
  {
   "metadata": {
    "ExecuteTime": {
     "end_time": "2025-01-03T06:09:10.189539Z",
     "start_time": "2025-01-03T06:09:10.186188Z"
    }
   },
   "cell_type": "code",
   "source": [
    "import tensorflow\n",
    "from tensorflow import keras\n",
    "from keras import Sequential\n",
    "from keras.layers import Dense,Dropout\n"
   ],
   "id": "924a82df79b768af",
   "outputs": [],
   "execution_count": 81
  },
  {
   "metadata": {},
   "cell_type": "code",
   "source": [
    "model = Sequential()\n",
    "model.add(Dense(32,activation='relu',input_dim=8))\n",
    "model.add(Dense(1,activation='sigmoid'))\n",
    "\n",
    "model.compile(optimizer='Adam',loss='binary_crossentropy',metrics=['accuracy'])"
   ],
   "id": "a508e9d63127595d",
   "outputs": [],
   "execution_count": null
  },
  {
   "metadata": {},
   "cell_type": "code",
   "source": "model.fit(X_train,y_train, batch_size=32,epochs=100,validation_data=(X_test,y_test))",
   "id": "12de5c10638dd6",
   "outputs": [],
   "execution_count": null
  },
  {
   "metadata": {},
   "cell_type": "markdown",
   "source": "# 1. How to select appropriate optimizer_",
   "id": "91af2d528e10fd34"
  },
  {
   "metadata": {
    "ExecuteTime": {
     "end_time": "2025-01-03T04:43:12.065170Z",
     "start_time": "2025-01-03T04:43:12.062219Z"
    }
   },
   "cell_type": "code",
   "source": "import kerastuner as kt",
   "id": "48ad4f5f67cc57d3",
   "outputs": [],
   "execution_count": 29
  },
  {
   "metadata": {
    "ExecuteTime": {
     "end_time": "2025-01-03T04:43:12.725104Z",
     "start_time": "2025-01-03T04:43:12.720539Z"
    }
   },
   "cell_type": "code",
   "source": [
    "def build_model(hp):\n",
    "    model = Sequential()\n",
    "    \n",
    "    model.add(Dense(32,activation='relu',input_dim = 8))\n",
    "    model.add(Dense(1,activation='sigmoid'))\n",
    "    \n",
    "    optimizer = hp.Choice('optimizer',values=['adam','sgd','rmsprop','adadelta'])\n",
    "    model.compile(optimizer=optimizer,loss='binary_crossentropy',metrics=['accuracy'])\n",
    "    \n",
    "    return model"
   ],
   "id": "5ebb0aa3e20502fd",
   "outputs": [],
   "execution_count": 30
  },
  {
   "metadata": {
    "ExecuteTime": {
     "end_time": "2025-01-03T04:43:13.821142Z",
     "start_time": "2025-01-03T04:43:13.807266Z"
    }
   },
   "cell_type": "code",
   "source": [
    "tuner = kt.RandomSearch(build_model,\n",
    "                        objective='val_accuracy',\n",
    "                        max_trials=5)"
   ],
   "id": "907375a81bf0b10b",
   "outputs": [
    {
     "name": "stdout",
     "output_type": "stream",
     "text": [
      "Reloading Tuner from .\\untitled_project\\tuner0.json\n"
     ]
    }
   ],
   "execution_count": 31
  },
  {
   "metadata": {
    "ExecuteTime": {
     "end_time": "2025-01-03T04:43:15.514526Z",
     "start_time": "2025-01-03T04:43:15.510428Z"
    }
   },
   "cell_type": "code",
   "source": "tuner.search(X_train,y_train,epochs=5,validation_data=(X_test,y_test))",
   "id": "e487d8e6b3dd4e77",
   "outputs": [],
   "execution_count": 32
  },
  {
   "metadata": {
    "ExecuteTime": {
     "end_time": "2025-01-03T04:45:35.848240Z",
     "start_time": "2025-01-03T04:45:35.831620Z"
    }
   },
   "cell_type": "code",
   "source": "tuner.results_summary()",
   "id": "b30b144d03fb6308",
   "outputs": [
    {
     "name": "stdout",
     "output_type": "stream",
     "text": [
      "Results summary\n",
      "Results in .\\untitled_project\n",
      "Showing 10 best trials\n",
      "Objective(name=\"val_accuracy\", direction=\"max\")\n",
      "\n",
      "Trial 2 summary\n",
      "Hyperparameters:\n",
      "optimizer: rmsprop\n",
      "Score: 0.7922077775001526\n",
      "\n",
      "Trial 0 summary\n",
      "Hyperparameters:\n",
      "optimizer: adam\n",
      "Score: 0.7662337422370911\n",
      "\n",
      "Trial 1 summary\n",
      "Hyperparameters:\n",
      "optimizer: sgd\n",
      "Score: 0.701298713684082\n",
      "\n",
      "Trial 3 summary\n",
      "Hyperparameters:\n",
      "optimizer: adadelta\n",
      "Score: 0.29870128631591797\n"
     ]
    }
   ],
   "execution_count": 36
  },
  {
   "metadata": {},
   "cell_type": "code",
   "outputs": [
    {
     "data": {
      "text/plain": [
       "{'optimizer': 'rmsprop'}"
      ]
     },
     "execution_count": 37,
     "metadata": {},
     "output_type": "execute_result"
    }
   ],
   "execution_count": 37,
   "source": "tuner.get_best_hyperparameters()[0].values",
   "id": "36924bcb37a16d58"
  },
  {
   "metadata": {
    "ExecuteTime": {
     "end_time": "2025-01-03T04:48:28.522887Z",
     "start_time": "2025-01-03T04:48:28.088954Z"
    }
   },
   "cell_type": "code",
   "source": "model = tuner.get_best_models(num_models=1)[0]",
   "id": "7e23202a7eae09e1",
   "outputs": [
    {
     "name": "stderr",
     "output_type": "stream",
     "text": [
      "C:\\Users\\HP TECHNOLOGY\\anaconda3\\Lib\\site-packages\\keras\\src\\layers\\core\\dense.py:87: UserWarning: Do not pass an `input_shape`/`input_dim` argument to a layer. When using Sequential models, prefer using an `Input(shape)` object as the first layer in the model instead.\n",
      "  super().__init__(activity_regularizer=activity_regularizer, **kwargs)\n",
      "C:\\Users\\HP TECHNOLOGY\\anaconda3\\Lib\\site-packages\\keras\\src\\saving\\saving_lib.py:713: UserWarning: Skipping variable loading for optimizer 'rmsprop', because it has 2 variables whereas the saved optimizer has 6 variables. \n",
      "  saveable.load_own_variables(weights_store.get(inner_path))\n"
     ]
    }
   ],
   "execution_count": 38
  },
  {
   "metadata": {
    "ExecuteTime": {
     "end_time": "2025-01-03T04:48:41.386008Z",
     "start_time": "2025-01-03T04:48:41.366983Z"
    }
   },
   "cell_type": "code",
   "source": "model.summary()",
   "id": "f7cc9cfd24ad4f12",
   "outputs": [
    {
     "data": {
      "text/plain": [
       "\u001B[1mModel: \"sequential\"\u001B[0m\n"
      ],
      "text/html": [
       "<pre style=\"white-space:pre;overflow-x:auto;line-height:normal;font-family:Menlo,'DejaVu Sans Mono',consolas,'Courier New',monospace\"><span style=\"font-weight: bold\">Model: \"sequential\"</span>\n",
       "</pre>\n"
      ]
     },
     "metadata": {},
     "output_type": "display_data"
    },
    {
     "data": {
      "text/plain": [
       "┏━━━━━━━━━━━━━━━━━━━━━━━━━━━━━━━━━┳━━━━━━━━━━━━━━━━━━━━━━━━┳━━━━━━━━━━━━━━━┓\n",
       "┃\u001B[1m \u001B[0m\u001B[1mLayer (type)                   \u001B[0m\u001B[1m \u001B[0m┃\u001B[1m \u001B[0m\u001B[1mOutput Shape          \u001B[0m\u001B[1m \u001B[0m┃\u001B[1m \u001B[0m\u001B[1m      Param #\u001B[0m\u001B[1m \u001B[0m┃\n",
       "┡━━━━━━━━━━━━━━━━━━━━━━━━━━━━━━━━━╇━━━━━━━━━━━━━━━━━━━━━━━━╇━━━━━━━━━━━━━━━┩\n",
       "│ dense (\u001B[38;5;33mDense\u001B[0m)                   │ (\u001B[38;5;45mNone\u001B[0m, \u001B[38;5;34m32\u001B[0m)             │           \u001B[38;5;34m288\u001B[0m │\n",
       "├─────────────────────────────────┼────────────────────────┼───────────────┤\n",
       "│ dense_1 (\u001B[38;5;33mDense\u001B[0m)                 │ (\u001B[38;5;45mNone\u001B[0m, \u001B[38;5;34m1\u001B[0m)              │            \u001B[38;5;34m33\u001B[0m │\n",
       "└─────────────────────────────────┴────────────────────────┴───────────────┘\n"
      ],
      "text/html": [
       "<pre style=\"white-space:pre;overflow-x:auto;line-height:normal;font-family:Menlo,'DejaVu Sans Mono',consolas,'Courier New',monospace\">┏━━━━━━━━━━━━━━━━━━━━━━━━━━━━━━━━━┳━━━━━━━━━━━━━━━━━━━━━━━━┳━━━━━━━━━━━━━━━┓\n",
       "┃<span style=\"font-weight: bold\"> Layer (type)                    </span>┃<span style=\"font-weight: bold\"> Output Shape           </span>┃<span style=\"font-weight: bold\">       Param # </span>┃\n",
       "┡━━━━━━━━━━━━━━━━━━━━━━━━━━━━━━━━━╇━━━━━━━━━━━━━━━━━━━━━━━━╇━━━━━━━━━━━━━━━┩\n",
       "│ dense (<span style=\"color: #0087ff; text-decoration-color: #0087ff\">Dense</span>)                   │ (<span style=\"color: #00d7ff; text-decoration-color: #00d7ff\">None</span>, <span style=\"color: #00af00; text-decoration-color: #00af00\">32</span>)             │           <span style=\"color: #00af00; text-decoration-color: #00af00\">288</span> │\n",
       "├─────────────────────────────────┼────────────────────────┼───────────────┤\n",
       "│ dense_1 (<span style=\"color: #0087ff; text-decoration-color: #0087ff\">Dense</span>)                 │ (<span style=\"color: #00d7ff; text-decoration-color: #00d7ff\">None</span>, <span style=\"color: #00af00; text-decoration-color: #00af00\">1</span>)              │            <span style=\"color: #00af00; text-decoration-color: #00af00\">33</span> │\n",
       "└─────────────────────────────────┴────────────────────────┴───────────────┘\n",
       "</pre>\n"
      ]
     },
     "metadata": {},
     "output_type": "display_data"
    },
    {
     "data": {
      "text/plain": [
       "\u001B[1m Total params: \u001B[0m\u001B[38;5;34m321\u001B[0m (1.25 KB)\n"
      ],
      "text/html": [
       "<pre style=\"white-space:pre;overflow-x:auto;line-height:normal;font-family:Menlo,'DejaVu Sans Mono',consolas,'Courier New',monospace\"><span style=\"font-weight: bold\"> Total params: </span><span style=\"color: #00af00; text-decoration-color: #00af00\">321</span> (1.25 KB)\n",
       "</pre>\n"
      ]
     },
     "metadata": {},
     "output_type": "display_data"
    },
    {
     "data": {
      "text/plain": [
       "\u001B[1m Trainable params: \u001B[0m\u001B[38;5;34m321\u001B[0m (1.25 KB)\n"
      ],
      "text/html": [
       "<pre style=\"white-space:pre;overflow-x:auto;line-height:normal;font-family:Menlo,'DejaVu Sans Mono',consolas,'Courier New',monospace\"><span style=\"font-weight: bold\"> Trainable params: </span><span style=\"color: #00af00; text-decoration-color: #00af00\">321</span> (1.25 KB)\n",
       "</pre>\n"
      ]
     },
     "metadata": {},
     "output_type": "display_data"
    },
    {
     "data": {
      "text/plain": [
       "\u001B[1m Non-trainable params: \u001B[0m\u001B[38;5;34m0\u001B[0m (0.00 B)\n"
      ],
      "text/html": [
       "<pre style=\"white-space:pre;overflow-x:auto;line-height:normal;font-family:Menlo,'DejaVu Sans Mono',consolas,'Courier New',monospace\"><span style=\"font-weight: bold\"> Non-trainable params: </span><span style=\"color: #00af00; text-decoration-color: #00af00\">0</span> (0.00 B)\n",
       "</pre>\n"
      ]
     },
     "metadata": {},
     "output_type": "display_data"
    }
   ],
   "execution_count": 39
  },
  {
   "metadata": {
    "ExecuteTime": {
     "end_time": "2025-01-03T04:50:32.100709Z",
     "start_time": "2025-01-03T04:50:26.278858Z"
    }
   },
   "cell_type": "code",
   "source": "model.fit(X_train,y_train,batch_size=32,epochs=100,initial_epoch = 6,validation_data=(X_test,y_test))",
   "id": "b0f9b1a8fc3054c4",
   "outputs": [
    {
     "name": "stdout",
     "output_type": "stream",
     "text": [
      "Epoch 7/100\n",
      "\u001B[1m22/22\u001B[0m \u001B[32m━━━━━━━━━━━━━━━━━━━━\u001B[0m\u001B[37m\u001B[0m \u001B[1m1s\u001B[0m 8ms/step - accuracy: 0.7452 - loss: 0.5500 - val_accuracy: 0.7792 - val_loss: 0.5242\n",
      "Epoch 8/100\n",
      "\u001B[1m22/22\u001B[0m \u001B[32m━━━━━━━━━━━━━━━━━━━━\u001B[0m\u001B[37m\u001B[0m \u001B[1m0s\u001B[0m 2ms/step - accuracy: 0.7797 - loss: 0.5210 - val_accuracy: 0.7662 - val_loss: 0.5089\n",
      "Epoch 9/100\n",
      "\u001B[1m22/22\u001B[0m \u001B[32m━━━━━━━━━━━━━━━━━━━━\u001B[0m\u001B[37m\u001B[0m \u001B[1m0s\u001B[0m 2ms/step - accuracy: 0.7668 - loss: 0.5177 - val_accuracy: 0.7662 - val_loss: 0.4987\n",
      "Epoch 10/100\n",
      "\u001B[1m22/22\u001B[0m \u001B[32m━━━━━━━━━━━━━━━━━━━━\u001B[0m\u001B[37m\u001B[0m \u001B[1m0s\u001B[0m 2ms/step - accuracy: 0.7843 - loss: 0.5032 - val_accuracy: 0.7403 - val_loss: 0.4923\n",
      "Epoch 11/100\n",
      "\u001B[1m22/22\u001B[0m \u001B[32m━━━━━━━━━━━━━━━━━━━━\u001B[0m\u001B[37m\u001B[0m \u001B[1m0s\u001B[0m 2ms/step - accuracy: 0.7756 - loss: 0.4937 - val_accuracy: 0.7532 - val_loss: 0.4876\n",
      "Epoch 12/100\n",
      "\u001B[1m22/22\u001B[0m \u001B[32m━━━━━━━━━━━━━━━━━━━━\u001B[0m\u001B[37m\u001B[0m \u001B[1m0s\u001B[0m 2ms/step - accuracy: 0.7859 - loss: 0.5064 - val_accuracy: 0.7532 - val_loss: 0.4851\n",
      "Epoch 13/100\n",
      "\u001B[1m22/22\u001B[0m \u001B[32m━━━━━━━━━━━━━━━━━━━━\u001B[0m\u001B[37m\u001B[0m \u001B[1m0s\u001B[0m 1ms/step - accuracy: 0.7814 - loss: 0.4811 - val_accuracy: 0.7532 - val_loss: 0.4812\n",
      "Epoch 14/100\n",
      "\u001B[1m22/22\u001B[0m \u001B[32m━━━━━━━━━━━━━━━━━━━━\u001B[0m\u001B[37m\u001B[0m \u001B[1m0s\u001B[0m 2ms/step - accuracy: 0.7953 - loss: 0.4724 - val_accuracy: 0.7532 - val_loss: 0.4778\n",
      "Epoch 15/100\n",
      "\u001B[1m22/22\u001B[0m \u001B[32m━━━━━━━━━━━━━━━━━━━━\u001B[0m\u001B[37m\u001B[0m \u001B[1m0s\u001B[0m 2ms/step - accuracy: 0.7907 - loss: 0.4644 - val_accuracy: 0.7662 - val_loss: 0.4741\n",
      "Epoch 16/100\n",
      "\u001B[1m22/22\u001B[0m \u001B[32m━━━━━━━━━━━━━━━━━━━━\u001B[0m\u001B[37m\u001B[0m \u001B[1m0s\u001B[0m 2ms/step - accuracy: 0.7881 - loss: 0.4615 - val_accuracy: 0.7662 - val_loss: 0.4729\n",
      "Epoch 17/100\n",
      "\u001B[1m22/22\u001B[0m \u001B[32m━━━━━━━━━━━━━━━━━━━━\u001B[0m\u001B[37m\u001B[0m \u001B[1m0s\u001B[0m 1ms/step - accuracy: 0.7860 - loss: 0.4627 - val_accuracy: 0.7792 - val_loss: 0.4716\n",
      "Epoch 18/100\n",
      "\u001B[1m22/22\u001B[0m \u001B[32m━━━━━━━━━━━━━━━━━━━━\u001B[0m\u001B[37m\u001B[0m \u001B[1m0s\u001B[0m 2ms/step - accuracy: 0.7992 - loss: 0.4576 - val_accuracy: 0.7922 - val_loss: 0.4708\n",
      "Epoch 19/100\n",
      "\u001B[1m22/22\u001B[0m \u001B[32m━━━━━━━━━━━━━━━━━━━━\u001B[0m\u001B[37m\u001B[0m \u001B[1m0s\u001B[0m 2ms/step - accuracy: 0.7863 - loss: 0.4775 - val_accuracy: 0.7792 - val_loss: 0.4694\n",
      "Epoch 20/100\n",
      "\u001B[1m22/22\u001B[0m \u001B[32m━━━━━━━━━━━━━━━━━━━━\u001B[0m\u001B[37m\u001B[0m \u001B[1m0s\u001B[0m 2ms/step - accuracy: 0.8015 - loss: 0.4593 - val_accuracy: 0.7792 - val_loss: 0.4689\n",
      "Epoch 21/100\n",
      "\u001B[1m22/22\u001B[0m \u001B[32m━━━━━━━━━━━━━━━━━━━━\u001B[0m\u001B[37m\u001B[0m \u001B[1m0s\u001B[0m 1ms/step - accuracy: 0.8079 - loss: 0.4400 - val_accuracy: 0.7792 - val_loss: 0.4677\n",
      "Epoch 22/100\n",
      "\u001B[1m22/22\u001B[0m \u001B[32m━━━━━━━━━━━━━━━━━━━━\u001B[0m\u001B[37m\u001B[0m \u001B[1m0s\u001B[0m 2ms/step - accuracy: 0.7968 - loss: 0.4446 - val_accuracy: 0.7792 - val_loss: 0.4656\n",
      "Epoch 23/100\n",
      "\u001B[1m22/22\u001B[0m \u001B[32m━━━━━━━━━━━━━━━━━━━━\u001B[0m\u001B[37m\u001B[0m \u001B[1m0s\u001B[0m 2ms/step - accuracy: 0.8120 - loss: 0.4399 - val_accuracy: 0.7792 - val_loss: 0.4647\n",
      "Epoch 24/100\n",
      "\u001B[1m22/22\u001B[0m \u001B[32m━━━━━━━━━━━━━━━━━━━━\u001B[0m\u001B[37m\u001B[0m \u001B[1m0s\u001B[0m 1ms/step - accuracy: 0.7937 - loss: 0.4476 - val_accuracy: 0.7792 - val_loss: 0.4643\n",
      "Epoch 25/100\n",
      "\u001B[1m22/22\u001B[0m \u001B[32m━━━━━━━━━━━━━━━━━━━━\u001B[0m\u001B[37m\u001B[0m \u001B[1m0s\u001B[0m 2ms/step - accuracy: 0.7882 - loss: 0.4607 - val_accuracy: 0.7792 - val_loss: 0.4635\n",
      "Epoch 26/100\n",
      "\u001B[1m22/22\u001B[0m \u001B[32m━━━━━━━━━━━━━━━━━━━━\u001B[0m\u001B[37m\u001B[0m \u001B[1m0s\u001B[0m 2ms/step - accuracy: 0.8087 - loss: 0.4283 - val_accuracy: 0.7792 - val_loss: 0.4623\n",
      "Epoch 27/100\n",
      "\u001B[1m22/22\u001B[0m \u001B[32m━━━━━━━━━━━━━━━━━━━━\u001B[0m\u001B[37m\u001B[0m \u001B[1m0s\u001B[0m 2ms/step - accuracy: 0.7830 - loss: 0.4826 - val_accuracy: 0.7792 - val_loss: 0.4614\n",
      "Epoch 28/100\n",
      "\u001B[1m22/22\u001B[0m \u001B[32m━━━━━━━━━━━━━━━━━━━━\u001B[0m\u001B[37m\u001B[0m \u001B[1m0s\u001B[0m 1ms/step - accuracy: 0.7974 - loss: 0.4485 - val_accuracy: 0.7792 - val_loss: 0.4614\n",
      "Epoch 29/100\n",
      "\u001B[1m22/22\u001B[0m \u001B[32m━━━━━━━━━━━━━━━━━━━━\u001B[0m\u001B[37m\u001B[0m \u001B[1m0s\u001B[0m 2ms/step - accuracy: 0.7838 - loss: 0.4472 - val_accuracy: 0.7792 - val_loss: 0.4606\n",
      "Epoch 30/100\n",
      "\u001B[1m22/22\u001B[0m \u001B[32m━━━━━━━━━━━━━━━━━━━━\u001B[0m\u001B[37m\u001B[0m \u001B[1m0s\u001B[0m 1ms/step - accuracy: 0.8018 - loss: 0.4478 - val_accuracy: 0.7792 - val_loss: 0.4605\n",
      "Epoch 31/100\n",
      "\u001B[1m22/22\u001B[0m \u001B[32m━━━━━━━━━━━━━━━━━━━━\u001B[0m\u001B[37m\u001B[0m \u001B[1m0s\u001B[0m 2ms/step - accuracy: 0.7821 - loss: 0.4550 - val_accuracy: 0.7792 - val_loss: 0.4595\n",
      "Epoch 32/100\n",
      "\u001B[1m22/22\u001B[0m \u001B[32m━━━━━━━━━━━━━━━━━━━━\u001B[0m\u001B[37m\u001B[0m \u001B[1m0s\u001B[0m 2ms/step - accuracy: 0.7825 - loss: 0.4584 - val_accuracy: 0.7792 - val_loss: 0.4590\n",
      "Epoch 33/100\n",
      "\u001B[1m22/22\u001B[0m \u001B[32m━━━━━━━━━━━━━━━━━━━━\u001B[0m\u001B[37m\u001B[0m \u001B[1m0s\u001B[0m 1ms/step - accuracy: 0.7930 - loss: 0.4530 - val_accuracy: 0.7792 - val_loss: 0.4580\n",
      "Epoch 34/100\n",
      "\u001B[1m22/22\u001B[0m \u001B[32m━━━━━━━━━━━━━━━━━━━━\u001B[0m\u001B[37m\u001B[0m \u001B[1m0s\u001B[0m 2ms/step - accuracy: 0.7968 - loss: 0.4499 - val_accuracy: 0.7792 - val_loss: 0.4572\n",
      "Epoch 35/100\n",
      "\u001B[1m22/22\u001B[0m \u001B[32m━━━━━━━━━━━━━━━━━━━━\u001B[0m\u001B[37m\u001B[0m \u001B[1m0s\u001B[0m 2ms/step - accuracy: 0.7758 - loss: 0.4566 - val_accuracy: 0.7792 - val_loss: 0.4569\n",
      "Epoch 36/100\n",
      "\u001B[1m22/22\u001B[0m \u001B[32m━━━━━━━━━━━━━━━━━━━━\u001B[0m\u001B[37m\u001B[0m \u001B[1m0s\u001B[0m 2ms/step - accuracy: 0.7972 - loss: 0.4373 - val_accuracy: 0.7792 - val_loss: 0.4559\n",
      "Epoch 37/100\n",
      "\u001B[1m22/22\u001B[0m \u001B[32m━━━━━━━━━━━━━━━━━━━━\u001B[0m\u001B[37m\u001B[0m \u001B[1m0s\u001B[0m 2ms/step - accuracy: 0.7714 - loss: 0.4670 - val_accuracy: 0.7792 - val_loss: 0.4561\n",
      "Epoch 38/100\n",
      "\u001B[1m22/22\u001B[0m \u001B[32m━━━━━━━━━━━━━━━━━━━━\u001B[0m\u001B[37m\u001B[0m \u001B[1m0s\u001B[0m 2ms/step - accuracy: 0.7916 - loss: 0.4464 - val_accuracy: 0.7792 - val_loss: 0.4559\n",
      "Epoch 39/100\n",
      "\u001B[1m22/22\u001B[0m \u001B[32m━━━━━━━━━━━━━━━━━━━━\u001B[0m\u001B[37m\u001B[0m \u001B[1m0s\u001B[0m 1ms/step - accuracy: 0.7757 - loss: 0.4460 - val_accuracy: 0.7792 - val_loss: 0.4554\n",
      "Epoch 40/100\n",
      "\u001B[1m22/22\u001B[0m \u001B[32m━━━━━━━━━━━━━━━━━━━━\u001B[0m\u001B[37m\u001B[0m \u001B[1m0s\u001B[0m 1ms/step - accuracy: 0.7883 - loss: 0.4420 - val_accuracy: 0.7792 - val_loss: 0.4551\n",
      "Epoch 41/100\n",
      "\u001B[1m22/22\u001B[0m \u001B[32m━━━━━━━━━━━━━━━━━━━━\u001B[0m\u001B[37m\u001B[0m \u001B[1m0s\u001B[0m 2ms/step - accuracy: 0.7579 - loss: 0.4648 - val_accuracy: 0.7922 - val_loss: 0.4544\n",
      "Epoch 42/100\n",
      "\u001B[1m22/22\u001B[0m \u001B[32m━━━━━━━━━━━━━━━━━━━━\u001B[0m\u001B[37m\u001B[0m \u001B[1m0s\u001B[0m 2ms/step - accuracy: 0.8022 - loss: 0.4302 - val_accuracy: 0.7792 - val_loss: 0.4530\n",
      "Epoch 43/100\n",
      "\u001B[1m22/22\u001B[0m \u001B[32m━━━━━━━━━━━━━━━━━━━━\u001B[0m\u001B[37m\u001B[0m \u001B[1m0s\u001B[0m 1ms/step - accuracy: 0.7928 - loss: 0.4403 - val_accuracy: 0.7792 - val_loss: 0.4523\n",
      "Epoch 44/100\n",
      "\u001B[1m22/22\u001B[0m \u001B[32m━━━━━━━━━━━━━━━━━━━━\u001B[0m\u001B[37m\u001B[0m \u001B[1m0s\u001B[0m 2ms/step - accuracy: 0.7757 - loss: 0.4417 - val_accuracy: 0.7792 - val_loss: 0.4520\n",
      "Epoch 45/100\n",
      "\u001B[1m22/22\u001B[0m \u001B[32m━━━━━━━━━━━━━━━━━━━━\u001B[0m\u001B[37m\u001B[0m \u001B[1m0s\u001B[0m 1ms/step - accuracy: 0.7958 - loss: 0.4172 - val_accuracy: 0.7792 - val_loss: 0.4520\n",
      "Epoch 46/100\n",
      "\u001B[1m22/22\u001B[0m \u001B[32m━━━━━━━━━━━━━━━━━━━━\u001B[0m\u001B[37m\u001B[0m \u001B[1m0s\u001B[0m 2ms/step - accuracy: 0.8085 - loss: 0.4144 - val_accuracy: 0.7792 - val_loss: 0.4508\n",
      "Epoch 47/100\n",
      "\u001B[1m22/22\u001B[0m \u001B[32m━━━━━━━━━━━━━━━━━━━━\u001B[0m\u001B[37m\u001B[0m \u001B[1m0s\u001B[0m 2ms/step - accuracy: 0.7816 - loss: 0.4488 - val_accuracy: 0.7792 - val_loss: 0.4498\n",
      "Epoch 48/100\n",
      "\u001B[1m22/22\u001B[0m \u001B[32m━━━━━━━━━━━━━━━━━━━━\u001B[0m\u001B[37m\u001B[0m \u001B[1m0s\u001B[0m 2ms/step - accuracy: 0.7995 - loss: 0.4204 - val_accuracy: 0.7792 - val_loss: 0.4492\n",
      "Epoch 49/100\n",
      "\u001B[1m22/22\u001B[0m \u001B[32m━━━━━━━━━━━━━━━━━━━━\u001B[0m\u001B[37m\u001B[0m \u001B[1m0s\u001B[0m 2ms/step - accuracy: 0.7896 - loss: 0.4256 - val_accuracy: 0.7792 - val_loss: 0.4487\n",
      "Epoch 50/100\n",
      "\u001B[1m22/22\u001B[0m \u001B[32m━━━━━━━━━━━━━━━━━━━━\u001B[0m\u001B[37m\u001B[0m \u001B[1m0s\u001B[0m 2ms/step - accuracy: 0.7740 - loss: 0.4383 - val_accuracy: 0.7792 - val_loss: 0.4485\n",
      "Epoch 51/100\n",
      "\u001B[1m22/22\u001B[0m \u001B[32m━━━━━━━━━━━━━━━━━━━━\u001B[0m\u001B[37m\u001B[0m \u001B[1m0s\u001B[0m 1ms/step - accuracy: 0.7958 - loss: 0.4269 - val_accuracy: 0.7792 - val_loss: 0.4474\n",
      "Epoch 52/100\n",
      "\u001B[1m22/22\u001B[0m \u001B[32m━━━━━━━━━━━━━━━━━━━━\u001B[0m\u001B[37m\u001B[0m \u001B[1m0s\u001B[0m 2ms/step - accuracy: 0.7593 - loss: 0.4727 - val_accuracy: 0.7792 - val_loss: 0.4479\n",
      "Epoch 53/100\n",
      "\u001B[1m22/22\u001B[0m \u001B[32m━━━━━━━━━━━━━━━━━━━━\u001B[0m\u001B[37m\u001B[0m \u001B[1m0s\u001B[0m 1ms/step - accuracy: 0.7804 - loss: 0.4304 - val_accuracy: 0.7792 - val_loss: 0.4474\n",
      "Epoch 54/100\n",
      "\u001B[1m22/22\u001B[0m \u001B[32m━━━━━━━━━━━━━━━━━━━━\u001B[0m\u001B[37m\u001B[0m \u001B[1m0s\u001B[0m 2ms/step - accuracy: 0.8086 - loss: 0.4064 - val_accuracy: 0.7792 - val_loss: 0.4468\n",
      "Epoch 55/100\n",
      "\u001B[1m22/22\u001B[0m \u001B[32m━━━━━━━━━━━━━━━━━━━━\u001B[0m\u001B[37m\u001B[0m \u001B[1m0s\u001B[0m 2ms/step - accuracy: 0.7716 - loss: 0.4319 - val_accuracy: 0.7792 - val_loss: 0.4465\n",
      "Epoch 56/100\n",
      "\u001B[1m22/22\u001B[0m \u001B[32m━━━━━━━━━━━━━━━━━━━━\u001B[0m\u001B[37m\u001B[0m \u001B[1m0s\u001B[0m 2ms/step - accuracy: 0.8110 - loss: 0.4114 - val_accuracy: 0.7792 - val_loss: 0.4453\n",
      "Epoch 57/100\n",
      "\u001B[1m22/22\u001B[0m \u001B[32m━━━━━━━━━━━━━━━━━━━━\u001B[0m\u001B[37m\u001B[0m \u001B[1m0s\u001B[0m 1ms/step - accuracy: 0.7664 - loss: 0.4386 - val_accuracy: 0.7792 - val_loss: 0.4454\n",
      "Epoch 58/100\n",
      "\u001B[1m22/22\u001B[0m \u001B[32m━━━━━━━━━━━━━━━━━━━━\u001B[0m\u001B[37m\u001B[0m \u001B[1m0s\u001B[0m 2ms/step - accuracy: 0.7633 - loss: 0.4678 - val_accuracy: 0.7792 - val_loss: 0.4453\n",
      "Epoch 59/100\n",
      "\u001B[1m22/22\u001B[0m \u001B[32m━━━━━━━━━━━━━━━━━━━━\u001B[0m\u001B[37m\u001B[0m \u001B[1m0s\u001B[0m 2ms/step - accuracy: 0.8039 - loss: 0.3959 - val_accuracy: 0.7792 - val_loss: 0.4444\n",
      "Epoch 60/100\n",
      "\u001B[1m22/22\u001B[0m \u001B[32m━━━━━━━━━━━━━━━━━━━━\u001B[0m\u001B[37m\u001B[0m \u001B[1m0s\u001B[0m 2ms/step - accuracy: 0.7732 - loss: 0.4499 - val_accuracy: 0.7792 - val_loss: 0.4448\n",
      "Epoch 61/100\n",
      "\u001B[1m22/22\u001B[0m \u001B[32m━━━━━━━━━━━━━━━━━━━━\u001B[0m\u001B[37m\u001B[0m \u001B[1m0s\u001B[0m 2ms/step - accuracy: 0.8064 - loss: 0.4127 - val_accuracy: 0.7792 - val_loss: 0.4435\n",
      "Epoch 62/100\n",
      "\u001B[1m22/22\u001B[0m \u001B[32m━━━━━━━━━━━━━━━━━━━━\u001B[0m\u001B[37m\u001B[0m \u001B[1m0s\u001B[0m 1ms/step - accuracy: 0.8000 - loss: 0.4246 - val_accuracy: 0.7792 - val_loss: 0.4430\n",
      "Epoch 63/100\n",
      "\u001B[1m22/22\u001B[0m \u001B[32m━━━━━━━━━━━━━━━━━━━━\u001B[0m\u001B[37m\u001B[0m \u001B[1m0s\u001B[0m 2ms/step - accuracy: 0.8112 - loss: 0.4130 - val_accuracy: 0.7792 - val_loss: 0.4434\n",
      "Epoch 64/100\n",
      "\u001B[1m22/22\u001B[0m \u001B[32m━━━━━━━━━━━━━━━━━━━━\u001B[0m\u001B[37m\u001B[0m \u001B[1m0s\u001B[0m 2ms/step - accuracy: 0.7607 - loss: 0.4417 - val_accuracy: 0.7792 - val_loss: 0.4433\n",
      "Epoch 65/100\n",
      "\u001B[1m22/22\u001B[0m \u001B[32m━━━━━━━━━━━━━━━━━━━━\u001B[0m\u001B[37m\u001B[0m \u001B[1m0s\u001B[0m 2ms/step - accuracy: 0.8014 - loss: 0.4254 - val_accuracy: 0.7792 - val_loss: 0.4428\n",
      "Epoch 66/100\n",
      "\u001B[1m22/22\u001B[0m \u001B[32m━━━━━━━━━━━━━━━━━━━━\u001B[0m\u001B[37m\u001B[0m \u001B[1m0s\u001B[0m 2ms/step - accuracy: 0.7757 - loss: 0.4415 - val_accuracy: 0.7792 - val_loss: 0.4433\n",
      "Epoch 67/100\n",
      "\u001B[1m22/22\u001B[0m \u001B[32m━━━━━━━━━━━━━━━━━━━━\u001B[0m\u001B[37m\u001B[0m \u001B[1m0s\u001B[0m 2ms/step - accuracy: 0.7760 - loss: 0.4364 - val_accuracy: 0.7792 - val_loss: 0.4431\n",
      "Epoch 68/100\n",
      "\u001B[1m22/22\u001B[0m \u001B[32m━━━━━━━━━━━━━━━━━━━━\u001B[0m\u001B[37m\u001B[0m \u001B[1m0s\u001B[0m 2ms/step - accuracy: 0.7831 - loss: 0.4384 - val_accuracy: 0.7792 - val_loss: 0.4422\n",
      "Epoch 69/100\n",
      "\u001B[1m22/22\u001B[0m \u001B[32m━━━━━━━━━━━━━━━━━━━━\u001B[0m\u001B[37m\u001B[0m \u001B[1m0s\u001B[0m 2ms/step - accuracy: 0.7754 - loss: 0.4408 - val_accuracy: 0.7792 - val_loss: 0.4412\n",
      "Epoch 70/100\n",
      "\u001B[1m22/22\u001B[0m \u001B[32m━━━━━━━━━━━━━━━━━━━━\u001B[0m\u001B[37m\u001B[0m \u001B[1m0s\u001B[0m 1ms/step - accuracy: 0.7780 - loss: 0.4397 - val_accuracy: 0.7792 - val_loss: 0.4412\n",
      "Epoch 71/100\n",
      "\u001B[1m22/22\u001B[0m \u001B[32m━━━━━━━━━━━━━━━━━━━━\u001B[0m\u001B[37m\u001B[0m \u001B[1m0s\u001B[0m 1ms/step - accuracy: 0.7763 - loss: 0.4501 - val_accuracy: 0.7792 - val_loss: 0.4412\n",
      "Epoch 72/100\n",
      "\u001B[1m22/22\u001B[0m \u001B[32m━━━━━━━━━━━━━━━━━━━━\u001B[0m\u001B[37m\u001B[0m \u001B[1m0s\u001B[0m 2ms/step - accuracy: 0.8113 - loss: 0.4132 - val_accuracy: 0.7792 - val_loss: 0.4411\n",
      "Epoch 73/100\n",
      "\u001B[1m22/22\u001B[0m \u001B[32m━━━━━━━━━━━━━━━━━━━━\u001B[0m\u001B[37m\u001B[0m \u001B[1m0s\u001B[0m 2ms/step - accuracy: 0.7936 - loss: 0.4258 - val_accuracy: 0.7792 - val_loss: 0.4405\n",
      "Epoch 74/100\n",
      "\u001B[1m22/22\u001B[0m \u001B[32m━━━━━━━━━━━━━━━━━━━━\u001B[0m\u001B[37m\u001B[0m \u001B[1m0s\u001B[0m 2ms/step - accuracy: 0.7790 - loss: 0.4418 - val_accuracy: 0.7922 - val_loss: 0.4400\n",
      "Epoch 75/100\n",
      "\u001B[1m22/22\u001B[0m \u001B[32m━━━━━━━━━━━━━━━━━━━━\u001B[0m\u001B[37m\u001B[0m \u001B[1m0s\u001B[0m 1ms/step - accuracy: 0.8008 - loss: 0.4028 - val_accuracy: 0.7922 - val_loss: 0.4394\n",
      "Epoch 76/100\n",
      "\u001B[1m22/22\u001B[0m \u001B[32m━━━━━━━━━━━━━━━━━━━━\u001B[0m\u001B[37m\u001B[0m \u001B[1m0s\u001B[0m 2ms/step - accuracy: 0.8004 - loss: 0.4146 - val_accuracy: 0.7922 - val_loss: 0.4383\n",
      "Epoch 77/100\n",
      "\u001B[1m22/22\u001B[0m \u001B[32m━━━━━━━━━━━━━━━━━━━━\u001B[0m\u001B[37m\u001B[0m \u001B[1m0s\u001B[0m 2ms/step - accuracy: 0.7826 - loss: 0.4406 - val_accuracy: 0.7922 - val_loss: 0.4387\n",
      "Epoch 78/100\n",
      "\u001B[1m22/22\u001B[0m \u001B[32m━━━━━━━━━━━━━━━━━━━━\u001B[0m\u001B[37m\u001B[0m \u001B[1m0s\u001B[0m 2ms/step - accuracy: 0.7536 - loss: 0.4503 - val_accuracy: 0.7792 - val_loss: 0.4389\n",
      "Epoch 79/100\n",
      "\u001B[1m22/22\u001B[0m \u001B[32m━━━━━━━━━━━━━━━━━━━━\u001B[0m\u001B[37m\u001B[0m \u001B[1m0s\u001B[0m 2ms/step - accuracy: 0.7957 - loss: 0.4088 - val_accuracy: 0.7792 - val_loss: 0.4383\n",
      "Epoch 80/100\n",
      "\u001B[1m22/22\u001B[0m \u001B[32m━━━━━━━━━━━━━━━━━━━━\u001B[0m\u001B[37m\u001B[0m \u001B[1m0s\u001B[0m 1ms/step - accuracy: 0.7967 - loss: 0.4203 - val_accuracy: 0.7792 - val_loss: 0.4380\n",
      "Epoch 81/100\n",
      "\u001B[1m22/22\u001B[0m \u001B[32m━━━━━━━━━━━━━━━━━━━━\u001B[0m\u001B[37m\u001B[0m \u001B[1m0s\u001B[0m 2ms/step - accuracy: 0.7621 - loss: 0.4407 - val_accuracy: 0.7792 - val_loss: 0.4371\n",
      "Epoch 82/100\n",
      "\u001B[1m22/22\u001B[0m \u001B[32m━━━━━━━━━━━━━━━━━━━━\u001B[0m\u001B[37m\u001B[0m \u001B[1m0s\u001B[0m 2ms/step - accuracy: 0.7755 - loss: 0.4517 - val_accuracy: 0.7792 - val_loss: 0.4373\n",
      "Epoch 83/100\n",
      "\u001B[1m22/22\u001B[0m \u001B[32m━━━━━━━━━━━━━━━━━━━━\u001B[0m\u001B[37m\u001B[0m \u001B[1m0s\u001B[0m 2ms/step - accuracy: 0.8073 - loss: 0.4216 - val_accuracy: 0.7792 - val_loss: 0.4369\n",
      "Epoch 84/100\n",
      "\u001B[1m22/22\u001B[0m \u001B[32m━━━━━━━━━━━━━━━━━━━━\u001B[0m\u001B[37m\u001B[0m \u001B[1m0s\u001B[0m 1ms/step - accuracy: 0.7901 - loss: 0.4237 - val_accuracy: 0.7922 - val_loss: 0.4367\n",
      "Epoch 85/100\n",
      "\u001B[1m22/22\u001B[0m \u001B[32m━━━━━━━━━━━━━━━━━━━━\u001B[0m\u001B[37m\u001B[0m \u001B[1m0s\u001B[0m 1ms/step - accuracy: 0.7887 - loss: 0.4272 - val_accuracy: 0.7922 - val_loss: 0.4374\n",
      "Epoch 86/100\n",
      "\u001B[1m22/22\u001B[0m \u001B[32m━━━━━━━━━━━━━━━━━━━━\u001B[0m\u001B[37m\u001B[0m \u001B[1m0s\u001B[0m 1ms/step - accuracy: 0.7924 - loss: 0.4151 - val_accuracy: 0.7792 - val_loss: 0.4378\n",
      "Epoch 87/100\n",
      "\u001B[1m22/22\u001B[0m \u001B[32m━━━━━━━━━━━━━━━━━━━━\u001B[0m\u001B[37m\u001B[0m \u001B[1m0s\u001B[0m 2ms/step - accuracy: 0.7870 - loss: 0.4345 - val_accuracy: 0.7922 - val_loss: 0.4371\n",
      "Epoch 88/100\n",
      "\u001B[1m22/22\u001B[0m \u001B[32m━━━━━━━━━━━━━━━━━━━━\u001B[0m\u001B[37m\u001B[0m \u001B[1m0s\u001B[0m 2ms/step - accuracy: 0.7999 - loss: 0.4034 - val_accuracy: 0.7922 - val_loss: 0.4375\n",
      "Epoch 89/100\n",
      "\u001B[1m22/22\u001B[0m \u001B[32m━━━━━━━━━━━━━━━━━━━━\u001B[0m\u001B[37m\u001B[0m \u001B[1m0s\u001B[0m 2ms/step - accuracy: 0.8039 - loss: 0.3901 - val_accuracy: 0.7922 - val_loss: 0.4360\n",
      "Epoch 90/100\n",
      "\u001B[1m22/22\u001B[0m \u001B[32m━━━━━━━━━━━━━━━━━━━━\u001B[0m\u001B[37m\u001B[0m \u001B[1m0s\u001B[0m 2ms/step - accuracy: 0.8016 - loss: 0.4137 - val_accuracy: 0.7922 - val_loss: 0.4361\n",
      "Epoch 91/100\n",
      "\u001B[1m22/22\u001B[0m \u001B[32m━━━━━━━━━━━━━━━━━━━━\u001B[0m\u001B[37m\u001B[0m \u001B[1m0s\u001B[0m 1ms/step - accuracy: 0.7881 - loss: 0.4170 - val_accuracy: 0.7922 - val_loss: 0.4358\n",
      "Epoch 92/100\n",
      "\u001B[1m22/22\u001B[0m \u001B[32m━━━━━━━━━━━━━━━━━━━━\u001B[0m\u001B[37m\u001B[0m \u001B[1m0s\u001B[0m 2ms/step - accuracy: 0.8111 - loss: 0.3998 - val_accuracy: 0.7922 - val_loss: 0.4359\n",
      "Epoch 93/100\n",
      "\u001B[1m22/22\u001B[0m \u001B[32m━━━━━━━━━━━━━━━━━━━━\u001B[0m\u001B[37m\u001B[0m \u001B[1m0s\u001B[0m 2ms/step - accuracy: 0.8141 - loss: 0.4044 - val_accuracy: 0.7922 - val_loss: 0.4356\n",
      "Epoch 94/100\n",
      "\u001B[1m22/22\u001B[0m \u001B[32m━━━━━━━━━━━━━━━━━━━━\u001B[0m\u001B[37m\u001B[0m \u001B[1m0s\u001B[0m 1ms/step - accuracy: 0.7767 - loss: 0.4477 - val_accuracy: 0.7922 - val_loss: 0.4359\n",
      "Epoch 95/100\n",
      "\u001B[1m22/22\u001B[0m \u001B[32m━━━━━━━━━━━━━━━━━━━━\u001B[0m\u001B[37m\u001B[0m \u001B[1m0s\u001B[0m 2ms/step - accuracy: 0.8089 - loss: 0.4113 - val_accuracy: 0.7922 - val_loss: 0.4349\n",
      "Epoch 96/100\n",
      "\u001B[1m22/22\u001B[0m \u001B[32m━━━━━━━━━━━━━━━━━━━━\u001B[0m\u001B[37m\u001B[0m \u001B[1m0s\u001B[0m 2ms/step - accuracy: 0.8023 - loss: 0.4291 - val_accuracy: 0.7922 - val_loss: 0.4351\n",
      "Epoch 97/100\n",
      "\u001B[1m22/22\u001B[0m \u001B[32m━━━━━━━━━━━━━━━━━━━━\u001B[0m\u001B[37m\u001B[0m \u001B[1m0s\u001B[0m 2ms/step - accuracy: 0.7648 - loss: 0.4324 - val_accuracy: 0.7922 - val_loss: 0.4352\n",
      "Epoch 98/100\n",
      "\u001B[1m22/22\u001B[0m \u001B[32m━━━━━━━━━━━━━━━━━━━━\u001B[0m\u001B[37m\u001B[0m \u001B[1m0s\u001B[0m 2ms/step - accuracy: 0.7979 - loss: 0.4182 - val_accuracy: 0.7922 - val_loss: 0.4350\n",
      "Epoch 99/100\n",
      "\u001B[1m22/22\u001B[0m \u001B[32m━━━━━━━━━━━━━━━━━━━━\u001B[0m\u001B[37m\u001B[0m \u001B[1m0s\u001B[0m 1ms/step - accuracy: 0.8019 - loss: 0.4142 - val_accuracy: 0.7922 - val_loss: 0.4346\n",
      "Epoch 100/100\n",
      "\u001B[1m22/22\u001B[0m \u001B[32m━━━━━━━━━━━━━━━━━━━━\u001B[0m\u001B[37m\u001B[0m \u001B[1m0s\u001B[0m 2ms/step - accuracy: 0.8058 - loss: 0.4269 - val_accuracy: 0.7922 - val_loss: 0.4347\n"
     ]
    },
    {
     "data": {
      "text/plain": [
       "<keras.src.callbacks.history.History at 0x246980b52d0>"
      ]
     },
     "execution_count": 40,
     "metadata": {},
     "output_type": "execute_result"
    }
   ],
   "execution_count": 40
  },
  {
   "metadata": {},
   "cell_type": "markdown",
   "source": "# 2. No of nodes in a layer",
   "id": "d8db5c38ede4cc8f"
  },
  {
   "metadata": {
    "ExecuteTime": {
     "end_time": "2025-01-03T05:07:46.898580Z",
     "start_time": "2025-01-03T05:07:46.895115Z"
    }
   },
   "cell_type": "code",
   "source": [
    "def build_model(hp):\n",
    "    model = Sequential()\n",
    "    \n",
    "    units = hp.Int('Units', 8,128,step=1)\n",
    "    \n",
    "    model.add(Dense(units=units,activation='relu',input_dim=8))\n",
    "    model.add(Dense(1,activation='sigmoid'))\n",
    "    model.compile(optimizer='rmsprop',loss='binary_crossentropy',metrics=['accuracy'])\n",
    "    \n",
    "    return model"
   ],
   "id": "e814a1ff1cedd3a3",
   "outputs": [],
   "execution_count": 55
  },
  {
   "metadata": {
    "ExecuteTime": {
     "end_time": "2025-01-03T05:07:47.557815Z",
     "start_time": "2025-01-03T05:07:47.541935Z"
    }
   },
   "cell_type": "code",
   "source": [
    "tuner = kt.RandomSearch(build_model,\n",
    "                        objective='val_accuracy',\n",
    "                        max_trials=5,\n",
    "                        directory='my_dir',\n",
    "                        project_name='Jehan Tuning')"
   ],
   "id": "98222093946e1233",
   "outputs": [
    {
     "name": "stdout",
     "output_type": "stream",
     "text": [
      "Reloading Tuner from my_dir\\Jehan Tuning\\tuner0.json\n"
     ]
    }
   ],
   "execution_count": 56
  },
  {
   "metadata": {
    "ExecuteTime": {
     "end_time": "2025-01-03T05:07:48.258230Z",
     "start_time": "2025-01-03T05:07:48.254819Z"
    }
   },
   "cell_type": "code",
   "source": "tuner.search(X_train,y_train,epochs=5,validation_data=(X_test,y_test))",
   "id": "bde40c136a99448b",
   "outputs": [],
   "execution_count": 57
  },
  {
   "metadata": {
    "ExecuteTime": {
     "end_time": "2025-01-03T05:07:48.860008Z",
     "start_time": "2025-01-03T05:07:48.855785Z"
    }
   },
   "cell_type": "code",
   "source": "tuner.results_summary()",
   "id": "2a639381298c6068",
   "outputs": [
    {
     "name": "stdout",
     "output_type": "stream",
     "text": [
      "Results summary\n",
      "Results in my_dir\\Jehan Tuning\n",
      "Showing 10 best trials\n",
      "Objective(name=\"val_accuracy\", direction=\"max\")\n",
      "\n",
      "Trial 4 summary\n",
      "Hyperparameters:\n",
      "Units: 88\n",
      "Score: 0.7792207598686218\n",
      "\n",
      "Trial 2 summary\n",
      "Hyperparameters:\n",
      "Units: 16\n",
      "Score: 0.7792207598686218\n",
      "\n",
      "Trial 1 summary\n",
      "Hyperparameters:\n",
      "Units: 72\n",
      "Score: 0.7662337422370911\n",
      "\n",
      "Trial 3 summary\n",
      "Hyperparameters:\n",
      "Units: 120\n",
      "Score: 0.7402597665786743\n",
      "\n",
      "Trial 0 summary\n",
      "Hyperparameters:\n",
      "Units: 8\n",
      "Score: 0.6753246784210205\n"
     ]
    }
   ],
   "execution_count": 58
  },
  {
   "metadata": {
    "ExecuteTime": {
     "end_time": "2025-01-03T05:07:49.420789Z",
     "start_time": "2025-01-03T05:07:49.415283Z"
    }
   },
   "cell_type": "code",
   "source": "tuner.get_best_hyperparameters()[0].values",
   "id": "b2f6aea32d81cff",
   "outputs": [
    {
     "data": {
      "text/plain": [
       "{'Units': 88}"
      ]
     },
     "execution_count": 59,
     "metadata": {},
     "output_type": "execute_result"
    }
   ],
   "execution_count": 59
  },
  {
   "metadata": {
    "ExecuteTime": {
     "end_time": "2025-01-03T05:07:50.639537Z",
     "start_time": "2025-01-03T05:07:50.080177Z"
    }
   },
   "cell_type": "code",
   "source": "model = tuner.get_best_models(num_models=1)[0]",
   "id": "43f6b5d42202cc57",
   "outputs": [
    {
     "name": "stderr",
     "output_type": "stream",
     "text": [
      "C:\\Users\\HP TECHNOLOGY\\anaconda3\\Lib\\site-packages\\keras\\src\\layers\\core\\dense.py:87: UserWarning: Do not pass an `input_shape`/`input_dim` argument to a layer. When using Sequential models, prefer using an `Input(shape)` object as the first layer in the model instead.\n",
      "  super().__init__(activity_regularizer=activity_regularizer, **kwargs)\n",
      "C:\\Users\\HP TECHNOLOGY\\anaconda3\\Lib\\site-packages\\keras\\src\\saving\\saving_lib.py:713: UserWarning: Skipping variable loading for optimizer 'rmsprop', because it has 2 variables whereas the saved optimizer has 6 variables. \n",
      "  saveable.load_own_variables(weights_store.get(inner_path))\n"
     ]
    }
   ],
   "execution_count": 60
  },
  {
   "metadata": {
    "ExecuteTime": {
     "end_time": "2025-01-03T05:07:57.548158Z",
     "start_time": "2025-01-03T05:07:52.139101Z"
    }
   },
   "cell_type": "code",
   "source": "model.fit(X_train,y_train,batch_size=32,epochs=100,initial_epoch=6,validation_data=(X_test,y_test))",
   "id": "2690a28cc2e3e2da",
   "outputs": [
    {
     "name": "stdout",
     "output_type": "stream",
     "text": [
      "Epoch 7/100\n",
      "\u001B[1m22/22\u001B[0m \u001B[32m━━━━━━━━━━━━━━━━━━━━\u001B[0m\u001B[37m\u001B[0m \u001B[1m1s\u001B[0m 8ms/step - accuracy: 0.7621 - loss: 0.5206 - val_accuracy: 0.7532 - val_loss: 0.4775\n",
      "Epoch 8/100\n",
      "\u001B[1m22/22\u001B[0m \u001B[32m━━━━━━━━━━━━━━━━━━━━\u001B[0m\u001B[37m\u001B[0m \u001B[1m0s\u001B[0m 1ms/step - accuracy: 0.7897 - loss: 0.4911 - val_accuracy: 0.7532 - val_loss: 0.4655\n",
      "Epoch 9/100\n",
      "\u001B[1m22/22\u001B[0m \u001B[32m━━━━━━━━━━━━━━━━━━━━\u001B[0m\u001B[37m\u001B[0m \u001B[1m0s\u001B[0m 1ms/step - accuracy: 0.7929 - loss: 0.4571 - val_accuracy: 0.7532 - val_loss: 0.4606\n",
      "Epoch 10/100\n",
      "\u001B[1m22/22\u001B[0m \u001B[32m━━━━━━━━━━━━━━━━━━━━\u001B[0m\u001B[37m\u001B[0m \u001B[1m0s\u001B[0m 1ms/step - accuracy: 0.7797 - loss: 0.4789 - val_accuracy: 0.7403 - val_loss: 0.4555\n",
      "Epoch 11/100\n",
      "\u001B[1m22/22\u001B[0m \u001B[32m━━━━━━━━━━━━━━━━━━━━\u001B[0m\u001B[37m\u001B[0m \u001B[1m0s\u001B[0m 1ms/step - accuracy: 0.7767 - loss: 0.4587 - val_accuracy: 0.7532 - val_loss: 0.4521\n",
      "Epoch 12/100\n",
      "\u001B[1m22/22\u001B[0m \u001B[32m━━━━━━━━━━━━━━━━━━━━\u001B[0m\u001B[37m\u001B[0m \u001B[1m0s\u001B[0m 1ms/step - accuracy: 0.7662 - loss: 0.4876 - val_accuracy: 0.7532 - val_loss: 0.4522\n",
      "Epoch 13/100\n",
      "\u001B[1m22/22\u001B[0m \u001B[32m━━━━━━━━━━━━━━━━━━━━\u001B[0m\u001B[37m\u001B[0m \u001B[1m0s\u001B[0m 1ms/step - accuracy: 0.8077 - loss: 0.4168 - val_accuracy: 0.7532 - val_loss: 0.4508\n",
      "Epoch 14/100\n",
      "\u001B[1m22/22\u001B[0m \u001B[32m━━━━━━━━━━━━━━━━━━━━\u001B[0m\u001B[37m\u001B[0m \u001B[1m0s\u001B[0m 1ms/step - accuracy: 0.7806 - loss: 0.4624 - val_accuracy: 0.7532 - val_loss: 0.4503\n",
      "Epoch 15/100\n",
      "\u001B[1m22/22\u001B[0m \u001B[32m━━━━━━━━━━━━━━━━━━━━\u001B[0m\u001B[37m\u001B[0m \u001B[1m0s\u001B[0m 1ms/step - accuracy: 0.7965 - loss: 0.4427 - val_accuracy: 0.7532 - val_loss: 0.4487\n",
      "Epoch 16/100\n",
      "\u001B[1m22/22\u001B[0m \u001B[32m━━━━━━━━━━━━━━━━━━━━\u001B[0m\u001B[37m\u001B[0m \u001B[1m0s\u001B[0m 1ms/step - accuracy: 0.7798 - loss: 0.4693 - val_accuracy: 0.7532 - val_loss: 0.4481\n",
      "Epoch 17/100\n",
      "\u001B[1m22/22\u001B[0m \u001B[32m━━━━━━━━━━━━━━━━━━━━\u001B[0m\u001B[37m\u001B[0m \u001B[1m0s\u001B[0m 1ms/step - accuracy: 0.7786 - loss: 0.4638 - val_accuracy: 0.7532 - val_loss: 0.4464\n",
      "Epoch 18/100\n",
      "\u001B[1m22/22\u001B[0m \u001B[32m━━━━━━━━━━━━━━━━━━━━\u001B[0m\u001B[37m\u001B[0m \u001B[1m0s\u001B[0m 1ms/step - accuracy: 0.8078 - loss: 0.4032 - val_accuracy: 0.7532 - val_loss: 0.4450\n",
      "Epoch 19/100\n",
      "\u001B[1m22/22\u001B[0m \u001B[32m━━━━━━━━━━━━━━━━━━━━\u001B[0m\u001B[37m\u001B[0m \u001B[1m0s\u001B[0m 1ms/step - accuracy: 0.7674 - loss: 0.4496 - val_accuracy: 0.7792 - val_loss: 0.4458\n",
      "Epoch 20/100\n",
      "\u001B[1m22/22\u001B[0m \u001B[32m━━━━━━━━━━━━━━━━━━━━\u001B[0m\u001B[37m\u001B[0m \u001B[1m0s\u001B[0m 1ms/step - accuracy: 0.7770 - loss: 0.4512 - val_accuracy: 0.7792 - val_loss: 0.4450\n",
      "Epoch 21/100\n",
      "\u001B[1m22/22\u001B[0m \u001B[32m━━━━━━━━━━━━━━━━━━━━\u001B[0m\u001B[37m\u001B[0m \u001B[1m0s\u001B[0m 1ms/step - accuracy: 0.7950 - loss: 0.4340 - val_accuracy: 0.7662 - val_loss: 0.4436\n",
      "Epoch 22/100\n",
      "\u001B[1m22/22\u001B[0m \u001B[32m━━━━━━━━━━━━━━━━━━━━\u001B[0m\u001B[37m\u001B[0m \u001B[1m0s\u001B[0m 1ms/step - accuracy: 0.7838 - loss: 0.4252 - val_accuracy: 0.7532 - val_loss: 0.4416\n",
      "Epoch 23/100\n",
      "\u001B[1m22/22\u001B[0m \u001B[32m━━━━━━━━━━━━━━━━━━━━\u001B[0m\u001B[37m\u001B[0m \u001B[1m0s\u001B[0m 2ms/step - accuracy: 0.7923 - loss: 0.4238 - val_accuracy: 0.7922 - val_loss: 0.4432\n",
      "Epoch 24/100\n",
      "\u001B[1m22/22\u001B[0m \u001B[32m━━━━━━━━━━━━━━━━━━━━\u001B[0m\u001B[37m\u001B[0m \u001B[1m0s\u001B[0m 2ms/step - accuracy: 0.7946 - loss: 0.4259 - val_accuracy: 0.7792 - val_loss: 0.4404\n",
      "Epoch 25/100\n",
      "\u001B[1m22/22\u001B[0m \u001B[32m━━━━━━━━━━━━━━━━━━━━\u001B[0m\u001B[37m\u001B[0m \u001B[1m0s\u001B[0m 2ms/step - accuracy: 0.7900 - loss: 0.4473 - val_accuracy: 0.7662 - val_loss: 0.4389\n",
      "Epoch 26/100\n",
      "\u001B[1m22/22\u001B[0m \u001B[32m━━━━━━━━━━━━━━━━━━━━\u001B[0m\u001B[37m\u001B[0m \u001B[1m0s\u001B[0m 2ms/step - accuracy: 0.7867 - loss: 0.4443 - val_accuracy: 0.7922 - val_loss: 0.4401\n",
      "Epoch 27/100\n",
      "\u001B[1m22/22\u001B[0m \u001B[32m━━━━━━━━━━━━━━━━━━━━\u001B[0m\u001B[37m\u001B[0m \u001B[1m0s\u001B[0m 2ms/step - accuracy: 0.7953 - loss: 0.4164 - val_accuracy: 0.7792 - val_loss: 0.4383\n",
      "Epoch 28/100\n",
      "\u001B[1m22/22\u001B[0m \u001B[32m━━━━━━━━━━━━━━━━━━━━\u001B[0m\u001B[37m\u001B[0m \u001B[1m0s\u001B[0m 1ms/step - accuracy: 0.7789 - loss: 0.4202 - val_accuracy: 0.7792 - val_loss: 0.4377\n",
      "Epoch 29/100\n",
      "\u001B[1m22/22\u001B[0m \u001B[32m━━━━━━━━━━━━━━━━━━━━\u001B[0m\u001B[37m\u001B[0m \u001B[1m0s\u001B[0m 1ms/step - accuracy: 0.7809 - loss: 0.4481 - val_accuracy: 0.7792 - val_loss: 0.4379\n",
      "Epoch 30/100\n",
      "\u001B[1m22/22\u001B[0m \u001B[32m━━━━━━━━━━━━━━━━━━━━\u001B[0m\u001B[37m\u001B[0m \u001B[1m0s\u001B[0m 1ms/step - accuracy: 0.7911 - loss: 0.4339 - val_accuracy: 0.7792 - val_loss: 0.4365\n",
      "Epoch 31/100\n",
      "\u001B[1m22/22\u001B[0m \u001B[32m━━━━━━━━━━━━━━━━━━━━\u001B[0m\u001B[37m\u001B[0m \u001B[1m0s\u001B[0m 1ms/step - accuracy: 0.8086 - loss: 0.4287 - val_accuracy: 0.7792 - val_loss: 0.4372\n",
      "Epoch 32/100\n",
      "\u001B[1m22/22\u001B[0m \u001B[32m━━━━━━━━━━━━━━━━━━━━\u001B[0m\u001B[37m\u001B[0m \u001B[1m0s\u001B[0m 1ms/step - accuracy: 0.7877 - loss: 0.4423 - val_accuracy: 0.7662 - val_loss: 0.4364\n",
      "Epoch 33/100\n",
      "\u001B[1m22/22\u001B[0m \u001B[32m━━━━━━━━━━━━━━━━━━━━\u001B[0m\u001B[37m\u001B[0m \u001B[1m0s\u001B[0m 1ms/step - accuracy: 0.7796 - loss: 0.4472 - val_accuracy: 0.7662 - val_loss: 0.4356\n",
      "Epoch 34/100\n",
      "\u001B[1m22/22\u001B[0m \u001B[32m━━━━━━━━━━━━━━━━━━━━\u001B[0m\u001B[37m\u001B[0m \u001B[1m0s\u001B[0m 1ms/step - accuracy: 0.7859 - loss: 0.4248 - val_accuracy: 0.7792 - val_loss: 0.4345\n",
      "Epoch 35/100\n",
      "\u001B[1m22/22\u001B[0m \u001B[32m━━━━━━━━━━━━━━━━━━━━\u001B[0m\u001B[37m\u001B[0m \u001B[1m0s\u001B[0m 1ms/step - accuracy: 0.7925 - loss: 0.4131 - val_accuracy: 0.7792 - val_loss: 0.4337\n",
      "Epoch 36/100\n",
      "\u001B[1m22/22\u001B[0m \u001B[32m━━━━━━━━━━━━━━━━━━━━\u001B[0m\u001B[37m\u001B[0m \u001B[1m0s\u001B[0m 1ms/step - accuracy: 0.7896 - loss: 0.4285 - val_accuracy: 0.7792 - val_loss: 0.4336\n",
      "Epoch 37/100\n",
      "\u001B[1m22/22\u001B[0m \u001B[32m━━━━━━━━━━━━━━━━━━━━\u001B[0m\u001B[37m\u001B[0m \u001B[1m0s\u001B[0m 1ms/step - accuracy: 0.7939 - loss: 0.4261 - val_accuracy: 0.7922 - val_loss: 0.4344\n",
      "Epoch 38/100\n",
      "\u001B[1m22/22\u001B[0m \u001B[32m━━━━━━━━━━━━━━━━━━━━\u001B[0m\u001B[37m\u001B[0m \u001B[1m0s\u001B[0m 1ms/step - accuracy: 0.8033 - loss: 0.4249 - val_accuracy: 0.7922 - val_loss: 0.4338\n",
      "Epoch 39/100\n",
      "\u001B[1m22/22\u001B[0m \u001B[32m━━━━━━━━━━━━━━━━━━━━\u001B[0m\u001B[37m\u001B[0m \u001B[1m0s\u001B[0m 1ms/step - accuracy: 0.7853 - loss: 0.4632 - val_accuracy: 0.7922 - val_loss: 0.4332\n",
      "Epoch 40/100\n",
      "\u001B[1m22/22\u001B[0m \u001B[32m━━━━━━━━━━━━━━━━━━━━\u001B[0m\u001B[37m\u001B[0m \u001B[1m0s\u001B[0m 1ms/step - accuracy: 0.7959 - loss: 0.4253 - val_accuracy: 0.7792 - val_loss: 0.4330\n",
      "Epoch 41/100\n",
      "\u001B[1m22/22\u001B[0m \u001B[32m━━━━━━━━━━━━━━━━━━━━\u001B[0m\u001B[37m\u001B[0m \u001B[1m0s\u001B[0m 1ms/step - accuracy: 0.8032 - loss: 0.4237 - val_accuracy: 0.7922 - val_loss: 0.4330\n",
      "Epoch 42/100\n",
      "\u001B[1m22/22\u001B[0m \u001B[32m━━━━━━━━━━━━━━━━━━━━\u001B[0m\u001B[37m\u001B[0m \u001B[1m0s\u001B[0m 1ms/step - accuracy: 0.7940 - loss: 0.4238 - val_accuracy: 0.7922 - val_loss: 0.4330\n",
      "Epoch 43/100\n",
      "\u001B[1m22/22\u001B[0m \u001B[32m━━━━━━━━━━━━━━━━━━━━\u001B[0m\u001B[37m\u001B[0m \u001B[1m0s\u001B[0m 1ms/step - accuracy: 0.8025 - loss: 0.4301 - val_accuracy: 0.7922 - val_loss: 0.4321\n",
      "Epoch 44/100\n",
      "\u001B[1m22/22\u001B[0m \u001B[32m━━━━━━━━━━━━━━━━━━━━\u001B[0m\u001B[37m\u001B[0m \u001B[1m0s\u001B[0m 1ms/step - accuracy: 0.8056 - loss: 0.4081 - val_accuracy: 0.8052 - val_loss: 0.4311\n",
      "Epoch 45/100\n",
      "\u001B[1m22/22\u001B[0m \u001B[32m━━━━━━━━━━━━━━━━━━━━\u001B[0m\u001B[37m\u001B[0m \u001B[1m0s\u001B[0m 1ms/step - accuracy: 0.7930 - loss: 0.4170 - val_accuracy: 0.7922 - val_loss: 0.4339\n",
      "Epoch 46/100\n",
      "\u001B[1m22/22\u001B[0m \u001B[32m━━━━━━━━━━━━━━━━━━━━\u001B[0m\u001B[37m\u001B[0m \u001B[1m0s\u001B[0m 1ms/step - accuracy: 0.8080 - loss: 0.4046 - val_accuracy: 0.7922 - val_loss: 0.4326\n",
      "Epoch 47/100\n",
      "\u001B[1m22/22\u001B[0m \u001B[32m━━━━━━━━━━━━━━━━━━━━\u001B[0m\u001B[37m\u001B[0m \u001B[1m0s\u001B[0m 1ms/step - accuracy: 0.8081 - loss: 0.4224 - val_accuracy: 0.8052 - val_loss: 0.4319\n",
      "Epoch 48/100\n",
      "\u001B[1m22/22\u001B[0m \u001B[32m━━━━━━━━━━━━━━━━━━━━\u001B[0m\u001B[37m\u001B[0m \u001B[1m0s\u001B[0m 1ms/step - accuracy: 0.8058 - loss: 0.4211 - val_accuracy: 0.8182 - val_loss: 0.4308\n",
      "Epoch 49/100\n",
      "\u001B[1m22/22\u001B[0m \u001B[32m━━━━━━━━━━━━━━━━━━━━\u001B[0m\u001B[37m\u001B[0m \u001B[1m0s\u001B[0m 1ms/step - accuracy: 0.8082 - loss: 0.4181 - val_accuracy: 0.8182 - val_loss: 0.4309\n",
      "Epoch 50/100\n",
      "\u001B[1m22/22\u001B[0m \u001B[32m━━━━━━━━━━━━━━━━━━━━\u001B[0m\u001B[37m\u001B[0m \u001B[1m0s\u001B[0m 1ms/step - accuracy: 0.7999 - loss: 0.4179 - val_accuracy: 0.8312 - val_loss: 0.4296\n",
      "Epoch 51/100\n",
      "\u001B[1m22/22\u001B[0m \u001B[32m━━━━━━━━━━━━━━━━━━━━\u001B[0m\u001B[37m\u001B[0m \u001B[1m0s\u001B[0m 1ms/step - accuracy: 0.8166 - loss: 0.4136 - val_accuracy: 0.8312 - val_loss: 0.4288\n",
      "Epoch 52/100\n",
      "\u001B[1m22/22\u001B[0m \u001B[32m━━━━━━━━━━━━━━━━━━━━\u001B[0m\u001B[37m\u001B[0m \u001B[1m0s\u001B[0m 1ms/step - accuracy: 0.7826 - loss: 0.4440 - val_accuracy: 0.8312 - val_loss: 0.4297\n",
      "Epoch 53/100\n",
      "\u001B[1m22/22\u001B[0m \u001B[32m━━━━━━━━━━━━━━━━━━━━\u001B[0m\u001B[37m\u001B[0m \u001B[1m0s\u001B[0m 1ms/step - accuracy: 0.7976 - loss: 0.4234 - val_accuracy: 0.8312 - val_loss: 0.4291\n",
      "Epoch 54/100\n",
      "\u001B[1m22/22\u001B[0m \u001B[32m━━━━━━━━━━━━━━━━━━━━\u001B[0m\u001B[37m\u001B[0m \u001B[1m0s\u001B[0m 1ms/step - accuracy: 0.8215 - loss: 0.4059 - val_accuracy: 0.8182 - val_loss: 0.4303\n",
      "Epoch 55/100\n",
      "\u001B[1m22/22\u001B[0m \u001B[32m━━━━━━━━━━━━━━━━━━━━\u001B[0m\u001B[37m\u001B[0m \u001B[1m0s\u001B[0m 1ms/step - accuracy: 0.8044 - loss: 0.4033 - val_accuracy: 0.8182 - val_loss: 0.4290\n",
      "Epoch 56/100\n",
      "\u001B[1m22/22\u001B[0m \u001B[32m━━━━━━━━━━━━━━━━━━━━\u001B[0m\u001B[37m\u001B[0m \u001B[1m0s\u001B[0m 1ms/step - accuracy: 0.7982 - loss: 0.4218 - val_accuracy: 0.8182 - val_loss: 0.4295\n",
      "Epoch 57/100\n",
      "\u001B[1m22/22\u001B[0m \u001B[32m━━━━━━━━━━━━━━━━━━━━\u001B[0m\u001B[37m\u001B[0m \u001B[1m0s\u001B[0m 1ms/step - accuracy: 0.8074 - loss: 0.4266 - val_accuracy: 0.8182 - val_loss: 0.4290\n",
      "Epoch 58/100\n",
      "\u001B[1m22/22\u001B[0m \u001B[32m━━━━━━━━━━━━━━━━━━━━\u001B[0m\u001B[37m\u001B[0m \u001B[1m0s\u001B[0m 1ms/step - accuracy: 0.8120 - loss: 0.4043 - val_accuracy: 0.8312 - val_loss: 0.4298\n",
      "Epoch 59/100\n",
      "\u001B[1m22/22\u001B[0m \u001B[32m━━━━━━━━━━━━━━━━━━━━\u001B[0m\u001B[37m\u001B[0m \u001B[1m0s\u001B[0m 1ms/step - accuracy: 0.8005 - loss: 0.4163 - val_accuracy: 0.8052 - val_loss: 0.4292\n",
      "Epoch 60/100\n",
      "\u001B[1m22/22\u001B[0m \u001B[32m━━━━━━━━━━━━━━━━━━━━\u001B[0m\u001B[37m\u001B[0m \u001B[1m0s\u001B[0m 1ms/step - accuracy: 0.7987 - loss: 0.4409 - val_accuracy: 0.8052 - val_loss: 0.4302\n",
      "Epoch 61/100\n",
      "\u001B[1m22/22\u001B[0m \u001B[32m━━━━━━━━━━━━━━━━━━━━\u001B[0m\u001B[37m\u001B[0m \u001B[1m0s\u001B[0m 1ms/step - accuracy: 0.8073 - loss: 0.4125 - val_accuracy: 0.8312 - val_loss: 0.4278\n",
      "Epoch 62/100\n",
      "\u001B[1m22/22\u001B[0m \u001B[32m━━━━━━━━━━━━━━━━━━━━\u001B[0m\u001B[37m\u001B[0m \u001B[1m0s\u001B[0m 1ms/step - accuracy: 0.7937 - loss: 0.4279 - val_accuracy: 0.8312 - val_loss: 0.4269\n",
      "Epoch 63/100\n",
      "\u001B[1m22/22\u001B[0m \u001B[32m━━━━━━━━━━━━━━━━━━━━\u001B[0m\u001B[37m\u001B[0m \u001B[1m0s\u001B[0m 2ms/step - accuracy: 0.8014 - loss: 0.4124 - val_accuracy: 0.8182 - val_loss: 0.4257\n",
      "Epoch 64/100\n",
      "\u001B[1m22/22\u001B[0m \u001B[32m━━━━━━━━━━━━━━━━━━━━\u001B[0m\u001B[37m\u001B[0m \u001B[1m0s\u001B[0m 1ms/step - accuracy: 0.7972 - loss: 0.4385 - val_accuracy: 0.8312 - val_loss: 0.4268\n",
      "Epoch 65/100\n",
      "\u001B[1m22/22\u001B[0m \u001B[32m━━━━━━━━━━━━━━━━━━━━\u001B[0m\u001B[37m\u001B[0m \u001B[1m0s\u001B[0m 1ms/step - accuracy: 0.7988 - loss: 0.4352 - val_accuracy: 0.8182 - val_loss: 0.4254\n",
      "Epoch 66/100\n",
      "\u001B[1m22/22\u001B[0m \u001B[32m━━━━━━━━━━━━━━━━━━━━\u001B[0m\u001B[37m\u001B[0m \u001B[1m0s\u001B[0m 1ms/step - accuracy: 0.7954 - loss: 0.4246 - val_accuracy: 0.8182 - val_loss: 0.4256\n",
      "Epoch 67/100\n",
      "\u001B[1m22/22\u001B[0m \u001B[32m━━━━━━━━━━━━━━━━━━━━\u001B[0m\u001B[37m\u001B[0m \u001B[1m0s\u001B[0m 1ms/step - accuracy: 0.8162 - loss: 0.3958 - val_accuracy: 0.7922 - val_loss: 0.4272\n",
      "Epoch 68/100\n",
      "\u001B[1m22/22\u001B[0m \u001B[32m━━━━━━━━━━━━━━━━━━━━\u001B[0m\u001B[37m\u001B[0m \u001B[1m0s\u001B[0m 1ms/step - accuracy: 0.8085 - loss: 0.4177 - val_accuracy: 0.8182 - val_loss: 0.4258\n",
      "Epoch 69/100\n",
      "\u001B[1m22/22\u001B[0m \u001B[32m━━━━━━━━━━━━━━━━━━━━\u001B[0m\u001B[37m\u001B[0m \u001B[1m0s\u001B[0m 1ms/step - accuracy: 0.8064 - loss: 0.4171 - val_accuracy: 0.7922 - val_loss: 0.4266\n",
      "Epoch 70/100\n",
      "\u001B[1m22/22\u001B[0m \u001B[32m━━━━━━━━━━━━━━━━━━━━\u001B[0m\u001B[37m\u001B[0m \u001B[1m0s\u001B[0m 1ms/step - accuracy: 0.7949 - loss: 0.4216 - val_accuracy: 0.8052 - val_loss: 0.4264\n",
      "Epoch 71/100\n",
      "\u001B[1m22/22\u001B[0m \u001B[32m━━━━━━━━━━━━━━━━━━━━\u001B[0m\u001B[37m\u001B[0m \u001B[1m0s\u001B[0m 1ms/step - accuracy: 0.8051 - loss: 0.4131 - val_accuracy: 0.8182 - val_loss: 0.4254\n",
      "Epoch 72/100\n",
      "\u001B[1m22/22\u001B[0m \u001B[32m━━━━━━━━━━━━━━━━━━━━\u001B[0m\u001B[37m\u001B[0m \u001B[1m0s\u001B[0m 1ms/step - accuracy: 0.8107 - loss: 0.4146 - val_accuracy: 0.8182 - val_loss: 0.4236\n",
      "Epoch 73/100\n",
      "\u001B[1m22/22\u001B[0m \u001B[32m━━━━━━━━━━━━━━━━━━━━\u001B[0m\u001B[37m\u001B[0m \u001B[1m0s\u001B[0m 1ms/step - accuracy: 0.8125 - loss: 0.4240 - val_accuracy: 0.8182 - val_loss: 0.4236\n",
      "Epoch 74/100\n",
      "\u001B[1m22/22\u001B[0m \u001B[32m━━━━━━━━━━━━━━━━━━━━\u001B[0m\u001B[37m\u001B[0m \u001B[1m0s\u001B[0m 2ms/step - accuracy: 0.8356 - loss: 0.3913 - val_accuracy: 0.8182 - val_loss: 0.4232\n",
      "Epoch 75/100\n",
      "\u001B[1m22/22\u001B[0m \u001B[32m━━━━━━━━━━━━━━━━━━━━\u001B[0m\u001B[37m\u001B[0m \u001B[1m0s\u001B[0m 1ms/step - accuracy: 0.8162 - loss: 0.4082 - val_accuracy: 0.8182 - val_loss: 0.4216\n",
      "Epoch 76/100\n",
      "\u001B[1m22/22\u001B[0m \u001B[32m━━━━━━━━━━━━━━━━━━━━\u001B[0m\u001B[37m\u001B[0m \u001B[1m0s\u001B[0m 1ms/step - accuracy: 0.8267 - loss: 0.4077 - val_accuracy: 0.8312 - val_loss: 0.4246\n",
      "Epoch 77/100\n",
      "\u001B[1m22/22\u001B[0m \u001B[32m━━━━━━━━━━━━━━━━━━━━\u001B[0m\u001B[37m\u001B[0m \u001B[1m0s\u001B[0m 1ms/step - accuracy: 0.7897 - loss: 0.4412 - val_accuracy: 0.8312 - val_loss: 0.4246\n",
      "Epoch 78/100\n",
      "\u001B[1m22/22\u001B[0m \u001B[32m━━━━━━━━━━━━━━━━━━━━\u001B[0m\u001B[37m\u001B[0m \u001B[1m0s\u001B[0m 1ms/step - accuracy: 0.8291 - loss: 0.3817 - val_accuracy: 0.8312 - val_loss: 0.4227\n",
      "Epoch 79/100\n",
      "\u001B[1m22/22\u001B[0m \u001B[32m━━━━━━━━━━━━━━━━━━━━\u001B[0m\u001B[37m\u001B[0m \u001B[1m0s\u001B[0m 1ms/step - accuracy: 0.8203 - loss: 0.3948 - val_accuracy: 0.8182 - val_loss: 0.4234\n",
      "Epoch 80/100\n",
      "\u001B[1m22/22\u001B[0m \u001B[32m━━━━━━━━━━━━━━━━━━━━\u001B[0m\u001B[37m\u001B[0m \u001B[1m0s\u001B[0m 1ms/step - accuracy: 0.8146 - loss: 0.4027 - val_accuracy: 0.8182 - val_loss: 0.4227\n",
      "Epoch 81/100\n",
      "\u001B[1m22/22\u001B[0m \u001B[32m━━━━━━━━━━━━━━━━━━━━\u001B[0m\u001B[37m\u001B[0m \u001B[1m0s\u001B[0m 1ms/step - accuracy: 0.8171 - loss: 0.3982 - val_accuracy: 0.8312 - val_loss: 0.4241\n",
      "Epoch 82/100\n",
      "\u001B[1m22/22\u001B[0m \u001B[32m━━━━━━━━━━━━━━━━━━━━\u001B[0m\u001B[37m\u001B[0m \u001B[1m0s\u001B[0m 1ms/step - accuracy: 0.8204 - loss: 0.3966 - val_accuracy: 0.8182 - val_loss: 0.4218\n",
      "Epoch 83/100\n",
      "\u001B[1m22/22\u001B[0m \u001B[32m━━━━━━━━━━━━━━━━━━━━\u001B[0m\u001B[37m\u001B[0m \u001B[1m0s\u001B[0m 2ms/step - accuracy: 0.8240 - loss: 0.3861 - val_accuracy: 0.8312 - val_loss: 0.4233\n",
      "Epoch 84/100\n",
      "\u001B[1m22/22\u001B[0m \u001B[32m━━━━━━━━━━━━━━━━━━━━\u001B[0m\u001B[37m\u001B[0m \u001B[1m0s\u001B[0m 1ms/step - accuracy: 0.8239 - loss: 0.3790 - val_accuracy: 0.8312 - val_loss: 0.4219\n",
      "Epoch 85/100\n",
      "\u001B[1m22/22\u001B[0m \u001B[32m━━━━━━━━━━━━━━━━━━━━\u001B[0m\u001B[37m\u001B[0m \u001B[1m0s\u001B[0m 2ms/step - accuracy: 0.8379 - loss: 0.3857 - val_accuracy: 0.8182 - val_loss: 0.4210\n",
      "Epoch 86/100\n",
      "\u001B[1m22/22\u001B[0m \u001B[32m━━━━━━━━━━━━━━━━━━━━\u001B[0m\u001B[37m\u001B[0m \u001B[1m0s\u001B[0m 1ms/step - accuracy: 0.8161 - loss: 0.4076 - val_accuracy: 0.8182 - val_loss: 0.4199\n",
      "Epoch 87/100\n",
      "\u001B[1m22/22\u001B[0m \u001B[32m━━━━━━━━━━━━━━━━━━━━\u001B[0m\u001B[37m\u001B[0m \u001B[1m0s\u001B[0m 1ms/step - accuracy: 0.8238 - loss: 0.3972 - val_accuracy: 0.8182 - val_loss: 0.4206\n",
      "Epoch 88/100\n",
      "\u001B[1m22/22\u001B[0m \u001B[32m━━━━━━━━━━━━━━━━━━━━\u001B[0m\u001B[37m\u001B[0m \u001B[1m0s\u001B[0m 2ms/step - accuracy: 0.8453 - loss: 0.3436 - val_accuracy: 0.8182 - val_loss: 0.4190\n",
      "Epoch 89/100\n",
      "\u001B[1m22/22\u001B[0m \u001B[32m━━━━━━━━━━━━━━━━━━━━\u001B[0m\u001B[37m\u001B[0m \u001B[1m0s\u001B[0m 1ms/step - accuracy: 0.7942 - loss: 0.4269 - val_accuracy: 0.8312 - val_loss: 0.4228\n",
      "Epoch 90/100\n",
      "\u001B[1m22/22\u001B[0m \u001B[32m━━━━━━━━━━━━━━━━━━━━\u001B[0m\u001B[37m\u001B[0m \u001B[1m0s\u001B[0m 1ms/step - accuracy: 0.8449 - loss: 0.3724 - val_accuracy: 0.8182 - val_loss: 0.4201\n",
      "Epoch 91/100\n",
      "\u001B[1m22/22\u001B[0m \u001B[32m━━━━━━━━━━━━━━━━━━━━\u001B[0m\u001B[37m\u001B[0m \u001B[1m0s\u001B[0m 1ms/step - accuracy: 0.8360 - loss: 0.3927 - val_accuracy: 0.8182 - val_loss: 0.4197\n",
      "Epoch 92/100\n",
      "\u001B[1m22/22\u001B[0m \u001B[32m━━━━━━━━━━━━━━━━━━━━\u001B[0m\u001B[37m\u001B[0m \u001B[1m0s\u001B[0m 1ms/step - accuracy: 0.8385 - loss: 0.3909 - val_accuracy: 0.8182 - val_loss: 0.4196\n",
      "Epoch 93/100\n",
      "\u001B[1m22/22\u001B[0m \u001B[32m━━━━━━━━━━━━━━━━━━━━\u001B[0m\u001B[37m\u001B[0m \u001B[1m0s\u001B[0m 1ms/step - accuracy: 0.8348 - loss: 0.3940 - val_accuracy: 0.8182 - val_loss: 0.4206\n",
      "Epoch 94/100\n",
      "\u001B[1m22/22\u001B[0m \u001B[32m━━━━━━━━━━━━━━━━━━━━\u001B[0m\u001B[37m\u001B[0m \u001B[1m0s\u001B[0m 1ms/step - accuracy: 0.8451 - loss: 0.3627 - val_accuracy: 0.8182 - val_loss: 0.4191\n",
      "Epoch 95/100\n",
      "\u001B[1m22/22\u001B[0m \u001B[32m━━━━━━━━━━━━━━━━━━━━\u001B[0m\u001B[37m\u001B[0m \u001B[1m0s\u001B[0m 1ms/step - accuracy: 0.8176 - loss: 0.4035 - val_accuracy: 0.8182 - val_loss: 0.4204\n",
      "Epoch 96/100\n",
      "\u001B[1m22/22\u001B[0m \u001B[32m━━━━━━━━━━━━━━━━━━━━\u001B[0m\u001B[37m\u001B[0m \u001B[1m0s\u001B[0m 1ms/step - accuracy: 0.8102 - loss: 0.4160 - val_accuracy: 0.8312 - val_loss: 0.4208\n",
      "Epoch 97/100\n",
      "\u001B[1m22/22\u001B[0m \u001B[32m━━━━━━━━━━━━━━━━━━━━\u001B[0m\u001B[37m\u001B[0m \u001B[1m0s\u001B[0m 1ms/step - accuracy: 0.8312 - loss: 0.3829 - val_accuracy: 0.8182 - val_loss: 0.4201\n",
      "Epoch 98/100\n",
      "\u001B[1m22/22\u001B[0m \u001B[32m━━━━━━━━━━━━━━━━━━━━\u001B[0m\u001B[37m\u001B[0m \u001B[1m0s\u001B[0m 1ms/step - accuracy: 0.8214 - loss: 0.3946 - val_accuracy: 0.8182 - val_loss: 0.4215\n",
      "Epoch 99/100\n",
      "\u001B[1m22/22\u001B[0m \u001B[32m━━━━━━━━━━━━━━━━━━━━\u001B[0m\u001B[37m\u001B[0m \u001B[1m0s\u001B[0m 1ms/step - accuracy: 0.8465 - loss: 0.3749 - val_accuracy: 0.8182 - val_loss: 0.4207\n",
      "Epoch 100/100\n",
      "\u001B[1m22/22\u001B[0m \u001B[32m━━━━━━━━━━━━━━━━━━━━\u001B[0m\u001B[37m\u001B[0m \u001B[1m0s\u001B[0m 1ms/step - accuracy: 0.8416 - loss: 0.3779 - val_accuracy: 0.8182 - val_loss: 0.4205\n"
     ]
    },
    {
     "data": {
      "text/plain": [
       "<keras.src.callbacks.history.History at 0x2469d6cf150>"
      ]
     },
     "execution_count": 61,
     "metadata": {},
     "output_type": "execute_result"
    }
   ],
   "execution_count": 61
  },
  {
   "metadata": {},
   "cell_type": "markdown",
   "source": "# 3. How to select no of hidden layer",
   "id": "408de9dd205c05a7"
  },
  {
   "metadata": {
    "ExecuteTime": {
     "end_time": "2025-01-03T05:18:54.187360Z",
     "start_time": "2025-01-03T05:18:54.182741Z"
    }
   },
   "cell_type": "code",
   "source": [
    "def build_model(hp):\n",
    "    model = Sequential()\n",
    "    \n",
    "    model.add(Dense(72,activation='relu',input_dim=8))\n",
    "    \n",
    "    for i in range(hp.Int('num_layers',min_value=1,max_value=10)):\n",
    "        model.add(Dense(72,activation='relu'))\n",
    "    model.add(Dense(1,activation='sigmoid')) \n",
    "    \n",
    "    model.compile(optimizer='rmsprop',loss='binary_crossentropy',metrics=['accuracy'])\n",
    "    return model"
   ],
   "id": "e22f0e5e8e59778b",
   "outputs": [],
   "execution_count": 64
  },
  {
   "metadata": {
    "ExecuteTime": {
     "end_time": "2025-01-03T05:18:54.553105Z",
     "start_time": "2025-01-03T05:18:54.525959Z"
    }
   },
   "cell_type": "code",
   "source": [
    "tuner = kt.RandomSearch(build_model,\n",
    "                        objective='val_accuracy',\n",
    "                        max_trials=3,\n",
    "                        directory='my_dir',\n",
    "                        project_name='hidden_layers')"
   ],
   "id": "52d98f23e5a29320",
   "outputs": [
    {
     "name": "stderr",
     "output_type": "stream",
     "text": [
      "C:\\Users\\HP TECHNOLOGY\\anaconda3\\Lib\\site-packages\\keras\\src\\layers\\core\\dense.py:87: UserWarning: Do not pass an `input_shape`/`input_dim` argument to a layer. When using Sequential models, prefer using an `Input(shape)` object as the first layer in the model instead.\n",
      "  super().__init__(activity_regularizer=activity_regularizer, **kwargs)\n"
     ]
    }
   ],
   "execution_count": 65
  },
  {
   "metadata": {},
   "cell_type": "code",
   "source": "tuner.search(X_train,y_train,epochs=5,validation_data=(X_test,y_test))",
   "id": "9c72c8f03e96c37e",
   "execution_count": 66,
   "outputs": [
    {
     "name": "stdout",
     "output_type": "stream",
     "text": [
      "Trial 3 Complete [00h 00m 03s]\n",
      "val_accuracy: 0.7922077775001526\n",
      "\n",
      "Best val_accuracy So Far: 0.8311688303947449\n",
      "Total elapsed time: 00h 00m 08s\n"
     ]
    }
   ]
  },
  {
   "metadata": {
    "ExecuteTime": {
     "end_time": "2025-01-03T05:19:52.280383Z",
     "start_time": "2025-01-03T05:19:52.276852Z"
    }
   },
   "cell_type": "code",
   "source": "tuner.results_summary()",
   "id": "b62d1f77876495e7",
   "outputs": [
    {
     "name": "stdout",
     "output_type": "stream",
     "text": [
      "Results summary\n",
      "Results in my_dir\\hidden_layers\n",
      "Showing 10 best trials\n",
      "Objective(name=\"val_accuracy\", direction=\"max\")\n",
      "\n",
      "Trial 1 summary\n",
      "Hyperparameters:\n",
      "num_layers: 7\n",
      "Score: 0.8311688303947449\n",
      "\n",
      "Trial 0 summary\n",
      "Hyperparameters:\n",
      "num_layers: 1\n",
      "Score: 0.8051947951316833\n",
      "\n",
      "Trial 2 summary\n",
      "Hyperparameters:\n",
      "num_layers: 10\n",
      "Score: 0.7922077775001526\n"
     ]
    }
   ],
   "execution_count": 67
  },
  {
   "metadata": {
    "ExecuteTime": {
     "end_time": "2025-01-03T05:20:12.991180Z",
     "start_time": "2025-01-03T05:20:12.987444Z"
    }
   },
   "cell_type": "code",
   "source": "tuner.get_best_hyperparameters()[0].values",
   "id": "c870d6516f3ca513",
   "outputs": [
    {
     "data": {
      "text/plain": [
       "{'num_layers': 7}"
      ]
     },
     "execution_count": 68,
     "metadata": {},
     "output_type": "execute_result"
    }
   ],
   "execution_count": 68
  },
  {
   "metadata": {
    "ExecuteTime": {
     "end_time": "2025-01-03T05:20:35.632637Z",
     "start_time": "2025-01-03T05:20:34.914830Z"
    }
   },
   "cell_type": "code",
   "source": "model = tuner.get_best_models(num_models=1)[0]",
   "id": "f6913554d54fdb85",
   "outputs": [
    {
     "name": "stderr",
     "output_type": "stream",
     "text": [
      "C:\\Users\\HP TECHNOLOGY\\anaconda3\\Lib\\site-packages\\keras\\src\\layers\\core\\dense.py:87: UserWarning: Do not pass an `input_shape`/`input_dim` argument to a layer. When using Sequential models, prefer using an `Input(shape)` object as the first layer in the model instead.\n",
      "  super().__init__(activity_regularizer=activity_regularizer, **kwargs)\n",
      "C:\\Users\\HP TECHNOLOGY\\anaconda3\\Lib\\site-packages\\keras\\src\\saving\\saving_lib.py:713: UserWarning: Skipping variable loading for optimizer 'rmsprop', because it has 2 variables whereas the saved optimizer has 20 variables. \n",
      "  saveable.load_own_variables(weights_store.get(inner_path))\n"
     ]
    }
   ],
   "execution_count": 69
  },
  {
   "metadata": {
    "ExecuteTime": {
     "end_time": "2025-01-03T05:21:19.719735Z",
     "start_time": "2025-01-03T05:21:12.755749Z"
    }
   },
   "cell_type": "code",
   "source": "model.fit(X_train,y_train,epochs=100,initial_epoch=6,validation_data=(X_test,y_test))",
   "id": "3726f5ff9d0c6ee6",
   "outputs": [
    {
     "name": "stdout",
     "output_type": "stream",
     "text": [
      "Epoch 7/100\n",
      "\u001B[1m22/22\u001B[0m \u001B[32m━━━━━━━━━━━━━━━━━━━━\u001B[0m\u001B[37m\u001B[0m \u001B[1m2s\u001B[0m 10ms/step - accuracy: 0.7500 - loss: 0.5068 - val_accuracy: 0.7922 - val_loss: 0.4840\n",
      "Epoch 8/100\n",
      "\u001B[1m22/22\u001B[0m \u001B[32m━━━━━━━━━━━━━━━━━━━━\u001B[0m\u001B[37m\u001B[0m \u001B[1m0s\u001B[0m 2ms/step - accuracy: 0.8012 - loss: 0.4379 - val_accuracy: 0.8052 - val_loss: 0.4473\n",
      "Epoch 9/100\n",
      "\u001B[1m22/22\u001B[0m \u001B[32m━━━━━━━━━━━━━━━━━━━━\u001B[0m\u001B[37m\u001B[0m \u001B[1m0s\u001B[0m 2ms/step - accuracy: 0.8251 - loss: 0.4087 - val_accuracy: 0.7792 - val_loss: 0.4531\n",
      "Epoch 10/100\n",
      "\u001B[1m22/22\u001B[0m \u001B[32m━━━━━━━━━━━━━━━━━━━━\u001B[0m\u001B[37m\u001B[0m \u001B[1m0s\u001B[0m 2ms/step - accuracy: 0.7766 - loss: 0.4424 - val_accuracy: 0.8052 - val_loss: 0.4646\n",
      "Epoch 11/100\n",
      "\u001B[1m22/22\u001B[0m \u001B[32m━━━━━━━━━━━━━━━━━━━━\u001B[0m\u001B[37m\u001B[0m \u001B[1m0s\u001B[0m 2ms/step - accuracy: 0.8091 - loss: 0.4108 - val_accuracy: 0.8052 - val_loss: 0.4273\n",
      "Epoch 12/100\n",
      "\u001B[1m22/22\u001B[0m \u001B[32m━━━━━━━━━━━━━━━━━━━━\u001B[0m\u001B[37m\u001B[0m \u001B[1m0s\u001B[0m 2ms/step - accuracy: 0.7842 - loss: 0.4292 - val_accuracy: 0.7792 - val_loss: 0.4319\n",
      "Epoch 13/100\n",
      "\u001B[1m22/22\u001B[0m \u001B[32m━━━━━━━━━━━━━━━━━━━━\u001B[0m\u001B[37m\u001B[0m \u001B[1m0s\u001B[0m 2ms/step - accuracy: 0.8311 - loss: 0.3869 - val_accuracy: 0.8052 - val_loss: 0.4131\n",
      "Epoch 14/100\n",
      "\u001B[1m22/22\u001B[0m \u001B[32m━━━━━━━━━━━━━━━━━━━━\u001B[0m\u001B[37m\u001B[0m \u001B[1m0s\u001B[0m 2ms/step - accuracy: 0.8245 - loss: 0.4001 - val_accuracy: 0.7662 - val_loss: 0.4329\n",
      "Epoch 15/100\n",
      "\u001B[1m22/22\u001B[0m \u001B[32m━━━━━━━━━━━━━━━━━━━━\u001B[0m\u001B[37m\u001B[0m \u001B[1m0s\u001B[0m 2ms/step - accuracy: 0.8345 - loss: 0.3458 - val_accuracy: 0.7662 - val_loss: 0.4335\n",
      "Epoch 16/100\n",
      "\u001B[1m22/22\u001B[0m \u001B[32m━━━━━━━━━━━━━━━━━━━━\u001B[0m\u001B[37m\u001B[0m \u001B[1m0s\u001B[0m 2ms/step - accuracy: 0.8477 - loss: 0.3629 - val_accuracy: 0.7532 - val_loss: 0.4560\n",
      "Epoch 17/100\n",
      "\u001B[1m22/22\u001B[0m \u001B[32m━━━━━━━━━━━━━━━━━━━━\u001B[0m\u001B[37m\u001B[0m \u001B[1m0s\u001B[0m 2ms/step - accuracy: 0.8485 - loss: 0.3443 - val_accuracy: 0.8052 - val_loss: 0.4075\n",
      "Epoch 18/100\n",
      "\u001B[1m22/22\u001B[0m \u001B[32m━━━━━━━━━━━━━━━━━━━━\u001B[0m\u001B[37m\u001B[0m \u001B[1m0s\u001B[0m 2ms/step - accuracy: 0.8737 - loss: 0.3168 - val_accuracy: 0.8182 - val_loss: 0.4315\n",
      "Epoch 19/100\n",
      "\u001B[1m22/22\u001B[0m \u001B[32m━━━━━━━━━━━━━━━━━━━━\u001B[0m\u001B[37m\u001B[0m \u001B[1m0s\u001B[0m 2ms/step - accuracy: 0.8605 - loss: 0.3354 - val_accuracy: 0.8052 - val_loss: 0.4193\n",
      "Epoch 20/100\n",
      "\u001B[1m22/22\u001B[0m \u001B[32m━━━━━━━━━━━━━━━━━━━━\u001B[0m\u001B[37m\u001B[0m \u001B[1m0s\u001B[0m 2ms/step - accuracy: 0.8577 - loss: 0.3185 - val_accuracy: 0.7792 - val_loss: 0.4679\n",
      "Epoch 21/100\n",
      "\u001B[1m22/22\u001B[0m \u001B[32m━━━━━━━━━━━━━━━━━━━━\u001B[0m\u001B[37m\u001B[0m \u001B[1m0s\u001B[0m 2ms/step - accuracy: 0.8635 - loss: 0.2977 - val_accuracy: 0.7792 - val_loss: 0.5686\n",
      "Epoch 22/100\n",
      "\u001B[1m22/22\u001B[0m \u001B[32m━━━━━━━━━━━━━━━━━━━━\u001B[0m\u001B[37m\u001B[0m \u001B[1m0s\u001B[0m 2ms/step - accuracy: 0.8434 - loss: 0.3454 - val_accuracy: 0.7792 - val_loss: 0.4786\n",
      "Epoch 23/100\n",
      "\u001B[1m22/22\u001B[0m \u001B[32m━━━━━━━━━━━━━━━━━━━━\u001B[0m\u001B[37m\u001B[0m \u001B[1m0s\u001B[0m 2ms/step - accuracy: 0.8805 - loss: 0.2633 - val_accuracy: 0.7792 - val_loss: 0.5150\n",
      "Epoch 24/100\n",
      "\u001B[1m22/22\u001B[0m \u001B[32m━━━━━━━━━━━━━━━━━━━━\u001B[0m\u001B[37m\u001B[0m \u001B[1m0s\u001B[0m 2ms/step - accuracy: 0.8904 - loss: 0.2722 - val_accuracy: 0.7922 - val_loss: 0.4890\n",
      "Epoch 25/100\n",
      "\u001B[1m22/22\u001B[0m \u001B[32m━━━━━━━━━━━━━━━━━━━━\u001B[0m\u001B[37m\u001B[0m \u001B[1m0s\u001B[0m 2ms/step - accuracy: 0.8888 - loss: 0.2414 - val_accuracy: 0.7532 - val_loss: 0.4811\n",
      "Epoch 26/100\n",
      "\u001B[1m22/22\u001B[0m \u001B[32m━━━━━━━━━━━━━━━━━━━━\u001B[0m\u001B[37m\u001B[0m \u001B[1m0s\u001B[0m 2ms/step - accuracy: 0.9071 - loss: 0.2305 - val_accuracy: 0.7273 - val_loss: 0.6456\n",
      "Epoch 27/100\n",
      "\u001B[1m22/22\u001B[0m \u001B[32m━━━━━━━━━━━━━━━━━━━━\u001B[0m\u001B[37m\u001B[0m \u001B[1m0s\u001B[0m 2ms/step - accuracy: 0.8949 - loss: 0.2559 - val_accuracy: 0.7922 - val_loss: 0.5396\n",
      "Epoch 28/100\n",
      "\u001B[1m22/22\u001B[0m \u001B[32m━━━━━━━━━━━━━━━━━━━━\u001B[0m\u001B[37m\u001B[0m \u001B[1m0s\u001B[0m 2ms/step - accuracy: 0.9331 - loss: 0.1797 - val_accuracy: 0.7532 - val_loss: 0.8145\n",
      "Epoch 29/100\n",
      "\u001B[1m22/22\u001B[0m \u001B[32m━━━━━━━━━━━━━━━━━━━━\u001B[0m\u001B[37m\u001B[0m \u001B[1m0s\u001B[0m 2ms/step - accuracy: 0.8934 - loss: 0.2852 - val_accuracy: 0.7403 - val_loss: 0.7939\n",
      "Epoch 30/100\n",
      "\u001B[1m22/22\u001B[0m \u001B[32m━━━━━━━━━━━━━━━━━━━━\u001B[0m\u001B[37m\u001B[0m \u001B[1m0s\u001B[0m 2ms/step - accuracy: 0.9378 - loss: 0.1874 - val_accuracy: 0.7532 - val_loss: 0.7545\n",
      "Epoch 31/100\n",
      "\u001B[1m22/22\u001B[0m \u001B[32m━━━━━━━━━━━━━━━━━━━━\u001B[0m\u001B[37m\u001B[0m \u001B[1m0s\u001B[0m 2ms/step - accuracy: 0.9491 - loss: 0.1402 - val_accuracy: 0.7662 - val_loss: 0.6895\n",
      "Epoch 32/100\n",
      "\u001B[1m22/22\u001B[0m \u001B[32m━━━━━━━━━━━━━━━━━━━━\u001B[0m\u001B[37m\u001B[0m \u001B[1m0s\u001B[0m 2ms/step - accuracy: 0.9617 - loss: 0.1350 - val_accuracy: 0.7792 - val_loss: 0.6805\n",
      "Epoch 33/100\n",
      "\u001B[1m22/22\u001B[0m \u001B[32m━━━━━━━━━━━━━━━━━━━━\u001B[0m\u001B[37m\u001B[0m \u001B[1m0s\u001B[0m 2ms/step - accuracy: 0.9434 - loss: 0.1687 - val_accuracy: 0.7403 - val_loss: 0.7900\n",
      "Epoch 34/100\n",
      "\u001B[1m22/22\u001B[0m \u001B[32m━━━━━━━━━━━━━━━━━━━━\u001B[0m\u001B[37m\u001B[0m \u001B[1m0s\u001B[0m 2ms/step - accuracy: 0.9418 - loss: 0.1610 - val_accuracy: 0.7922 - val_loss: 0.8364\n",
      "Epoch 35/100\n",
      "\u001B[1m22/22\u001B[0m \u001B[32m━━━━━━━━━━━━━━━━━━━━\u001B[0m\u001B[37m\u001B[0m \u001B[1m0s\u001B[0m 2ms/step - accuracy: 0.9379 - loss: 0.1428 - val_accuracy: 0.7662 - val_loss: 0.9677\n",
      "Epoch 36/100\n",
      "\u001B[1m22/22\u001B[0m \u001B[32m━━━━━━━━━━━━━━━━━━━━\u001B[0m\u001B[37m\u001B[0m \u001B[1m0s\u001B[0m 2ms/step - accuracy: 0.9271 - loss: 0.2069 - val_accuracy: 0.7662 - val_loss: 0.8173\n",
      "Epoch 37/100\n",
      "\u001B[1m22/22\u001B[0m \u001B[32m━━━━━━━━━━━━━━━━━━━━\u001B[0m\u001B[37m\u001B[0m \u001B[1m0s\u001B[0m 2ms/step - accuracy: 0.9463 - loss: 0.1538 - val_accuracy: 0.8052 - val_loss: 0.7235\n",
      "Epoch 38/100\n",
      "\u001B[1m22/22\u001B[0m \u001B[32m━━━━━━━━━━━━━━━━━━━━\u001B[0m\u001B[37m\u001B[0m \u001B[1m0s\u001B[0m 2ms/step - accuracy: 0.9518 - loss: 0.1114 - val_accuracy: 0.7532 - val_loss: 0.8594\n",
      "Epoch 39/100\n",
      "\u001B[1m22/22\u001B[0m \u001B[32m━━━━━━━━━━━━━━━━━━━━\u001B[0m\u001B[37m\u001B[0m \u001B[1m0s\u001B[0m 2ms/step - accuracy: 0.9736 - loss: 0.0836 - val_accuracy: 0.7792 - val_loss: 0.6924\n",
      "Epoch 40/100\n",
      "\u001B[1m22/22\u001B[0m \u001B[32m━━━━━━━━━━━━━━━━━━━━\u001B[0m\u001B[37m\u001B[0m \u001B[1m0s\u001B[0m 2ms/step - accuracy: 0.9790 - loss: 0.0664 - val_accuracy: 0.7922 - val_loss: 0.9237\n",
      "Epoch 41/100\n",
      "\u001B[1m22/22\u001B[0m \u001B[32m━━━━━━━━━━━━━━━━━━━━\u001B[0m\u001B[37m\u001B[0m \u001B[1m0s\u001B[0m 2ms/step - accuracy: 0.9393 - loss: 0.1542 - val_accuracy: 0.7532 - val_loss: 1.0911\n",
      "Epoch 42/100\n",
      "\u001B[1m22/22\u001B[0m \u001B[32m━━━━━━━━━━━━━━━━━━━━\u001B[0m\u001B[37m\u001B[0m \u001B[1m0s\u001B[0m 2ms/step - accuracy: 0.9717 - loss: 0.1107 - val_accuracy: 0.7662 - val_loss: 1.0953\n",
      "Epoch 43/100\n",
      "\u001B[1m22/22\u001B[0m \u001B[32m━━━━━━━━━━━━━━━━━━━━\u001B[0m\u001B[37m\u001B[0m \u001B[1m0s\u001B[0m 2ms/step - accuracy: 0.9622 - loss: 0.0899 - val_accuracy: 0.7532 - val_loss: 1.1799\n",
      "Epoch 44/100\n",
      "\u001B[1m22/22\u001B[0m \u001B[32m━━━━━━━━━━━━━━━━━━━━\u001B[0m\u001B[37m\u001B[0m \u001B[1m0s\u001B[0m 2ms/step - accuracy: 0.9716 - loss: 0.0707 - val_accuracy: 0.7662 - val_loss: 0.9369\n",
      "Epoch 45/100\n",
      "\u001B[1m22/22\u001B[0m \u001B[32m━━━━━━━━━━━━━━━━━━━━\u001B[0m\u001B[37m\u001B[0m \u001B[1m0s\u001B[0m 2ms/step - accuracy: 0.9542 - loss: 0.1241 - val_accuracy: 0.7273 - val_loss: 0.9747\n",
      "Epoch 46/100\n",
      "\u001B[1m22/22\u001B[0m \u001B[32m━━━━━━━━━━━━━━━━━━━━\u001B[0m\u001B[37m\u001B[0m \u001B[1m0s\u001B[0m 2ms/step - accuracy: 0.9843 - loss: 0.0458 - val_accuracy: 0.7792 - val_loss: 1.2266\n",
      "Epoch 47/100\n",
      "\u001B[1m22/22\u001B[0m \u001B[32m━━━━━━━━━━━━━━━━━━━━\u001B[0m\u001B[37m\u001B[0m \u001B[1m0s\u001B[0m 2ms/step - accuracy: 0.9696 - loss: 0.0840 - val_accuracy: 0.7403 - val_loss: 1.2237\n",
      "Epoch 48/100\n",
      "\u001B[1m22/22\u001B[0m \u001B[32m━━━━━━━━━━━━━━━━━━━━\u001B[0m\u001B[37m\u001B[0m \u001B[1m0s\u001B[0m 2ms/step - accuracy: 0.9825 - loss: 0.0635 - val_accuracy: 0.7792 - val_loss: 1.1105\n",
      "Epoch 49/100\n",
      "\u001B[1m22/22\u001B[0m \u001B[32m━━━━━━━━━━━━━━━━━━━━\u001B[0m\u001B[37m\u001B[0m \u001B[1m0s\u001B[0m 2ms/step - accuracy: 0.9703 - loss: 0.1055 - val_accuracy: 0.7532 - val_loss: 1.2285\n",
      "Epoch 50/100\n",
      "\u001B[1m22/22\u001B[0m \u001B[32m━━━━━━━━━━━━━━━━━━━━\u001B[0m\u001B[37m\u001B[0m \u001B[1m0s\u001B[0m 2ms/step - accuracy: 0.9728 - loss: 0.0559 - val_accuracy: 0.7403 - val_loss: 0.9941\n",
      "Epoch 51/100\n",
      "\u001B[1m22/22\u001B[0m \u001B[32m━━━━━━━━━━━━━━━━━━━━\u001B[0m\u001B[37m\u001B[0m \u001B[1m0s\u001B[0m 2ms/step - accuracy: 0.9716 - loss: 0.0941 - val_accuracy: 0.7532 - val_loss: 1.2017\n",
      "Epoch 52/100\n",
      "\u001B[1m22/22\u001B[0m \u001B[32m━━━━━━━━━━━━━━━━━━━━\u001B[0m\u001B[37m\u001B[0m \u001B[1m0s\u001B[0m 2ms/step - accuracy: 0.9856 - loss: 0.0518 - val_accuracy: 0.7922 - val_loss: 1.0277\n",
      "Epoch 53/100\n",
      "\u001B[1m22/22\u001B[0m \u001B[32m━━━━━━━━━━━━━━━━━━━━\u001B[0m\u001B[37m\u001B[0m \u001B[1m0s\u001B[0m 2ms/step - accuracy: 0.9896 - loss: 0.0344 - val_accuracy: 0.7403 - val_loss: 1.1901\n",
      "Epoch 54/100\n",
      "\u001B[1m22/22\u001B[0m \u001B[32m━━━━━━━━━━━━━━━━━━━━\u001B[0m\u001B[37m\u001B[0m \u001B[1m0s\u001B[0m 2ms/step - accuracy: 0.9839 - loss: 0.0424 - val_accuracy: 0.7792 - val_loss: 1.2163\n",
      "Epoch 55/100\n",
      "\u001B[1m22/22\u001B[0m \u001B[32m━━━━━━━━━━━━━━━━━━━━\u001B[0m\u001B[37m\u001B[0m \u001B[1m0s\u001B[0m 2ms/step - accuracy: 0.9793 - loss: 0.0698 - val_accuracy: 0.7662 - val_loss: 1.3344\n",
      "Epoch 56/100\n",
      "\u001B[1m22/22\u001B[0m \u001B[32m━━━━━━━━━━━━━━━━━━━━\u001B[0m\u001B[37m\u001B[0m \u001B[1m0s\u001B[0m 2ms/step - accuracy: 0.9579 - loss: 0.1131 - val_accuracy: 0.7922 - val_loss: 1.0839\n",
      "Epoch 57/100\n",
      "\u001B[1m22/22\u001B[0m \u001B[32m━━━━━━━━━━━━━━━━━━━━\u001B[0m\u001B[37m\u001B[0m \u001B[1m0s\u001B[0m 2ms/step - accuracy: 0.9966 - loss: 0.0201 - val_accuracy: 0.8052 - val_loss: 1.6623\n",
      "Epoch 58/100\n",
      "\u001B[1m22/22\u001B[0m \u001B[32m━━━━━━━━━━━━━━━━━━━━\u001B[0m\u001B[37m\u001B[0m \u001B[1m0s\u001B[0m 2ms/step - accuracy: 0.9708 - loss: 0.1059 - val_accuracy: 0.7273 - val_loss: 1.2166\n",
      "Epoch 59/100\n",
      "\u001B[1m22/22\u001B[0m \u001B[32m━━━━━━━━━━━━━━━━━━━━\u001B[0m\u001B[37m\u001B[0m \u001B[1m0s\u001B[0m 2ms/step - accuracy: 0.9838 - loss: 0.0540 - val_accuracy: 0.7662 - val_loss: 1.3011\n",
      "Epoch 60/100\n",
      "\u001B[1m22/22\u001B[0m \u001B[32m━━━━━━━━━━━━━━━━━━━━\u001B[0m\u001B[37m\u001B[0m \u001B[1m0s\u001B[0m 2ms/step - accuracy: 0.9810 - loss: 0.0639 - val_accuracy: 0.7662 - val_loss: 1.2143\n",
      "Epoch 61/100\n",
      "\u001B[1m22/22\u001B[0m \u001B[32m━━━━━━━━━━━━━━━━━━━━\u001B[0m\u001B[37m\u001B[0m \u001B[1m0s\u001B[0m 2ms/step - accuracy: 0.9968 - loss: 0.0159 - val_accuracy: 0.7532 - val_loss: 1.4329\n",
      "Epoch 62/100\n",
      "\u001B[1m22/22\u001B[0m \u001B[32m━━━━━━━━━━━━━━━━━━━━\u001B[0m\u001B[37m\u001B[0m \u001B[1m0s\u001B[0m 2ms/step - accuracy: 0.9800 - loss: 0.0563 - val_accuracy: 0.7792 - val_loss: 1.1307\n",
      "Epoch 63/100\n",
      "\u001B[1m22/22\u001B[0m \u001B[32m━━━━━━━━━━━━━━━━━━━━\u001B[0m\u001B[37m\u001B[0m \u001B[1m0s\u001B[0m 2ms/step - accuracy: 0.9963 - loss: 0.0149 - val_accuracy: 0.7792 - val_loss: 1.3985\n",
      "Epoch 64/100\n",
      "\u001B[1m22/22\u001B[0m \u001B[32m━━━━━━━━━━━━━━━━━━━━\u001B[0m\u001B[37m\u001B[0m \u001B[1m0s\u001B[0m 2ms/step - accuracy: 0.9827 - loss: 0.0603 - val_accuracy: 0.7922 - val_loss: 1.2655\n",
      "Epoch 65/100\n",
      "\u001B[1m22/22\u001B[0m \u001B[32m━━━━━━━━━━━━━━━━━━━━\u001B[0m\u001B[37m\u001B[0m \u001B[1m0s\u001B[0m 2ms/step - accuracy: 0.9953 - loss: 0.0196 - val_accuracy: 0.7403 - val_loss: 1.3703\n",
      "Epoch 66/100\n",
      "\u001B[1m22/22\u001B[0m \u001B[32m━━━━━━━━━━━━━━━━━━━━\u001B[0m\u001B[37m\u001B[0m \u001B[1m0s\u001B[0m 2ms/step - accuracy: 0.9838 - loss: 0.0558 - val_accuracy: 0.7792 - val_loss: 1.3217\n",
      "Epoch 67/100\n",
      "\u001B[1m22/22\u001B[0m \u001B[32m━━━━━━━━━━━━━━━━━━━━\u001B[0m\u001B[37m\u001B[0m \u001B[1m0s\u001B[0m 2ms/step - accuracy: 0.9928 - loss: 0.0232 - val_accuracy: 0.7922 - val_loss: 1.4175\n",
      "Epoch 68/100\n",
      "\u001B[1m22/22\u001B[0m \u001B[32m━━━━━━━━━━━━━━━━━━━━\u001B[0m\u001B[37m\u001B[0m \u001B[1m0s\u001B[0m 2ms/step - accuracy: 0.9973 - loss: 0.0134 - val_accuracy: 0.7532 - val_loss: 1.8957\n",
      "Epoch 69/100\n",
      "\u001B[1m22/22\u001B[0m \u001B[32m━━━━━━━━━━━━━━━━━━━━\u001B[0m\u001B[37m\u001B[0m \u001B[1m0s\u001B[0m 2ms/step - accuracy: 0.9811 - loss: 0.0742 - val_accuracy: 0.7532 - val_loss: 1.3770\n",
      "Epoch 70/100\n",
      "\u001B[1m22/22\u001B[0m \u001B[32m━━━━━━━━━━━━━━━━━━━━\u001B[0m\u001B[37m\u001B[0m \u001B[1m0s\u001B[0m 2ms/step - accuracy: 1.0000 - loss: 0.0022 - val_accuracy: 0.7922 - val_loss: 1.4422\n",
      "Epoch 71/100\n",
      "\u001B[1m22/22\u001B[0m \u001B[32m━━━━━━━━━━━━━━━━━━━━\u001B[0m\u001B[37m\u001B[0m \u001B[1m0s\u001B[0m 2ms/step - accuracy: 0.9997 - loss: 0.0027 - val_accuracy: 0.6623 - val_loss: 2.2982\n",
      "Epoch 72/100\n",
      "\u001B[1m22/22\u001B[0m \u001B[32m━━━━━━━━━━━━━━━━━━━━\u001B[0m\u001B[37m\u001B[0m \u001B[1m0s\u001B[0m 2ms/step - accuracy: 0.9465 - loss: 0.2720 - val_accuracy: 0.7403 - val_loss: 1.6809\n",
      "Epoch 73/100\n",
      "\u001B[1m22/22\u001B[0m \u001B[32m━━━━━━━━━━━━━━━━━━━━\u001B[0m\u001B[37m\u001B[0m \u001B[1m0s\u001B[0m 2ms/step - accuracy: 0.9906 - loss: 0.0378 - val_accuracy: 0.7662 - val_loss: 1.5359\n",
      "Epoch 74/100\n",
      "\u001B[1m22/22\u001B[0m \u001B[32m━━━━━━━━━━━━━━━━━━━━\u001B[0m\u001B[37m\u001B[0m \u001B[1m0s\u001B[0m 2ms/step - accuracy: 0.9847 - loss: 0.0359 - val_accuracy: 0.7532 - val_loss: 1.7434\n",
      "Epoch 75/100\n",
      "\u001B[1m22/22\u001B[0m \u001B[32m━━━━━━━━━━━━━━━━━━━━\u001B[0m\u001B[37m\u001B[0m \u001B[1m0s\u001B[0m 2ms/step - accuracy: 0.9955 - loss: 0.0149 - val_accuracy: 0.7273 - val_loss: 1.5183\n",
      "Epoch 76/100\n",
      "\u001B[1m22/22\u001B[0m \u001B[32m━━━━━━━━━━━━━━━━━━━━\u001B[0m\u001B[37m\u001B[0m \u001B[1m0s\u001B[0m 2ms/step - accuracy: 0.9812 - loss: 0.0404 - val_accuracy: 0.7922 - val_loss: 1.4147\n",
      "Epoch 77/100\n",
      "\u001B[1m22/22\u001B[0m \u001B[32m━━━━━━━━━━━━━━━━━━━━\u001B[0m\u001B[37m\u001B[0m \u001B[1m0s\u001B[0m 2ms/step - accuracy: 0.9949 - loss: 0.0264 - val_accuracy: 0.7403 - val_loss: 1.7563\n",
      "Epoch 78/100\n",
      "\u001B[1m22/22\u001B[0m \u001B[32m━━━━━━━━━━━━━━━━━━━━\u001B[0m\u001B[37m\u001B[0m \u001B[1m0s\u001B[0m 2ms/step - accuracy: 0.9933 - loss: 0.0271 - val_accuracy: 0.7662 - val_loss: 1.5787\n",
      "Epoch 79/100\n",
      "\u001B[1m22/22\u001B[0m \u001B[32m━━━━━━━━━━━━━━━━━━━━\u001B[0m\u001B[37m\u001B[0m \u001B[1m0s\u001B[0m 2ms/step - accuracy: 0.9832 - loss: 0.0360 - val_accuracy: 0.7532 - val_loss: 1.4604\n",
      "Epoch 80/100\n",
      "\u001B[1m22/22\u001B[0m \u001B[32m━━━━━━━━━━━━━━━━━━━━\u001B[0m\u001B[37m\u001B[0m \u001B[1m0s\u001B[0m 2ms/step - accuracy: 0.9945 - loss: 0.0289 - val_accuracy: 0.7662 - val_loss: 1.6049\n",
      "Epoch 81/100\n",
      "\u001B[1m22/22\u001B[0m \u001B[32m━━━━━━━━━━━━━━━━━━━━\u001B[0m\u001B[37m\u001B[0m \u001B[1m0s\u001B[0m 2ms/step - accuracy: 0.9846 - loss: 0.0423 - val_accuracy: 0.7662 - val_loss: 1.5683\n",
      "Epoch 82/100\n",
      "\u001B[1m22/22\u001B[0m \u001B[32m━━━━━━━━━━━━━━━━━━━━\u001B[0m\u001B[37m\u001B[0m \u001B[1m0s\u001B[0m 2ms/step - accuracy: 0.9821 - loss: 0.0439 - val_accuracy: 0.7143 - val_loss: 1.4167\n",
      "Epoch 83/100\n",
      "\u001B[1m22/22\u001B[0m \u001B[32m━━━━━━━━━━━━━━━━━━━━\u001B[0m\u001B[37m\u001B[0m \u001B[1m0s\u001B[0m 2ms/step - accuracy: 0.9919 - loss: 0.0112 - val_accuracy: 0.7532 - val_loss: 1.6878\n",
      "Epoch 84/100\n",
      "\u001B[1m22/22\u001B[0m \u001B[32m━━━━━━━━━━━━━━━━━━━━\u001B[0m\u001B[37m\u001B[0m \u001B[1m0s\u001B[0m 2ms/step - accuracy: 1.0000 - loss: 0.0012 - val_accuracy: 0.7532 - val_loss: 1.8707\n",
      "Epoch 85/100\n",
      "\u001B[1m22/22\u001B[0m \u001B[32m━━━━━━━━━━━━━━━━━━━━\u001B[0m\u001B[37m\u001B[0m \u001B[1m0s\u001B[0m 2ms/step - accuracy: 0.9925 - loss: 0.0212 - val_accuracy: 0.8052 - val_loss: 1.6084\n",
      "Epoch 86/100\n",
      "\u001B[1m22/22\u001B[0m \u001B[32m━━━━━━━━━━━━━━━━━━━━\u001B[0m\u001B[37m\u001B[0m \u001B[1m0s\u001B[0m 2ms/step - accuracy: 0.9821 - loss: 0.0358 - val_accuracy: 0.6753 - val_loss: 1.8658\n",
      "Epoch 87/100\n",
      "\u001B[1m22/22\u001B[0m \u001B[32m━━━━━━━━━━━━━━━━━━━━\u001B[0m\u001B[37m\u001B[0m \u001B[1m0s\u001B[0m 2ms/step - accuracy: 0.9932 - loss: 0.0134 - val_accuracy: 0.7792 - val_loss: 1.4579\n",
      "Epoch 88/100\n",
      "\u001B[1m22/22\u001B[0m \u001B[32m━━━━━━━━━━━━━━━━━━━━\u001B[0m\u001B[37m\u001B[0m \u001B[1m0s\u001B[0m 2ms/step - accuracy: 0.9832 - loss: 0.0395 - val_accuracy: 0.7403 - val_loss: 1.4717\n",
      "Epoch 89/100\n",
      "\u001B[1m22/22\u001B[0m \u001B[32m━━━━━━━━━━━━━━━━━━━━\u001B[0m\u001B[37m\u001B[0m \u001B[1m0s\u001B[0m 2ms/step - accuracy: 1.0000 - loss: 0.0022 - val_accuracy: 0.7662 - val_loss: 1.7508\n",
      "Epoch 90/100\n",
      "\u001B[1m22/22\u001B[0m \u001B[32m━━━━━━━━━━━━━━━━━━━━\u001B[0m\u001B[37m\u001B[0m \u001B[1m0s\u001B[0m 2ms/step - accuracy: 1.0000 - loss: 4.6150e-04 - val_accuracy: 0.7662 - val_loss: 1.9220\n",
      "Epoch 91/100\n",
      "\u001B[1m22/22\u001B[0m \u001B[32m━━━━━━━━━━━━━━━━━━━━\u001B[0m\u001B[37m\u001B[0m \u001B[1m0s\u001B[0m 2ms/step - accuracy: 0.9930 - loss: 0.0353 - val_accuracy: 0.7143 - val_loss: 1.7231\n",
      "Epoch 92/100\n",
      "\u001B[1m22/22\u001B[0m \u001B[32m━━━━━━━━━━━━━━━━━━━━\u001B[0m\u001B[37m\u001B[0m \u001B[1m0s\u001B[0m 2ms/step - accuracy: 0.9944 - loss: 0.0118 - val_accuracy: 0.7143 - val_loss: 1.6685\n",
      "Epoch 93/100\n",
      "\u001B[1m22/22\u001B[0m \u001B[32m━━━━━━━━━━━━━━━━━━━━\u001B[0m\u001B[37m\u001B[0m \u001B[1m0s\u001B[0m 2ms/step - accuracy: 0.9955 - loss: 0.0321 - val_accuracy: 0.7792 - val_loss: 1.4713\n",
      "Epoch 94/100\n",
      "\u001B[1m22/22\u001B[0m \u001B[32m━━━━━━━━━━━━━━━━━━━━\u001B[0m\u001B[37m\u001B[0m \u001B[1m0s\u001B[0m 2ms/step - accuracy: 0.9946 - loss: 0.0220 - val_accuracy: 0.7273 - val_loss: 1.4998\n",
      "Epoch 95/100\n",
      "\u001B[1m22/22\u001B[0m \u001B[32m━━━━━━━━━━━━━━━━━━━━\u001B[0m\u001B[37m\u001B[0m \u001B[1m0s\u001B[0m 2ms/step - accuracy: 0.9794 - loss: 0.0630 - val_accuracy: 0.7792 - val_loss: 1.2695\n",
      "Epoch 96/100\n",
      "\u001B[1m22/22\u001B[0m \u001B[32m━━━━━━━━━━━━━━━━━━━━\u001B[0m\u001B[37m\u001B[0m \u001B[1m0s\u001B[0m 2ms/step - accuracy: 0.9944 - loss: 0.0196 - val_accuracy: 0.7792 - val_loss: 1.2075\n",
      "Epoch 97/100\n",
      "\u001B[1m22/22\u001B[0m \u001B[32m━━━━━━━━━━━━━━━━━━━━\u001B[0m\u001B[37m\u001B[0m \u001B[1m0s\u001B[0m 2ms/step - accuracy: 1.0000 - loss: 0.0014 - val_accuracy: 0.7662 - val_loss: 1.4052\n",
      "Epoch 98/100\n",
      "\u001B[1m22/22\u001B[0m \u001B[32m━━━━━━━━━━━━━━━━━━━━\u001B[0m\u001B[37m\u001B[0m \u001B[1m0s\u001B[0m 2ms/step - accuracy: 1.0000 - loss: 4.8855e-04 - val_accuracy: 0.7662 - val_loss: 1.6115\n",
      "Epoch 99/100\n",
      "\u001B[1m22/22\u001B[0m \u001B[32m━━━━━━━━━━━━━━━━━━━━\u001B[0m\u001B[37m\u001B[0m \u001B[1m0s\u001B[0m 2ms/step - accuracy: 1.0000 - loss: 2.2193e-04 - val_accuracy: 0.7662 - val_loss: 1.7409\n",
      "Epoch 100/100\n",
      "\u001B[1m22/22\u001B[0m \u001B[32m━━━━━━━━━━━━━━━━━━━━\u001B[0m\u001B[37m\u001B[0m \u001B[1m0s\u001B[0m 2ms/step - accuracy: 1.0000 - loss: 7.2188e-05 - val_accuracy: 0.7792 - val_loss: 1.9497\n"
     ]
    },
    {
     "data": {
      "text/plain": [
       "<keras.src.callbacks.history.History at 0x246a35f7c10>"
      ]
     },
     "execution_count": 70,
     "metadata": {},
     "output_type": "execute_result"
    }
   ],
   "execution_count": 70
  },
  {
   "metadata": {},
   "cell_type": "markdown",
   "source": "# 4. All in all one model ",
   "id": "91aa0d316dafd910"
  },
  {
   "metadata": {
    "ExecuteTime": {
     "end_time": "2025-01-03T06:11:41.905318Z",
     "start_time": "2025-01-03T06:11:41.899073Z"
    }
   },
   "cell_type": "code",
   "source": [
    "def build_model(hp):\n",
    "    \n",
    "    model = Sequential()\n",
    "    \n",
    "    counter = 0\n",
    "    \n",
    "    for i in range(hp.Int('num_layers',min_value=1,max_value=10)):\n",
    "        if counter == 0:\n",
    "            model.add(\n",
    "                Dense(hp.Int('units'+ str(i),min_value=8,max_value=128,step=8),\n",
    "                      activation = hp.Choice('activation' + str(i),values=['relu','tanh','sigmoid']),\n",
    "                      input_dim=8        \n",
    "                      )\n",
    "            )\n",
    "            model.add(Dropout(hp.Choice('dropout'+str(i),values=[0.1,0.2,0.3,0.4,0.5,0.6,0.7,0.8,0.9])))\n",
    "            \n",
    "        else:\n",
    "            model.add(\n",
    "                Dense(hp.Int('units'+ str(i),min_value=8,max_value=128,step=8),\n",
    "                      activation = hp.Choice('activation' + str(i),values=['relu','tanh','sigmoid'])\n",
    "                      )\n",
    "            )\n",
    "            model.add(Dropout(hp.Choice('dropout'+str(i),values=[0.1,0.2,0.3,0.4,0.5,0.6,0.7,0.8,0.9])))\n",
    "        counter +=1    \n",
    "        \n",
    "    model.add(Dense(1,activation='sigmoid'))\n",
    "    model.compile(optimizer=hp.Choice('optimizer',values=['rmsprop','adam','sgd','nadam','adadelta']),\n",
    "                  loss='binary_crossentropy',\n",
    "                  metrics=['accuracy'])   \n",
    "    \n",
    "    return model"
   ],
   "id": "a55a2be48e2370c0",
   "outputs": [],
   "execution_count": 82
  },
  {
   "metadata": {
    "ExecuteTime": {
     "end_time": "2025-01-03T06:11:43.038141Z",
     "start_time": "2025-01-03T06:11:43.010124Z"
    }
   },
   "cell_type": "code",
   "source": [
    "tuner = kt.RandomSearch(build_model,\n",
    "                        objective='val_accuracy',\n",
    "                        max_trials=3,\n",
    "                        directory='my_dir',\n",
    "                        project_name='final')\n"
   ],
   "id": "aa7fc142cb74c866",
   "outputs": [
    {
     "name": "stderr",
     "output_type": "stream",
     "text": [
      "C:\\Users\\HP TECHNOLOGY\\anaconda3\\Lib\\site-packages\\keras\\src\\layers\\core\\dense.py:87: UserWarning: Do not pass an `input_shape`/`input_dim` argument to a layer. When using Sequential models, prefer using an `Input(shape)` object as the first layer in the model instead.\n",
      "  super().__init__(activity_regularizer=activity_regularizer, **kwargs)\n"
     ]
    }
   ],
   "execution_count": 83
  },
  {
   "metadata": {},
   "cell_type": "code",
   "source": "tuner.search(X_train,y_train,epochs=100,initial_epoch=6,validation_data=(X_test,y_test))",
   "id": "2060f967de3b9f55",
   "execution_count": 84,
   "outputs": [
    {
     "name": "stdout",
     "output_type": "stream",
     "text": [
      "Trial 3 Complete [00h 00m 10s]\n",
      "val_accuracy: 0.7922077775001526\n",
      "\n",
      "Best val_accuracy So Far: 0.7922077775001526\n",
      "Total elapsed time: 00h 00m 31s\n"
     ]
    }
   ]
  },
  {
   "metadata": {
    "ExecuteTime": {
     "end_time": "2025-01-03T06:12:19.752496Z",
     "start_time": "2025-01-03T06:12:19.746908Z"
    }
   },
   "cell_type": "code",
   "source": "tuner.get_best_hyperparameters()[0].values",
   "id": "cb5da3e8af8ff6ca",
   "outputs": [
    {
     "data": {
      "text/plain": [
       "{'num_layers': 5,\n",
       " 'units0': 128,\n",
       " 'activation0': 'sigmoid',\n",
       " 'dropout0': 0.5,\n",
       " 'optimizer': 'adam',\n",
       " 'units1': 96,\n",
       " 'activation1': 'tanh',\n",
       " 'dropout1': 0.4,\n",
       " 'units2': 128,\n",
       " 'activation2': 'relu',\n",
       " 'dropout2': 0.5,\n",
       " 'units3': 8,\n",
       " 'activation3': 'relu',\n",
       " 'dropout3': 0.3,\n",
       " 'units4': 104,\n",
       " 'activation4': 'tanh',\n",
       " 'dropout4': 0.6,\n",
       " 'units5': 72,\n",
       " 'activation5': 'tanh',\n",
       " 'dropout5': 0.5,\n",
       " 'units6': 88,\n",
       " 'activation6': 'relu',\n",
       " 'dropout6': 0.1,\n",
       " 'units7': 88,\n",
       " 'activation7': 'relu',\n",
       " 'dropout7': 0.6,\n",
       " 'units8': 88,\n",
       " 'activation8': 'sigmoid',\n",
       " 'dropout8': 0.2}"
      ]
     },
     "execution_count": 85,
     "metadata": {},
     "output_type": "execute_result"
    }
   ],
   "execution_count": 85
  },
  {
   "metadata": {
    "ExecuteTime": {
     "end_time": "2025-01-03T06:12:25.526996Z",
     "start_time": "2025-01-03T06:12:24.611064Z"
    }
   },
   "cell_type": "code",
   "source": "model = tuner.get_best_models(num_models=1)[0]",
   "id": "6a9747da24718278",
   "outputs": [
    {
     "name": "stderr",
     "output_type": "stream",
     "text": [
      "C:\\Users\\HP TECHNOLOGY\\anaconda3\\Lib\\site-packages\\keras\\src\\layers\\core\\dense.py:87: UserWarning: Do not pass an `input_shape`/`input_dim` argument to a layer. When using Sequential models, prefer using an `Input(shape)` object as the first layer in the model instead.\n",
      "  super().__init__(activity_regularizer=activity_regularizer, **kwargs)\n",
      "C:\\Users\\HP TECHNOLOGY\\anaconda3\\Lib\\site-packages\\keras\\src\\saving\\saving_lib.py:713: UserWarning: Skipping variable loading for optimizer 'adam', because it has 2 variables whereas the saved optimizer has 26 variables. \n",
      "  saveable.load_own_variables(weights_store.get(inner_path))\n"
     ]
    }
   ],
   "execution_count": 86
  },
  {
   "metadata": {
    "ExecuteTime": {
     "end_time": "2025-01-03T06:12:40.203774Z",
     "start_time": "2025-01-03T06:12:26.891047Z"
    }
   },
   "cell_type": "code",
   "source": "model.fit(X_train,y_train,epochs=200,initial_epoch=5,validation_data=(X_test,y_test))",
   "id": "5027ce77b41d0698",
   "outputs": [
    {
     "name": "stdout",
     "output_type": "stream",
     "text": [
      "Epoch 6/200\n",
      "\u001B[1m22/22\u001B[0m \u001B[32m━━━━━━━━━━━━━━━━━━━━\u001B[0m\u001B[37m\u001B[0m \u001B[1m2s\u001B[0m 9ms/step - accuracy: 0.7713 - loss: 0.4857 - val_accuracy: 0.7792 - val_loss: 0.4490\n",
      "Epoch 7/200\n",
      "\u001B[1m22/22\u001B[0m \u001B[32m━━━━━━━━━━━━━━━━━━━━\u001B[0m\u001B[37m\u001B[0m \u001B[1m0s\u001B[0m 2ms/step - accuracy: 0.7449 - loss: 0.4979 - val_accuracy: 0.7922 - val_loss: 0.4539\n",
      "Epoch 8/200\n",
      "\u001B[1m22/22\u001B[0m \u001B[32m━━━━━━━━━━━━━━━━━━━━\u001B[0m\u001B[37m\u001B[0m \u001B[1m0s\u001B[0m 2ms/step - accuracy: 0.7589 - loss: 0.4878 - val_accuracy: 0.7792 - val_loss: 0.4465\n",
      "Epoch 9/200\n",
      "\u001B[1m22/22\u001B[0m \u001B[32m━━━━━━━━━━━━━━━━━━━━\u001B[0m\u001B[37m\u001B[0m \u001B[1m0s\u001B[0m 2ms/step - accuracy: 0.7719 - loss: 0.4959 - val_accuracy: 0.7922 - val_loss: 0.4527\n",
      "Epoch 10/200\n",
      "\u001B[1m22/22\u001B[0m \u001B[32m━━━━━━━━━━━━━━━━━━━━\u001B[0m\u001B[37m\u001B[0m \u001B[1m0s\u001B[0m 2ms/step - accuracy: 0.7743 - loss: 0.4797 - val_accuracy: 0.7922 - val_loss: 0.4517\n",
      "Epoch 11/200\n",
      "\u001B[1m22/22\u001B[0m \u001B[32m━━━━━━━━━━━━━━━━━━━━\u001B[0m\u001B[37m\u001B[0m \u001B[1m0s\u001B[0m 2ms/step - accuracy: 0.7718 - loss: 0.4887 - val_accuracy: 0.7922 - val_loss: 0.4509\n",
      "Epoch 12/200\n",
      "\u001B[1m22/22\u001B[0m \u001B[32m━━━━━━━━━━━━━━━━━━━━\u001B[0m\u001B[37m\u001B[0m \u001B[1m0s\u001B[0m 2ms/step - accuracy: 0.7556 - loss: 0.5035 - val_accuracy: 0.7922 - val_loss: 0.4481\n",
      "Epoch 13/200\n",
      "\u001B[1m22/22\u001B[0m \u001B[32m━━━━━━━━━━━━━━━━━━━━\u001B[0m\u001B[37m\u001B[0m \u001B[1m0s\u001B[0m 2ms/step - accuracy: 0.7473 - loss: 0.5074 - val_accuracy: 0.7662 - val_loss: 0.4498\n",
      "Epoch 14/200\n",
      "\u001B[1m22/22\u001B[0m \u001B[32m━━━━━━━━━━━━━━━━━━━━\u001B[0m\u001B[37m\u001B[0m \u001B[1m0s\u001B[0m 2ms/step - accuracy: 0.7428 - loss: 0.5061 - val_accuracy: 0.7922 - val_loss: 0.4486\n",
      "Epoch 15/200\n",
      "\u001B[1m22/22\u001B[0m \u001B[32m━━━━━━━━━━━━━━━━━━━━\u001B[0m\u001B[37m\u001B[0m \u001B[1m0s\u001B[0m 2ms/step - accuracy: 0.7459 - loss: 0.4917 - val_accuracy: 0.7792 - val_loss: 0.4469\n",
      "Epoch 16/200\n",
      "\u001B[1m22/22\u001B[0m \u001B[32m━━━━━━━━━━━━━━━━━━━━\u001B[0m\u001B[37m\u001B[0m \u001B[1m0s\u001B[0m 2ms/step - accuracy: 0.7569 - loss: 0.4965 - val_accuracy: 0.7792 - val_loss: 0.4508\n",
      "Epoch 17/200\n",
      "\u001B[1m22/22\u001B[0m \u001B[32m━━━━━━━━━━━━━━━━━━━━\u001B[0m\u001B[37m\u001B[0m \u001B[1m0s\u001B[0m 2ms/step - accuracy: 0.7624 - loss: 0.5020 - val_accuracy: 0.7792 - val_loss: 0.4488\n",
      "Epoch 18/200\n",
      "\u001B[1m22/22\u001B[0m \u001B[32m━━━━━━━━━━━━━━━━━━━━\u001B[0m\u001B[37m\u001B[0m \u001B[1m0s\u001B[0m 2ms/step - accuracy: 0.7842 - loss: 0.4651 - val_accuracy: 0.7792 - val_loss: 0.4436\n",
      "Epoch 19/200\n",
      "\u001B[1m22/22\u001B[0m \u001B[32m━━━━━━━━━━━━━━━━━━━━\u001B[0m\u001B[37m\u001B[0m \u001B[1m0s\u001B[0m 2ms/step - accuracy: 0.7558 - loss: 0.4843 - val_accuracy: 0.7792 - val_loss: 0.4433\n",
      "Epoch 20/200\n",
      "\u001B[1m22/22\u001B[0m \u001B[32m━━━━━━━━━━━━━━━━━━━━\u001B[0m\u001B[37m\u001B[0m \u001B[1m0s\u001B[0m 2ms/step - accuracy: 0.7593 - loss: 0.5406 - val_accuracy: 0.7792 - val_loss: 0.4524\n",
      "Epoch 21/200\n",
      "\u001B[1m22/22\u001B[0m \u001B[32m━━━━━━━━━━━━━━━━━━━━\u001B[0m\u001B[37m\u001B[0m \u001B[1m0s\u001B[0m 2ms/step - accuracy: 0.7773 - loss: 0.5063 - val_accuracy: 0.7792 - val_loss: 0.4466\n",
      "Epoch 22/200\n",
      "\u001B[1m22/22\u001B[0m \u001B[32m━━━━━━━━━━━━━━━━━━━━\u001B[0m\u001B[37m\u001B[0m \u001B[1m0s\u001B[0m 2ms/step - accuracy: 0.7435 - loss: 0.5041 - val_accuracy: 0.7792 - val_loss: 0.4452\n",
      "Epoch 23/200\n",
      "\u001B[1m22/22\u001B[0m \u001B[32m━━━━━━━━━━━━━━━━━━━━\u001B[0m\u001B[37m\u001B[0m \u001B[1m0s\u001B[0m 2ms/step - accuracy: 0.8049 - loss: 0.4590 - val_accuracy: 0.7792 - val_loss: 0.4432\n",
      "Epoch 24/200\n",
      "\u001B[1m22/22\u001B[0m \u001B[32m━━━━━━━━━━━━━━━━━━━━\u001B[0m\u001B[37m\u001B[0m \u001B[1m0s\u001B[0m 2ms/step - accuracy: 0.7963 - loss: 0.4578 - val_accuracy: 0.7792 - val_loss: 0.4421\n",
      "Epoch 25/200\n",
      "\u001B[1m22/22\u001B[0m \u001B[32m━━━━━━━━━━━━━━━━━━━━\u001B[0m\u001B[37m\u001B[0m \u001B[1m0s\u001B[0m 2ms/step - accuracy: 0.7462 - loss: 0.5005 - val_accuracy: 0.7792 - val_loss: 0.4506\n",
      "Epoch 26/200\n",
      "\u001B[1m22/22\u001B[0m \u001B[32m━━━━━━━━━━━━━━━━━━━━\u001B[0m\u001B[37m\u001B[0m \u001B[1m0s\u001B[0m 2ms/step - accuracy: 0.7758 - loss: 0.5012 - val_accuracy: 0.7792 - val_loss: 0.4492\n",
      "Epoch 27/200\n",
      "\u001B[1m22/22\u001B[0m \u001B[32m━━━━━━━━━━━━━━━━━━━━\u001B[0m\u001B[37m\u001B[0m \u001B[1m0s\u001B[0m 2ms/step - accuracy: 0.7560 - loss: 0.5178 - val_accuracy: 0.7792 - val_loss: 0.4493\n",
      "Epoch 28/200\n",
      "\u001B[1m22/22\u001B[0m \u001B[32m━━━━━━━━━━━━━━━━━━━━\u001B[0m\u001B[37m\u001B[0m \u001B[1m0s\u001B[0m 2ms/step - accuracy: 0.7731 - loss: 0.5007 - val_accuracy: 0.7792 - val_loss: 0.4447\n",
      "Epoch 29/200\n",
      "\u001B[1m22/22\u001B[0m \u001B[32m━━━━━━━━━━━━━━━━━━━━\u001B[0m\u001B[37m\u001B[0m \u001B[1m0s\u001B[0m 2ms/step - accuracy: 0.7830 - loss: 0.4776 - val_accuracy: 0.7792 - val_loss: 0.4517\n",
      "Epoch 30/200\n",
      "\u001B[1m22/22\u001B[0m \u001B[32m━━━━━━━━━━━━━━━━━━━━\u001B[0m\u001B[37m\u001B[0m \u001B[1m0s\u001B[0m 2ms/step - accuracy: 0.7772 - loss: 0.4852 - val_accuracy: 0.7792 - val_loss: 0.4519\n",
      "Epoch 31/200\n",
      "\u001B[1m22/22\u001B[0m \u001B[32m━━━━━━━━━━━━━━━━━━━━\u001B[0m\u001B[37m\u001B[0m \u001B[1m0s\u001B[0m 2ms/step - accuracy: 0.7550 - loss: 0.5079 - val_accuracy: 0.7792 - val_loss: 0.4500\n",
      "Epoch 32/200\n",
      "\u001B[1m22/22\u001B[0m \u001B[32m━━━━━━━━━━━━━━━━━━━━\u001B[0m\u001B[37m\u001B[0m \u001B[1m0s\u001B[0m 2ms/step - accuracy: 0.7728 - loss: 0.4748 - val_accuracy: 0.7792 - val_loss: 0.4557\n",
      "Epoch 33/200\n",
      "\u001B[1m22/22\u001B[0m \u001B[32m━━━━━━━━━━━━━━━━━━━━\u001B[0m\u001B[37m\u001B[0m \u001B[1m0s\u001B[0m 2ms/step - accuracy: 0.7623 - loss: 0.5099 - val_accuracy: 0.7792 - val_loss: 0.4558\n",
      "Epoch 34/200\n",
      "\u001B[1m22/22\u001B[0m \u001B[32m━━━━━━━━━━━━━━━━━━━━\u001B[0m\u001B[37m\u001B[0m \u001B[1m0s\u001B[0m 2ms/step - accuracy: 0.7512 - loss: 0.4973 - val_accuracy: 0.7922 - val_loss: 0.4565\n",
      "Epoch 35/200\n",
      "\u001B[1m22/22\u001B[0m \u001B[32m━━━━━━━━━━━━━━━━━━━━\u001B[0m\u001B[37m\u001B[0m \u001B[1m0s\u001B[0m 2ms/step - accuracy: 0.7612 - loss: 0.5238 - val_accuracy: 0.7792 - val_loss: 0.4591\n",
      "Epoch 36/200\n",
      "\u001B[1m22/22\u001B[0m \u001B[32m━━━━━━━━━━━━━━━━━━━━\u001B[0m\u001B[37m\u001B[0m \u001B[1m0s\u001B[0m 2ms/step - accuracy: 0.7481 - loss: 0.5431 - val_accuracy: 0.7792 - val_loss: 0.4583\n",
      "Epoch 37/200\n",
      "\u001B[1m22/22\u001B[0m \u001B[32m━━━━━━━━━━━━━━━━━━━━\u001B[0m\u001B[37m\u001B[0m \u001B[1m0s\u001B[0m 2ms/step - accuracy: 0.7640 - loss: 0.5212 - val_accuracy: 0.7792 - val_loss: 0.4612\n",
      "Epoch 38/200\n",
      "\u001B[1m22/22\u001B[0m \u001B[32m━━━━━━━━━━━━━━━━━━━━\u001B[0m\u001B[37m\u001B[0m \u001B[1m0s\u001B[0m 2ms/step - accuracy: 0.7480 - loss: 0.5094 - val_accuracy: 0.7792 - val_loss: 0.4533\n",
      "Epoch 39/200\n",
      "\u001B[1m22/22\u001B[0m \u001B[32m━━━━━━━━━━━━━━━━━━━━\u001B[0m\u001B[37m\u001B[0m \u001B[1m0s\u001B[0m 2ms/step - accuracy: 0.7452 - loss: 0.5236 - val_accuracy: 0.7792 - val_loss: 0.4525\n",
      "Epoch 40/200\n",
      "\u001B[1m22/22\u001B[0m \u001B[32m━━━━━━━━━━━━━━━━━━━━\u001B[0m\u001B[37m\u001B[0m \u001B[1m0s\u001B[0m 2ms/step - accuracy: 0.7697 - loss: 0.4745 - val_accuracy: 0.7792 - val_loss: 0.4449\n",
      "Epoch 41/200\n",
      "\u001B[1m22/22\u001B[0m \u001B[32m━━━━━━━━━━━━━━━━━━━━\u001B[0m\u001B[37m\u001B[0m \u001B[1m0s\u001B[0m 2ms/step - accuracy: 0.7507 - loss: 0.5167 - val_accuracy: 0.7792 - val_loss: 0.4423\n",
      "Epoch 42/200\n",
      "\u001B[1m22/22\u001B[0m \u001B[32m━━━━━━━━━━━━━━━━━━━━\u001B[0m\u001B[37m\u001B[0m \u001B[1m0s\u001B[0m 2ms/step - accuracy: 0.7723 - loss: 0.4546 - val_accuracy: 0.7792 - val_loss: 0.4424\n",
      "Epoch 43/200\n",
      "\u001B[1m22/22\u001B[0m \u001B[32m━━━━━━━━━━━━━━━━━━━━\u001B[0m\u001B[37m\u001B[0m \u001B[1m0s\u001B[0m 2ms/step - accuracy: 0.7702 - loss: 0.4802 - val_accuracy: 0.7792 - val_loss: 0.4460\n",
      "Epoch 44/200\n",
      "\u001B[1m22/22\u001B[0m \u001B[32m━━━━━━━━━━━━━━━━━━━━\u001B[0m\u001B[37m\u001B[0m \u001B[1m0s\u001B[0m 2ms/step - accuracy: 0.7597 - loss: 0.4995 - val_accuracy: 0.7792 - val_loss: 0.4481\n",
      "Epoch 45/200\n",
      "\u001B[1m22/22\u001B[0m \u001B[32m━━━━━━━━━━━━━━━━━━━━\u001B[0m\u001B[37m\u001B[0m \u001B[1m0s\u001B[0m 2ms/step - accuracy: 0.7536 - loss: 0.4976 - val_accuracy: 0.7792 - val_loss: 0.4447\n",
      "Epoch 46/200\n",
      "\u001B[1m22/22\u001B[0m \u001B[32m━━━━━━━━━━━━━━━━━━━━\u001B[0m\u001B[37m\u001B[0m \u001B[1m0s\u001B[0m 2ms/step - accuracy: 0.7641 - loss: 0.4832 - val_accuracy: 0.7792 - val_loss: 0.4473\n",
      "Epoch 47/200\n",
      "\u001B[1m22/22\u001B[0m \u001B[32m━━━━━━━━━━━━━━━━━━━━\u001B[0m\u001B[37m\u001B[0m \u001B[1m0s\u001B[0m 2ms/step - accuracy: 0.7547 - loss: 0.5055 - val_accuracy: 0.7792 - val_loss: 0.4477\n",
      "Epoch 48/200\n",
      "\u001B[1m22/22\u001B[0m \u001B[32m━━━━━━━━━━━━━━━━━━━━\u001B[0m\u001B[37m\u001B[0m \u001B[1m0s\u001B[0m 2ms/step - accuracy: 0.7361 - loss: 0.5244 - val_accuracy: 0.7792 - val_loss: 0.4467\n",
      "Epoch 49/200\n",
      "\u001B[1m22/22\u001B[0m \u001B[32m━━━━━━━━━━━━━━━━━━━━\u001B[0m\u001B[37m\u001B[0m \u001B[1m0s\u001B[0m 2ms/step - accuracy: 0.7454 - loss: 0.5128 - val_accuracy: 0.7792 - val_loss: 0.4497\n",
      "Epoch 50/200\n",
      "\u001B[1m22/22\u001B[0m \u001B[32m━━━━━━━━━━━━━━━━━━━━\u001B[0m\u001B[37m\u001B[0m \u001B[1m0s\u001B[0m 2ms/step - accuracy: 0.7969 - loss: 0.4649 - val_accuracy: 0.7792 - val_loss: 0.4469\n",
      "Epoch 51/200\n",
      "\u001B[1m22/22\u001B[0m \u001B[32m━━━━━━━━━━━━━━━━━━━━\u001B[0m\u001B[37m\u001B[0m \u001B[1m0s\u001B[0m 2ms/step - accuracy: 0.7535 - loss: 0.4948 - val_accuracy: 0.7792 - val_loss: 0.4453\n",
      "Epoch 52/200\n",
      "\u001B[1m22/22\u001B[0m \u001B[32m━━━━━━━━━━━━━━━━━━━━\u001B[0m\u001B[37m\u001B[0m \u001B[1m0s\u001B[0m 2ms/step - accuracy: 0.7694 - loss: 0.4888 - val_accuracy: 0.7792 - val_loss: 0.4466\n",
      "Epoch 53/200\n",
      "\u001B[1m22/22\u001B[0m \u001B[32m━━━━━━━━━━━━━━━━━━━━\u001B[0m\u001B[37m\u001B[0m \u001B[1m0s\u001B[0m 2ms/step - accuracy: 0.7627 - loss: 0.5171 - val_accuracy: 0.7792 - val_loss: 0.4431\n",
      "Epoch 54/200\n",
      "\u001B[1m22/22\u001B[0m \u001B[32m━━━━━━━━━━━━━━━━━━━━\u001B[0m\u001B[37m\u001B[0m \u001B[1m0s\u001B[0m 2ms/step - accuracy: 0.7573 - loss: 0.4902 - val_accuracy: 0.7792 - val_loss: 0.4455\n",
      "Epoch 55/200\n",
      "\u001B[1m22/22\u001B[0m \u001B[32m━━━━━━━━━━━━━━━━━━━━\u001B[0m\u001B[37m\u001B[0m \u001B[1m0s\u001B[0m 2ms/step - accuracy: 0.7827 - loss: 0.5141 - val_accuracy: 0.7792 - val_loss: 0.4464\n",
      "Epoch 56/200\n",
      "\u001B[1m22/22\u001B[0m \u001B[32m━━━━━━━━━━━━━━━━━━━━\u001B[0m\u001B[37m\u001B[0m \u001B[1m0s\u001B[0m 2ms/step - accuracy: 0.7850 - loss: 0.4861 - val_accuracy: 0.7792 - val_loss: 0.4481\n",
      "Epoch 57/200\n",
      "\u001B[1m22/22\u001B[0m \u001B[32m━━━━━━━━━━━━━━━━━━━━\u001B[0m\u001B[37m\u001B[0m \u001B[1m0s\u001B[0m 2ms/step - accuracy: 0.7827 - loss: 0.4929 - val_accuracy: 0.7792 - val_loss: 0.4494\n",
      "Epoch 58/200\n",
      "\u001B[1m22/22\u001B[0m \u001B[32m━━━━━━━━━━━━━━━━━━━━\u001B[0m\u001B[37m\u001B[0m \u001B[1m0s\u001B[0m 2ms/step - accuracy: 0.7629 - loss: 0.4934 - val_accuracy: 0.7792 - val_loss: 0.4516\n",
      "Epoch 59/200\n",
      "\u001B[1m22/22\u001B[0m \u001B[32m━━━━━━━━━━━━━━━━━━━━\u001B[0m\u001B[37m\u001B[0m \u001B[1m0s\u001B[0m 2ms/step - accuracy: 0.7451 - loss: 0.4880 - val_accuracy: 0.7922 - val_loss: 0.4479\n",
      "Epoch 60/200\n",
      "\u001B[1m22/22\u001B[0m \u001B[32m━━━━━━━━━━━━━━━━━━━━\u001B[0m\u001B[37m\u001B[0m \u001B[1m0s\u001B[0m 2ms/step - accuracy: 0.7798 - loss: 0.4724 - val_accuracy: 0.7792 - val_loss: 0.4450\n",
      "Epoch 61/200\n",
      "\u001B[1m22/22\u001B[0m \u001B[32m━━━━━━━━━━━━━━━━━━━━\u001B[0m\u001B[37m\u001B[0m \u001B[1m0s\u001B[0m 2ms/step - accuracy: 0.7601 - loss: 0.4938 - val_accuracy: 0.7792 - val_loss: 0.4423\n",
      "Epoch 62/200\n",
      "\u001B[1m22/22\u001B[0m \u001B[32m━━━━━━━━━━━━━━━━━━━━\u001B[0m\u001B[37m\u001B[0m \u001B[1m0s\u001B[0m 2ms/step - accuracy: 0.7564 - loss: 0.5024 - val_accuracy: 0.7792 - val_loss: 0.4438\n",
      "Epoch 63/200\n",
      "\u001B[1m22/22\u001B[0m \u001B[32m━━━━━━━━━━━━━━━━━━━━\u001B[0m\u001B[37m\u001B[0m \u001B[1m0s\u001B[0m 2ms/step - accuracy: 0.7777 - loss: 0.4801 - val_accuracy: 0.7792 - val_loss: 0.4457\n",
      "Epoch 64/200\n",
      "\u001B[1m22/22\u001B[0m \u001B[32m━━━━━━━━━━━━━━━━━━━━\u001B[0m\u001B[37m\u001B[0m \u001B[1m0s\u001B[0m 2ms/step - accuracy: 0.7752 - loss: 0.4769 - val_accuracy: 0.7792 - val_loss: 0.4446\n",
      "Epoch 65/200\n",
      "\u001B[1m22/22\u001B[0m \u001B[32m━━━━━━━━━━━━━━━━━━━━\u001B[0m\u001B[37m\u001B[0m \u001B[1m0s\u001B[0m 2ms/step - accuracy: 0.7542 - loss: 0.5037 - val_accuracy: 0.7792 - val_loss: 0.4412\n",
      "Epoch 66/200\n",
      "\u001B[1m22/22\u001B[0m \u001B[32m━━━━━━━━━━━━━━━━━━━━\u001B[0m\u001B[37m\u001B[0m \u001B[1m0s\u001B[0m 2ms/step - accuracy: 0.7763 - loss: 0.4646 - val_accuracy: 0.7922 - val_loss: 0.4441\n",
      "Epoch 67/200\n",
      "\u001B[1m22/22\u001B[0m \u001B[32m━━━━━━━━━━━━━━━━━━━━\u001B[0m\u001B[37m\u001B[0m \u001B[1m0s\u001B[0m 2ms/step - accuracy: 0.7591 - loss: 0.5036 - val_accuracy: 0.7792 - val_loss: 0.4456\n",
      "Epoch 68/200\n",
      "\u001B[1m22/22\u001B[0m \u001B[32m━━━━━━━━━━━━━━━━━━━━\u001B[0m\u001B[37m\u001B[0m \u001B[1m0s\u001B[0m 2ms/step - accuracy: 0.7723 - loss: 0.4814 - val_accuracy: 0.7792 - val_loss: 0.4453\n",
      "Epoch 69/200\n",
      "\u001B[1m22/22\u001B[0m \u001B[32m━━━━━━━━━━━━━━━━━━━━\u001B[0m\u001B[37m\u001B[0m \u001B[1m0s\u001B[0m 2ms/step - accuracy: 0.7760 - loss: 0.4778 - val_accuracy: 0.7922 - val_loss: 0.4491\n",
      "Epoch 70/200\n",
      "\u001B[1m22/22\u001B[0m \u001B[32m━━━━━━━━━━━━━━━━━━━━\u001B[0m\u001B[37m\u001B[0m \u001B[1m0s\u001B[0m 2ms/step - accuracy: 0.7575 - loss: 0.5141 - val_accuracy: 0.7922 - val_loss: 0.4465\n",
      "Epoch 71/200\n",
      "\u001B[1m22/22\u001B[0m \u001B[32m━━━━━━━━━━━━━━━━━━━━\u001B[0m\u001B[37m\u001B[0m \u001B[1m0s\u001B[0m 2ms/step - accuracy: 0.7423 - loss: 0.5493 - val_accuracy: 0.7922 - val_loss: 0.4434\n",
      "Epoch 72/200\n",
      "\u001B[1m22/22\u001B[0m \u001B[32m━━━━━━━━━━━━━━━━━━━━\u001B[0m\u001B[37m\u001B[0m \u001B[1m0s\u001B[0m 2ms/step - accuracy: 0.7534 - loss: 0.4947 - val_accuracy: 0.7792 - val_loss: 0.4430\n",
      "Epoch 73/200\n",
      "\u001B[1m22/22\u001B[0m \u001B[32m━━━━━━━━━━━━━━━━━━━━\u001B[0m\u001B[37m\u001B[0m \u001B[1m0s\u001B[0m 2ms/step - accuracy: 0.7694 - loss: 0.4916 - val_accuracy: 0.7792 - val_loss: 0.4381\n",
      "Epoch 74/200\n",
      "\u001B[1m22/22\u001B[0m \u001B[32m━━━━━━━━━━━━━━━━━━━━\u001B[0m\u001B[37m\u001B[0m \u001B[1m0s\u001B[0m 2ms/step - accuracy: 0.7771 - loss: 0.4645 - val_accuracy: 0.7792 - val_loss: 0.4363\n",
      "Epoch 75/200\n",
      "\u001B[1m22/22\u001B[0m \u001B[32m━━━━━━━━━━━━━━━━━━━━\u001B[0m\u001B[37m\u001B[0m \u001B[1m0s\u001B[0m 2ms/step - accuracy: 0.7362 - loss: 0.5111 - val_accuracy: 0.7792 - val_loss: 0.4530\n",
      "Epoch 76/200\n",
      "\u001B[1m22/22\u001B[0m \u001B[32m━━━━━━━━━━━━━━━━━━━━\u001B[0m\u001B[37m\u001B[0m \u001B[1m0s\u001B[0m 2ms/step - accuracy: 0.7885 - loss: 0.4955 - val_accuracy: 0.7792 - val_loss: 0.4471\n",
      "Epoch 77/200\n",
      "\u001B[1m22/22\u001B[0m \u001B[32m━━━━━━━━━━━━━━━━━━━━\u001B[0m\u001B[37m\u001B[0m \u001B[1m0s\u001B[0m 2ms/step - accuracy: 0.7819 - loss: 0.4863 - val_accuracy: 0.7792 - val_loss: 0.4445\n",
      "Epoch 78/200\n",
      "\u001B[1m22/22\u001B[0m \u001B[32m━━━━━━━━━━━━━━━━━━━━\u001B[0m\u001B[37m\u001B[0m \u001B[1m0s\u001B[0m 2ms/step - accuracy: 0.7744 - loss: 0.4766 - val_accuracy: 0.7922 - val_loss: 0.4491\n",
      "Epoch 79/200\n",
      "\u001B[1m22/22\u001B[0m \u001B[32m━━━━━━━━━━━━━━━━━━━━\u001B[0m\u001B[37m\u001B[0m \u001B[1m0s\u001B[0m 2ms/step - accuracy: 0.7577 - loss: 0.5045 - val_accuracy: 0.7792 - val_loss: 0.4465\n",
      "Epoch 80/200\n",
      "\u001B[1m22/22\u001B[0m \u001B[32m━━━━━━━━━━━━━━━━━━━━\u001B[0m\u001B[37m\u001B[0m \u001B[1m0s\u001B[0m 2ms/step - accuracy: 0.7785 - loss: 0.4688 - val_accuracy: 0.7922 - val_loss: 0.4503\n",
      "Epoch 81/200\n",
      "\u001B[1m22/22\u001B[0m \u001B[32m━━━━━━━━━━━━━━━━━━━━\u001B[0m\u001B[37m\u001B[0m \u001B[1m0s\u001B[0m 2ms/step - accuracy: 0.7868 - loss: 0.4547 - val_accuracy: 0.7792 - val_loss: 0.4540\n",
      "Epoch 82/200\n",
      "\u001B[1m22/22\u001B[0m \u001B[32m━━━━━━━━━━━━━━━━━━━━\u001B[0m\u001B[37m\u001B[0m \u001B[1m0s\u001B[0m 2ms/step - accuracy: 0.7729 - loss: 0.4726 - val_accuracy: 0.7792 - val_loss: 0.4512\n",
      "Epoch 83/200\n",
      "\u001B[1m22/22\u001B[0m \u001B[32m━━━━━━━━━━━━━━━━━━━━\u001B[0m\u001B[37m\u001B[0m \u001B[1m0s\u001B[0m 2ms/step - accuracy: 0.7602 - loss: 0.4893 - val_accuracy: 0.7792 - val_loss: 0.4524\n",
      "Epoch 84/200\n",
      "\u001B[1m22/22\u001B[0m \u001B[32m━━━━━━━━━━━━━━━━━━━━\u001B[0m\u001B[37m\u001B[0m \u001B[1m0s\u001B[0m 2ms/step - accuracy: 0.7507 - loss: 0.4935 - val_accuracy: 0.7792 - val_loss: 0.4478\n",
      "Epoch 85/200\n",
      "\u001B[1m22/22\u001B[0m \u001B[32m━━━━━━━━━━━━━━━━━━━━\u001B[0m\u001B[37m\u001B[0m \u001B[1m0s\u001B[0m 2ms/step - accuracy: 0.7491 - loss: 0.4964 - val_accuracy: 0.7792 - val_loss: 0.4514\n",
      "Epoch 86/200\n",
      "\u001B[1m22/22\u001B[0m \u001B[32m━━━━━━━━━━━━━━━━━━━━\u001B[0m\u001B[37m\u001B[0m \u001B[1m0s\u001B[0m 2ms/step - accuracy: 0.7723 - loss: 0.4758 - val_accuracy: 0.7792 - val_loss: 0.4504\n",
      "Epoch 87/200\n",
      "\u001B[1m22/22\u001B[0m \u001B[32m━━━━━━━━━━━━━━━━━━━━\u001B[0m\u001B[37m\u001B[0m \u001B[1m0s\u001B[0m 2ms/step - accuracy: 0.7857 - loss: 0.4567 - val_accuracy: 0.7792 - val_loss: 0.4451\n",
      "Epoch 88/200\n",
      "\u001B[1m22/22\u001B[0m \u001B[32m━━━━━━━━━━━━━━━━━━━━\u001B[0m\u001B[37m\u001B[0m \u001B[1m0s\u001B[0m 2ms/step - accuracy: 0.7518 - loss: 0.4853 - val_accuracy: 0.7792 - val_loss: 0.4445\n",
      "Epoch 89/200\n",
      "\u001B[1m22/22\u001B[0m \u001B[32m━━━━━━━━━━━━━━━━━━━━\u001B[0m\u001B[37m\u001B[0m \u001B[1m0s\u001B[0m 2ms/step - accuracy: 0.7815 - loss: 0.4809 - val_accuracy: 0.7922 - val_loss: 0.4509\n",
      "Epoch 90/200\n",
      "\u001B[1m22/22\u001B[0m \u001B[32m━━━━━━━━━━━━━━━━━━━━\u001B[0m\u001B[37m\u001B[0m \u001B[1m0s\u001B[0m 2ms/step - accuracy: 0.7546 - loss: 0.4895 - val_accuracy: 0.7792 - val_loss: 0.4455\n",
      "Epoch 91/200\n",
      "\u001B[1m22/22\u001B[0m \u001B[32m━━━━━━━━━━━━━━━━━━━━\u001B[0m\u001B[37m\u001B[0m \u001B[1m0s\u001B[0m 2ms/step - accuracy: 0.7584 - loss: 0.4980 - val_accuracy: 0.7792 - val_loss: 0.4455\n",
      "Epoch 92/200\n",
      "\u001B[1m22/22\u001B[0m \u001B[32m━━━━━━━━━━━━━━━━━━━━\u001B[0m\u001B[37m\u001B[0m \u001B[1m0s\u001B[0m 2ms/step - accuracy: 0.7797 - loss: 0.4916 - val_accuracy: 0.7792 - val_loss: 0.4536\n",
      "Epoch 93/200\n",
      "\u001B[1m22/22\u001B[0m \u001B[32m━━━━━━━━━━━━━━━━━━━━\u001B[0m\u001B[37m\u001B[0m \u001B[1m0s\u001B[0m 2ms/step - accuracy: 0.7605 - loss: 0.4711 - val_accuracy: 0.7792 - val_loss: 0.4474\n",
      "Epoch 94/200\n",
      "\u001B[1m22/22\u001B[0m \u001B[32m━━━━━━━━━━━━━━━━━━━━\u001B[0m\u001B[37m\u001B[0m \u001B[1m0s\u001B[0m 2ms/step - accuracy: 0.7601 - loss: 0.4990 - val_accuracy: 0.7792 - val_loss: 0.4485\n",
      "Epoch 95/200\n",
      "\u001B[1m22/22\u001B[0m \u001B[32m━━━━━━━━━━━━━━━━━━━━\u001B[0m\u001B[37m\u001B[0m \u001B[1m0s\u001B[0m 2ms/step - accuracy: 0.7511 - loss: 0.5254 - val_accuracy: 0.7792 - val_loss: 0.4455\n",
      "Epoch 96/200\n",
      "\u001B[1m22/22\u001B[0m \u001B[32m━━━━━━━━━━━━━━━━━━━━\u001B[0m\u001B[37m\u001B[0m \u001B[1m0s\u001B[0m 2ms/step - accuracy: 0.7621 - loss: 0.4975 - val_accuracy: 0.7792 - val_loss: 0.4450\n",
      "Epoch 97/200\n",
      "\u001B[1m22/22\u001B[0m \u001B[32m━━━━━━━━━━━━━━━━━━━━\u001B[0m\u001B[37m\u001B[0m \u001B[1m0s\u001B[0m 2ms/step - accuracy: 0.7724 - loss: 0.5129 - val_accuracy: 0.7792 - val_loss: 0.4481\n",
      "Epoch 98/200\n",
      "\u001B[1m22/22\u001B[0m \u001B[32m━━━━━━━━━━━━━━━━━━━━\u001B[0m\u001B[37m\u001B[0m \u001B[1m0s\u001B[0m 2ms/step - accuracy: 0.7631 - loss: 0.4855 - val_accuracy: 0.7922 - val_loss: 0.4510\n",
      "Epoch 99/200\n",
      "\u001B[1m22/22\u001B[0m \u001B[32m━━━━━━━━━━━━━━━━━━━━\u001B[0m\u001B[37m\u001B[0m \u001B[1m0s\u001B[0m 2ms/step - accuracy: 0.7712 - loss: 0.4903 - val_accuracy: 0.7792 - val_loss: 0.4488\n",
      "Epoch 100/200\n",
      "\u001B[1m22/22\u001B[0m \u001B[32m━━━━━━━━━━━━━━━━━━━━\u001B[0m\u001B[37m\u001B[0m \u001B[1m0s\u001B[0m 2ms/step - accuracy: 0.7525 - loss: 0.4929 - val_accuracy: 0.7792 - val_loss: 0.4462\n",
      "Epoch 101/200\n",
      "\u001B[1m22/22\u001B[0m \u001B[32m━━━━━━━━━━━━━━━━━━━━\u001B[0m\u001B[37m\u001B[0m \u001B[1m0s\u001B[0m 2ms/step - accuracy: 0.7495 - loss: 0.4919 - val_accuracy: 0.7792 - val_loss: 0.4424\n",
      "Epoch 102/200\n",
      "\u001B[1m22/22\u001B[0m \u001B[32m━━━━━━━━━━━━━━━━━━━━\u001B[0m\u001B[37m\u001B[0m \u001B[1m0s\u001B[0m 2ms/step - accuracy: 0.7833 - loss: 0.4877 - val_accuracy: 0.7792 - val_loss: 0.4416\n",
      "Epoch 103/200\n",
      "\u001B[1m22/22\u001B[0m \u001B[32m━━━━━━━━━━━━━━━━━━━━\u001B[0m\u001B[37m\u001B[0m \u001B[1m0s\u001B[0m 2ms/step - accuracy: 0.7556 - loss: 0.5143 - val_accuracy: 0.7792 - val_loss: 0.4428\n",
      "Epoch 104/200\n",
      "\u001B[1m22/22\u001B[0m \u001B[32m━━━━━━━━━━━━━━━━━━━━\u001B[0m\u001B[37m\u001B[0m \u001B[1m0s\u001B[0m 2ms/step - accuracy: 0.7735 - loss: 0.4667 - val_accuracy: 0.7922 - val_loss: 0.4425\n",
      "Epoch 105/200\n",
      "\u001B[1m22/22\u001B[0m \u001B[32m━━━━━━━━━━━━━━━━━━━━\u001B[0m\u001B[37m\u001B[0m \u001B[1m0s\u001B[0m 2ms/step - accuracy: 0.7845 - loss: 0.5205 - val_accuracy: 0.7792 - val_loss: 0.4466\n",
      "Epoch 106/200\n",
      "\u001B[1m22/22\u001B[0m \u001B[32m━━━━━━━━━━━━━━━━━━━━\u001B[0m\u001B[37m\u001B[0m \u001B[1m0s\u001B[0m 2ms/step - accuracy: 0.7646 - loss: 0.4987 - val_accuracy: 0.7792 - val_loss: 0.4407\n",
      "Epoch 107/200\n",
      "\u001B[1m22/22\u001B[0m \u001B[32m━━━━━━━━━━━━━━━━━━━━\u001B[0m\u001B[37m\u001B[0m \u001B[1m0s\u001B[0m 2ms/step - accuracy: 0.7734 - loss: 0.4724 - val_accuracy: 0.7792 - val_loss: 0.4426\n",
      "Epoch 108/200\n",
      "\u001B[1m22/22\u001B[0m \u001B[32m━━━━━━━━━━━━━━━━━━━━\u001B[0m\u001B[37m\u001B[0m \u001B[1m0s\u001B[0m 2ms/step - accuracy: 0.7340 - loss: 0.5020 - val_accuracy: 0.7792 - val_loss: 0.4417\n",
      "Epoch 109/200\n",
      "\u001B[1m22/22\u001B[0m \u001B[32m━━━━━━━━━━━━━━━━━━━━\u001B[0m\u001B[37m\u001B[0m \u001B[1m0s\u001B[0m 2ms/step - accuracy: 0.7825 - loss: 0.4863 - val_accuracy: 0.7792 - val_loss: 0.4411\n",
      "Epoch 110/200\n",
      "\u001B[1m22/22\u001B[0m \u001B[32m━━━━━━━━━━━━━━━━━━━━\u001B[0m\u001B[37m\u001B[0m \u001B[1m0s\u001B[0m 2ms/step - accuracy: 0.7771 - loss: 0.5053 - val_accuracy: 0.7922 - val_loss: 0.4402\n",
      "Epoch 111/200\n",
      "\u001B[1m22/22\u001B[0m \u001B[32m━━━━━━━━━━━━━━━━━━━━\u001B[0m\u001B[37m\u001B[0m \u001B[1m0s\u001B[0m 2ms/step - accuracy: 0.7409 - loss: 0.5388 - val_accuracy: 0.7792 - val_loss: 0.4374\n",
      "Epoch 112/200\n",
      "\u001B[1m22/22\u001B[0m \u001B[32m━━━━━━━━━━━━━━━━━━━━\u001B[0m\u001B[37m\u001B[0m \u001B[1m0s\u001B[0m 2ms/step - accuracy: 0.8035 - loss: 0.4382 - val_accuracy: 0.7792 - val_loss: 0.4374\n",
      "Epoch 113/200\n",
      "\u001B[1m22/22\u001B[0m \u001B[32m━━━━━━━━━━━━━━━━━━━━\u001B[0m\u001B[37m\u001B[0m \u001B[1m0s\u001B[0m 2ms/step - accuracy: 0.7720 - loss: 0.4867 - val_accuracy: 0.7792 - val_loss: 0.4396\n",
      "Epoch 114/200\n",
      "\u001B[1m22/22\u001B[0m \u001B[32m━━━━━━━━━━━━━━━━━━━━\u001B[0m\u001B[37m\u001B[0m \u001B[1m0s\u001B[0m 2ms/step - accuracy: 0.7723 - loss: 0.4808 - val_accuracy: 0.7792 - val_loss: 0.4362\n",
      "Epoch 115/200\n",
      "\u001B[1m22/22\u001B[0m \u001B[32m━━━━━━━━━━━━━━━━━━━━\u001B[0m\u001B[37m\u001B[0m \u001B[1m0s\u001B[0m 2ms/step - accuracy: 0.7727 - loss: 0.4766 - val_accuracy: 0.7792 - val_loss: 0.4350\n",
      "Epoch 116/200\n",
      "\u001B[1m22/22\u001B[0m \u001B[32m━━━━━━━━━━━━━━━━━━━━\u001B[0m\u001B[37m\u001B[0m \u001B[1m0s\u001B[0m 2ms/step - accuracy: 0.7821 - loss: 0.4575 - val_accuracy: 0.7792 - val_loss: 0.4347\n",
      "Epoch 117/200\n",
      "\u001B[1m22/22\u001B[0m \u001B[32m━━━━━━━━━━━━━━━━━━━━\u001B[0m\u001B[37m\u001B[0m \u001B[1m0s\u001B[0m 2ms/step - accuracy: 0.7581 - loss: 0.4724 - val_accuracy: 0.7662 - val_loss: 0.4324\n",
      "Epoch 118/200\n",
      "\u001B[1m22/22\u001B[0m \u001B[32m━━━━━━━━━━━━━━━━━━━━\u001B[0m\u001B[37m\u001B[0m \u001B[1m0s\u001B[0m 2ms/step - accuracy: 0.7907 - loss: 0.4914 - val_accuracy: 0.7922 - val_loss: 0.4342\n",
      "Epoch 119/200\n",
      "\u001B[1m22/22\u001B[0m \u001B[32m━━━━━━━━━━━━━━━━━━━━\u001B[0m\u001B[37m\u001B[0m \u001B[1m0s\u001B[0m 2ms/step - accuracy: 0.7597 - loss: 0.5069 - val_accuracy: 0.7792 - val_loss: 0.4371\n",
      "Epoch 120/200\n",
      "\u001B[1m22/22\u001B[0m \u001B[32m━━━━━━━━━━━━━━━━━━━━\u001B[0m\u001B[37m\u001B[0m \u001B[1m0s\u001B[0m 2ms/step - accuracy: 0.7618 - loss: 0.5214 - val_accuracy: 0.7792 - val_loss: 0.4356\n",
      "Epoch 121/200\n",
      "\u001B[1m22/22\u001B[0m \u001B[32m━━━━━━━━━━━━━━━━━━━━\u001B[0m\u001B[37m\u001B[0m \u001B[1m0s\u001B[0m 2ms/step - accuracy: 0.7776 - loss: 0.4952 - val_accuracy: 0.7792 - val_loss: 0.4350\n",
      "Epoch 122/200\n",
      "\u001B[1m22/22\u001B[0m \u001B[32m━━━━━━━━━━━━━━━━━━━━\u001B[0m\u001B[37m\u001B[0m \u001B[1m0s\u001B[0m 2ms/step - accuracy: 0.7589 - loss: 0.4745 - val_accuracy: 0.7792 - val_loss: 0.4369\n",
      "Epoch 123/200\n",
      "\u001B[1m22/22\u001B[0m \u001B[32m━━━━━━━━━━━━━━━━━━━━\u001B[0m\u001B[37m\u001B[0m \u001B[1m0s\u001B[0m 2ms/step - accuracy: 0.8088 - loss: 0.4699 - val_accuracy: 0.7792 - val_loss: 0.4426\n",
      "Epoch 124/200\n",
      "\u001B[1m22/22\u001B[0m \u001B[32m━━━━━━━━━━━━━━━━━━━━\u001B[0m\u001B[37m\u001B[0m \u001B[1m0s\u001B[0m 2ms/step - accuracy: 0.7509 - loss: 0.4947 - val_accuracy: 0.7792 - val_loss: 0.4429\n",
      "Epoch 125/200\n",
      "\u001B[1m22/22\u001B[0m \u001B[32m━━━━━━━━━━━━━━━━━━━━\u001B[0m\u001B[37m\u001B[0m \u001B[1m0s\u001B[0m 2ms/step - accuracy: 0.7702 - loss: 0.4829 - val_accuracy: 0.7792 - val_loss: 0.4385\n",
      "Epoch 126/200\n",
      "\u001B[1m22/22\u001B[0m \u001B[32m━━━━━━━━━━━━━━━━━━━━\u001B[0m\u001B[37m\u001B[0m \u001B[1m0s\u001B[0m 2ms/step - accuracy: 0.7663 - loss: 0.4807 - val_accuracy: 0.7792 - val_loss: 0.4387\n",
      "Epoch 127/200\n",
      "\u001B[1m22/22\u001B[0m \u001B[32m━━━━━━━━━━━━━━━━━━━━\u001B[0m\u001B[37m\u001B[0m \u001B[1m0s\u001B[0m 2ms/step - accuracy: 0.7829 - loss: 0.4910 - val_accuracy: 0.7792 - val_loss: 0.4355\n",
      "Epoch 128/200\n",
      "\u001B[1m22/22\u001B[0m \u001B[32m━━━━━━━━━━━━━━━━━━━━\u001B[0m\u001B[37m\u001B[0m \u001B[1m0s\u001B[0m 2ms/step - accuracy: 0.7532 - loss: 0.5032 - val_accuracy: 0.7792 - val_loss: 0.4419\n",
      "Epoch 129/200\n",
      "\u001B[1m22/22\u001B[0m \u001B[32m━━━━━━━━━━━━━━━━━━━━\u001B[0m\u001B[37m\u001B[0m \u001B[1m0s\u001B[0m 2ms/step - accuracy: 0.7610 - loss: 0.4986 - val_accuracy: 0.7662 - val_loss: 0.4428\n",
      "Epoch 130/200\n",
      "\u001B[1m22/22\u001B[0m \u001B[32m━━━━━━━━━━━━━━━━━━━━\u001B[0m\u001B[37m\u001B[0m \u001B[1m0s\u001B[0m 2ms/step - accuracy: 0.7610 - loss: 0.4878 - val_accuracy: 0.7792 - val_loss: 0.4387\n",
      "Epoch 131/200\n",
      "\u001B[1m22/22\u001B[0m \u001B[32m━━━━━━━━━━━━━━━━━━━━\u001B[0m\u001B[37m\u001B[0m \u001B[1m0s\u001B[0m 2ms/step - accuracy: 0.7475 - loss: 0.5074 - val_accuracy: 0.7792 - val_loss: 0.4405\n",
      "Epoch 132/200\n",
      "\u001B[1m22/22\u001B[0m \u001B[32m━━━━━━━━━━━━━━━━━━━━\u001B[0m\u001B[37m\u001B[0m \u001B[1m0s\u001B[0m 2ms/step - accuracy: 0.7739 - loss: 0.4874 - val_accuracy: 0.7792 - val_loss: 0.4396\n",
      "Epoch 133/200\n",
      "\u001B[1m22/22\u001B[0m \u001B[32m━━━━━━━━━━━━━━━━━━━━\u001B[0m\u001B[37m\u001B[0m \u001B[1m0s\u001B[0m 2ms/step - accuracy: 0.7535 - loss: 0.5095 - val_accuracy: 0.7792 - val_loss: 0.4407\n",
      "Epoch 134/200\n",
      "\u001B[1m22/22\u001B[0m \u001B[32m━━━━━━━━━━━━━━━━━━━━\u001B[0m\u001B[37m\u001B[0m \u001B[1m0s\u001B[0m 2ms/step - accuracy: 0.7753 - loss: 0.4773 - val_accuracy: 0.7662 - val_loss: 0.4442\n",
      "Epoch 135/200\n",
      "\u001B[1m22/22\u001B[0m \u001B[32m━━━━━━━━━━━━━━━━━━━━\u001B[0m\u001B[37m\u001B[0m \u001B[1m0s\u001B[0m 2ms/step - accuracy: 0.7561 - loss: 0.4954 - val_accuracy: 0.7792 - val_loss: 0.4410\n",
      "Epoch 136/200\n",
      "\u001B[1m22/22\u001B[0m \u001B[32m━━━━━━━━━━━━━━━━━━━━\u001B[0m\u001B[37m\u001B[0m \u001B[1m0s\u001B[0m 2ms/step - accuracy: 0.7633 - loss: 0.4922 - val_accuracy: 0.7792 - val_loss: 0.4417\n",
      "Epoch 137/200\n",
      "\u001B[1m22/22\u001B[0m \u001B[32m━━━━━━━━━━━━━━━━━━━━\u001B[0m\u001B[37m\u001B[0m \u001B[1m0s\u001B[0m 2ms/step - accuracy: 0.8196 - loss: 0.4352 - val_accuracy: 0.7792 - val_loss: 0.4471\n",
      "Epoch 138/200\n",
      "\u001B[1m22/22\u001B[0m \u001B[32m━━━━━━━━━━━━━━━━━━━━\u001B[0m\u001B[37m\u001B[0m \u001B[1m0s\u001B[0m 2ms/step - accuracy: 0.7821 - loss: 0.4661 - val_accuracy: 0.7662 - val_loss: 0.4527\n",
      "Epoch 139/200\n",
      "\u001B[1m22/22\u001B[0m \u001B[32m━━━━━━━━━━━━━━━━━━━━\u001B[0m\u001B[37m\u001B[0m \u001B[1m0s\u001B[0m 2ms/step - accuracy: 0.7766 - loss: 0.4684 - val_accuracy: 0.7792 - val_loss: 0.4549\n",
      "Epoch 140/200\n",
      "\u001B[1m22/22\u001B[0m \u001B[32m━━━━━━━━━━━━━━━━━━━━\u001B[0m\u001B[37m\u001B[0m \u001B[1m0s\u001B[0m 2ms/step - accuracy: 0.7818 - loss: 0.4613 - val_accuracy: 0.7662 - val_loss: 0.4567\n",
      "Epoch 141/200\n",
      "\u001B[1m22/22\u001B[0m \u001B[32m━━━━━━━━━━━━━━━━━━━━\u001B[0m\u001B[37m\u001B[0m \u001B[1m0s\u001B[0m 2ms/step - accuracy: 0.7619 - loss: 0.5008 - val_accuracy: 0.7792 - val_loss: 0.4582\n",
      "Epoch 142/200\n",
      "\u001B[1m22/22\u001B[0m \u001B[32m━━━━━━━━━━━━━━━━━━━━\u001B[0m\u001B[37m\u001B[0m \u001B[1m0s\u001B[0m 2ms/step - accuracy: 0.7889 - loss: 0.4579 - val_accuracy: 0.7662 - val_loss: 0.4587\n",
      "Epoch 143/200\n",
      "\u001B[1m22/22\u001B[0m \u001B[32m━━━━━━━━━━━━━━━━━━━━\u001B[0m\u001B[37m\u001B[0m \u001B[1m0s\u001B[0m 2ms/step - accuracy: 0.7743 - loss: 0.4557 - val_accuracy: 0.7662 - val_loss: 0.4564\n",
      "Epoch 144/200\n",
      "\u001B[1m22/22\u001B[0m \u001B[32m━━━━━━━━━━━━━━━━━━━━\u001B[0m\u001B[37m\u001B[0m \u001B[1m0s\u001B[0m 2ms/step - accuracy: 0.7527 - loss: 0.4889 - val_accuracy: 0.7792 - val_loss: 0.4496\n",
      "Epoch 145/200\n",
      "\u001B[1m22/22\u001B[0m \u001B[32m━━━━━━━━━━━━━━━━━━━━\u001B[0m\u001B[37m\u001B[0m \u001B[1m0s\u001B[0m 2ms/step - accuracy: 0.7611 - loss: 0.5005 - val_accuracy: 0.7792 - val_loss: 0.4484\n",
      "Epoch 146/200\n",
      "\u001B[1m22/22\u001B[0m \u001B[32m━━━━━━━━━━━━━━━━━━━━\u001B[0m\u001B[37m\u001B[0m \u001B[1m0s\u001B[0m 2ms/step - accuracy: 0.7650 - loss: 0.4923 - val_accuracy: 0.7792 - val_loss: 0.4527\n",
      "Epoch 147/200\n",
      "\u001B[1m22/22\u001B[0m \u001B[32m━━━━━━━━━━━━━━━━━━━━\u001B[0m\u001B[37m\u001B[0m \u001B[1m0s\u001B[0m 2ms/step - accuracy: 0.7831 - loss: 0.4544 - val_accuracy: 0.7662 - val_loss: 0.4503\n",
      "Epoch 148/200\n",
      "\u001B[1m22/22\u001B[0m \u001B[32m━━━━━━━━━━━━━━━━━━━━\u001B[0m\u001B[37m\u001B[0m \u001B[1m0s\u001B[0m 2ms/step - accuracy: 0.7545 - loss: 0.4836 - val_accuracy: 0.7792 - val_loss: 0.4494\n",
      "Epoch 149/200\n",
      "\u001B[1m22/22\u001B[0m \u001B[32m━━━━━━━━━━━━━━━━━━━━\u001B[0m\u001B[37m\u001B[0m \u001B[1m0s\u001B[0m 2ms/step - accuracy: 0.7434 - loss: 0.4930 - val_accuracy: 0.7792 - val_loss: 0.4510\n",
      "Epoch 150/200\n",
      "\u001B[1m22/22\u001B[0m \u001B[32m━━━━━━━━━━━━━━━━━━━━\u001B[0m\u001B[37m\u001B[0m \u001B[1m0s\u001B[0m 2ms/step - accuracy: 0.7710 - loss: 0.4572 - val_accuracy: 0.7792 - val_loss: 0.4460\n",
      "Epoch 151/200\n",
      "\u001B[1m22/22\u001B[0m \u001B[32m━━━━━━━━━━━━━━━━━━━━\u001B[0m\u001B[37m\u001B[0m \u001B[1m0s\u001B[0m 2ms/step - accuracy: 0.7421 - loss: 0.5165 - val_accuracy: 0.7792 - val_loss: 0.4493\n",
      "Epoch 152/200\n",
      "\u001B[1m22/22\u001B[0m \u001B[32m━━━━━━━━━━━━━━━━━━━━\u001B[0m\u001B[37m\u001B[0m \u001B[1m0s\u001B[0m 2ms/step - accuracy: 0.7715 - loss: 0.4777 - val_accuracy: 0.7792 - val_loss: 0.4461\n",
      "Epoch 153/200\n",
      "\u001B[1m22/22\u001B[0m \u001B[32m━━━━━━━━━━━━━━━━━━━━\u001B[0m\u001B[37m\u001B[0m \u001B[1m0s\u001B[0m 2ms/step - accuracy: 0.8008 - loss: 0.4705 - val_accuracy: 0.7792 - val_loss: 0.4449\n",
      "Epoch 154/200\n",
      "\u001B[1m22/22\u001B[0m \u001B[32m━━━━━━━━━━━━━━━━━━━━\u001B[0m\u001B[37m\u001B[0m \u001B[1m0s\u001B[0m 2ms/step - accuracy: 0.7588 - loss: 0.4689 - val_accuracy: 0.7792 - val_loss: 0.4410\n",
      "Epoch 155/200\n",
      "\u001B[1m22/22\u001B[0m \u001B[32m━━━━━━━━━━━━━━━━━━━━\u001B[0m\u001B[37m\u001B[0m \u001B[1m0s\u001B[0m 2ms/step - accuracy: 0.7729 - loss: 0.4601 - val_accuracy: 0.7792 - val_loss: 0.4421\n",
      "Epoch 156/200\n",
      "\u001B[1m22/22\u001B[0m \u001B[32m━━━━━━━━━━━━━━━━━━━━\u001B[0m\u001B[37m\u001B[0m \u001B[1m0s\u001B[0m 2ms/step - accuracy: 0.7628 - loss: 0.4894 - val_accuracy: 0.7792 - val_loss: 0.4445\n",
      "Epoch 157/200\n",
      "\u001B[1m22/22\u001B[0m \u001B[32m━━━━━━━━━━━━━━━━━━━━\u001B[0m\u001B[37m\u001B[0m \u001B[1m0s\u001B[0m 2ms/step - accuracy: 0.7464 - loss: 0.4909 - val_accuracy: 0.7792 - val_loss: 0.4420\n",
      "Epoch 158/200\n",
      "\u001B[1m22/22\u001B[0m \u001B[32m━━━━━━━━━━━━━━━━━━━━\u001B[0m\u001B[37m\u001B[0m \u001B[1m0s\u001B[0m 2ms/step - accuracy: 0.7633 - loss: 0.4902 - val_accuracy: 0.7792 - val_loss: 0.4427\n",
      "Epoch 159/200\n",
      "\u001B[1m22/22\u001B[0m \u001B[32m━━━━━━━━━━━━━━━━━━━━\u001B[0m\u001B[37m\u001B[0m \u001B[1m0s\u001B[0m 2ms/step - accuracy: 0.7596 - loss: 0.5049 - val_accuracy: 0.7792 - val_loss: 0.4442\n",
      "Epoch 160/200\n",
      "\u001B[1m22/22\u001B[0m \u001B[32m━━━━━━━━━━━━━━━━━━━━\u001B[0m\u001B[37m\u001B[0m \u001B[1m0s\u001B[0m 2ms/step - accuracy: 0.7599 - loss: 0.4994 - val_accuracy: 0.7792 - val_loss: 0.4424\n",
      "Epoch 161/200\n",
      "\u001B[1m22/22\u001B[0m \u001B[32m━━━━━━━━━━━━━━━━━━━━\u001B[0m\u001B[37m\u001B[0m \u001B[1m0s\u001B[0m 2ms/step - accuracy: 0.7522 - loss: 0.4989 - val_accuracy: 0.7922 - val_loss: 0.4534\n",
      "Epoch 162/200\n",
      "\u001B[1m22/22\u001B[0m \u001B[32m━━━━━━━━━━━━━━━━━━━━\u001B[0m\u001B[37m\u001B[0m \u001B[1m0s\u001B[0m 2ms/step - accuracy: 0.7701 - loss: 0.4818 - val_accuracy: 0.7792 - val_loss: 0.4392\n",
      "Epoch 163/200\n",
      "\u001B[1m22/22\u001B[0m \u001B[32m━━━━━━━━━━━━━━━━━━━━\u001B[0m\u001B[37m\u001B[0m \u001B[1m0s\u001B[0m 2ms/step - accuracy: 0.7335 - loss: 0.5040 - val_accuracy: 0.7792 - val_loss: 0.4436\n",
      "Epoch 164/200\n",
      "\u001B[1m22/22\u001B[0m \u001B[32m━━━━━━━━━━━━━━━━━━━━\u001B[0m\u001B[37m\u001B[0m \u001B[1m0s\u001B[0m 2ms/step - accuracy: 0.7852 - loss: 0.4521 - val_accuracy: 0.7792 - val_loss: 0.4431\n",
      "Epoch 165/200\n",
      "\u001B[1m22/22\u001B[0m \u001B[32m━━━━━━━━━━━━━━━━━━━━\u001B[0m\u001B[37m\u001B[0m \u001B[1m0s\u001B[0m 2ms/step - accuracy: 0.8014 - loss: 0.4613 - val_accuracy: 0.7792 - val_loss: 0.4429\n",
      "Epoch 166/200\n",
      "\u001B[1m22/22\u001B[0m \u001B[32m━━━━━━━━━━━━━━━━━━━━\u001B[0m\u001B[37m\u001B[0m \u001B[1m0s\u001B[0m 2ms/step - accuracy: 0.7517 - loss: 0.5131 - val_accuracy: 0.7792 - val_loss: 0.4447\n",
      "Epoch 167/200\n",
      "\u001B[1m22/22\u001B[0m \u001B[32m━━━━━━━━━━━━━━━━━━━━\u001B[0m\u001B[37m\u001B[0m \u001B[1m0s\u001B[0m 2ms/step - accuracy: 0.7716 - loss: 0.4949 - val_accuracy: 0.7792 - val_loss: 0.4492\n",
      "Epoch 168/200\n",
      "\u001B[1m22/22\u001B[0m \u001B[32m━━━━━━━━━━━━━━━━━━━━\u001B[0m\u001B[37m\u001B[0m \u001B[1m0s\u001B[0m 2ms/step - accuracy: 0.7511 - loss: 0.4760 - val_accuracy: 0.7792 - val_loss: 0.4449\n",
      "Epoch 169/200\n",
      "\u001B[1m22/22\u001B[0m \u001B[32m━━━━━━━━━━━━━━━━━━━━\u001B[0m\u001B[37m\u001B[0m \u001B[1m0s\u001B[0m 2ms/step - accuracy: 0.7777 - loss: 0.4524 - val_accuracy: 0.7792 - val_loss: 0.4448\n",
      "Epoch 170/200\n",
      "\u001B[1m22/22\u001B[0m \u001B[32m━━━━━━━━━━━━━━━━━━━━\u001B[0m\u001B[37m\u001B[0m \u001B[1m0s\u001B[0m 2ms/step - accuracy: 0.7889 - loss: 0.4623 - val_accuracy: 0.7662 - val_loss: 0.4458\n",
      "Epoch 171/200\n",
      "\u001B[1m22/22\u001B[0m \u001B[32m━━━━━━━━━━━━━━━━━━━━\u001B[0m\u001B[37m\u001B[0m \u001B[1m0s\u001B[0m 2ms/step - accuracy: 0.7923 - loss: 0.4678 - val_accuracy: 0.7792 - val_loss: 0.4483\n",
      "Epoch 172/200\n",
      "\u001B[1m22/22\u001B[0m \u001B[32m━━━━━━━━━━━━━━━━━━━━\u001B[0m\u001B[37m\u001B[0m \u001B[1m0s\u001B[0m 2ms/step - accuracy: 0.7776 - loss: 0.4802 - val_accuracy: 0.7662 - val_loss: 0.4489\n",
      "Epoch 173/200\n",
      "\u001B[1m22/22\u001B[0m \u001B[32m━━━━━━━━━━━━━━━━━━━━\u001B[0m\u001B[37m\u001B[0m \u001B[1m0s\u001B[0m 2ms/step - accuracy: 0.7875 - loss: 0.4721 - val_accuracy: 0.7662 - val_loss: 0.4516\n",
      "Epoch 174/200\n",
      "\u001B[1m22/22\u001B[0m \u001B[32m━━━━━━━━━━━━━━━━━━━━\u001B[0m\u001B[37m\u001B[0m \u001B[1m0s\u001B[0m 2ms/step - accuracy: 0.7897 - loss: 0.4684 - val_accuracy: 0.7792 - val_loss: 0.4525\n",
      "Epoch 175/200\n",
      "\u001B[1m22/22\u001B[0m \u001B[32m━━━━━━━━━━━━━━━━━━━━\u001B[0m\u001B[37m\u001B[0m \u001B[1m0s\u001B[0m 2ms/step - accuracy: 0.7769 - loss: 0.4872 - val_accuracy: 0.7662 - val_loss: 0.4541\n",
      "Epoch 176/200\n",
      "\u001B[1m22/22\u001B[0m \u001B[32m━━━━━━━━━━━━━━━━━━━━\u001B[0m\u001B[37m\u001B[0m \u001B[1m0s\u001B[0m 2ms/step - accuracy: 0.7787 - loss: 0.4910 - val_accuracy: 0.7792 - val_loss: 0.4465\n",
      "Epoch 177/200\n",
      "\u001B[1m22/22\u001B[0m \u001B[32m━━━━━━━━━━━━━━━━━━━━\u001B[0m\u001B[37m\u001B[0m \u001B[1m0s\u001B[0m 2ms/step - accuracy: 0.7813 - loss: 0.4648 - val_accuracy: 0.7792 - val_loss: 0.4441\n",
      "Epoch 178/200\n",
      "\u001B[1m22/22\u001B[0m \u001B[32m━━━━━━━━━━━━━━━━━━━━\u001B[0m\u001B[37m\u001B[0m \u001B[1m0s\u001B[0m 2ms/step - accuracy: 0.7997 - loss: 0.4616 - val_accuracy: 0.7792 - val_loss: 0.4460\n",
      "Epoch 179/200\n",
      "\u001B[1m22/22\u001B[0m \u001B[32m━━━━━━━━━━━━━━━━━━━━\u001B[0m\u001B[37m\u001B[0m \u001B[1m0s\u001B[0m 2ms/step - accuracy: 0.7574 - loss: 0.4648 - val_accuracy: 0.7792 - val_loss: 0.4470\n",
      "Epoch 180/200\n",
      "\u001B[1m22/22\u001B[0m \u001B[32m━━━━━━━━━━━━━━━━━━━━\u001B[0m\u001B[37m\u001B[0m \u001B[1m0s\u001B[0m 2ms/step - accuracy: 0.7779 - loss: 0.4740 - val_accuracy: 0.7792 - val_loss: 0.4457\n",
      "Epoch 181/200\n",
      "\u001B[1m22/22\u001B[0m \u001B[32m━━━━━━━━━━━━━━━━━━━━\u001B[0m\u001B[37m\u001B[0m \u001B[1m0s\u001B[0m 2ms/step - accuracy: 0.7667 - loss: 0.4694 - val_accuracy: 0.7792 - val_loss: 0.4470\n",
      "Epoch 182/200\n",
      "\u001B[1m22/22\u001B[0m \u001B[32m━━━━━━━━━━━━━━━━━━━━\u001B[0m\u001B[37m\u001B[0m \u001B[1m0s\u001B[0m 2ms/step - accuracy: 0.7666 - loss: 0.4870 - val_accuracy: 0.7662 - val_loss: 0.4483\n",
      "Epoch 183/200\n",
      "\u001B[1m22/22\u001B[0m \u001B[32m━━━━━━━━━━━━━━━━━━━━\u001B[0m\u001B[37m\u001B[0m \u001B[1m0s\u001B[0m 2ms/step - accuracy: 0.7697 - loss: 0.4955 - val_accuracy: 0.7662 - val_loss: 0.4527\n",
      "Epoch 184/200\n",
      "\u001B[1m22/22\u001B[0m \u001B[32m━━━━━━━━━━━━━━━━━━━━\u001B[0m\u001B[37m\u001B[0m \u001B[1m0s\u001B[0m 2ms/step - accuracy: 0.7936 - loss: 0.4282 - val_accuracy: 0.7662 - val_loss: 0.4503\n",
      "Epoch 185/200\n",
      "\u001B[1m22/22\u001B[0m \u001B[32m━━━━━━━━━━━━━━━━━━━━\u001B[0m\u001B[37m\u001B[0m \u001B[1m0s\u001B[0m 2ms/step - accuracy: 0.7557 - loss: 0.4894 - val_accuracy: 0.7792 - val_loss: 0.4484\n",
      "Epoch 186/200\n",
      "\u001B[1m22/22\u001B[0m \u001B[32m━━━━━━━━━━━━━━━━━━━━\u001B[0m\u001B[37m\u001B[0m \u001B[1m0s\u001B[0m 2ms/step - accuracy: 0.7887 - loss: 0.4612 - val_accuracy: 0.7792 - val_loss: 0.4480\n",
      "Epoch 187/200\n",
      "\u001B[1m22/22\u001B[0m \u001B[32m━━━━━━━━━━━━━━━━━━━━\u001B[0m\u001B[37m\u001B[0m \u001B[1m0s\u001B[0m 2ms/step - accuracy: 0.7688 - loss: 0.4865 - val_accuracy: 0.7662 - val_loss: 0.4482\n",
      "Epoch 188/200\n",
      "\u001B[1m22/22\u001B[0m \u001B[32m━━━━━━━━━━━━━━━━━━━━\u001B[0m\u001B[37m\u001B[0m \u001B[1m0s\u001B[0m 2ms/step - accuracy: 0.7518 - loss: 0.4724 - val_accuracy: 0.7662 - val_loss: 0.4497\n",
      "Epoch 189/200\n",
      "\u001B[1m22/22\u001B[0m \u001B[32m━━━━━━━━━━━━━━━━━━━━\u001B[0m\u001B[37m\u001B[0m \u001B[1m0s\u001B[0m 2ms/step - accuracy: 0.7792 - loss: 0.4533 - val_accuracy: 0.7792 - val_loss: 0.4450\n",
      "Epoch 190/200\n",
      "\u001B[1m22/22\u001B[0m \u001B[32m━━━━━━━━━━━━━━━━━━━━\u001B[0m\u001B[37m\u001B[0m \u001B[1m0s\u001B[0m 2ms/step - accuracy: 0.7630 - loss: 0.4897 - val_accuracy: 0.7792 - val_loss: 0.4443\n",
      "Epoch 191/200\n",
      "\u001B[1m22/22\u001B[0m \u001B[32m━━━━━━━━━━━━━━━━━━━━\u001B[0m\u001B[37m\u001B[0m \u001B[1m0s\u001B[0m 2ms/step - accuracy: 0.7704 - loss: 0.4626 - val_accuracy: 0.7792 - val_loss: 0.4421\n",
      "Epoch 192/200\n",
      "\u001B[1m22/22\u001B[0m \u001B[32m━━━━━━━━━━━━━━━━━━━━\u001B[0m\u001B[37m\u001B[0m \u001B[1m0s\u001B[0m 2ms/step - accuracy: 0.7980 - loss: 0.4465 - val_accuracy: 0.7792 - val_loss: 0.4444\n",
      "Epoch 193/200\n",
      "\u001B[1m22/22\u001B[0m \u001B[32m━━━━━━━━━━━━━━━━━━━━\u001B[0m\u001B[37m\u001B[0m \u001B[1m0s\u001B[0m 2ms/step - accuracy: 0.7694 - loss: 0.4812 - val_accuracy: 0.7662 - val_loss: 0.4458\n",
      "Epoch 194/200\n",
      "\u001B[1m22/22\u001B[0m \u001B[32m━━━━━━━━━━━━━━━━━━━━\u001B[0m\u001B[37m\u001B[0m \u001B[1m0s\u001B[0m 2ms/step - accuracy: 0.7738 - loss: 0.4811 - val_accuracy: 0.7792 - val_loss: 0.4463\n",
      "Epoch 195/200\n",
      "\u001B[1m22/22\u001B[0m \u001B[32m━━━━━━━━━━━━━━━━━━━━\u001B[0m\u001B[37m\u001B[0m \u001B[1m0s\u001B[0m 2ms/step - accuracy: 0.7956 - loss: 0.4669 - val_accuracy: 0.7792 - val_loss: 0.4490\n",
      "Epoch 196/200\n",
      "\u001B[1m22/22\u001B[0m \u001B[32m━━━━━━━━━━━━━━━━━━━━\u001B[0m\u001B[37m\u001B[0m \u001B[1m0s\u001B[0m 2ms/step - accuracy: 0.7519 - loss: 0.5064 - val_accuracy: 0.7662 - val_loss: 0.4484\n",
      "Epoch 197/200\n",
      "\u001B[1m22/22\u001B[0m \u001B[32m━━━━━━━━━━━━━━━━━━━━\u001B[0m\u001B[37m\u001B[0m \u001B[1m0s\u001B[0m 2ms/step - accuracy: 0.7801 - loss: 0.4470 - val_accuracy: 0.7792 - val_loss: 0.4509\n",
      "Epoch 198/200\n",
      "\u001B[1m22/22\u001B[0m \u001B[32m━━━━━━━━━━━━━━━━━━━━\u001B[0m\u001B[37m\u001B[0m \u001B[1m0s\u001B[0m 2ms/step - accuracy: 0.7558 - loss: 0.5044 - val_accuracy: 0.7662 - val_loss: 0.4503\n",
      "Epoch 199/200\n",
      "\u001B[1m22/22\u001B[0m \u001B[32m━━━━━━━━━━━━━━━━━━━━\u001B[0m\u001B[37m\u001B[0m \u001B[1m0s\u001B[0m 2ms/step - accuracy: 0.7737 - loss: 0.4600 - val_accuracy: 0.7662 - val_loss: 0.4496\n",
      "Epoch 200/200\n",
      "\u001B[1m22/22\u001B[0m \u001B[32m━━━━━━━━━━━━━━━━━━━━\u001B[0m\u001B[37m\u001B[0m \u001B[1m0s\u001B[0m 2ms/step - accuracy: 0.7618 - loss: 0.4714 - val_accuracy: 0.7662 - val_loss: 0.4492\n"
     ]
    },
    {
     "data": {
      "text/plain": [
       "<keras.src.callbacks.history.History at 0x246ad7489d0>"
      ]
     },
     "execution_count": 87,
     "metadata": {},
     "output_type": "execute_result"
    }
   ],
   "execution_count": 87
  },
  {
   "metadata": {},
   "cell_type": "code",
   "outputs": [],
   "execution_count": null,
   "source": "",
   "id": "27af2edab4be25a3"
  }
 ],
 "metadata": {
  "kernelspec": {
   "display_name": "Python 3",
   "language": "python",
   "name": "python3"
  },
  "language_info": {
   "codemirror_mode": {
    "name": "ipython",
    "version": 2
   },
   "file_extension": ".py",
   "mimetype": "text/x-python",
   "name": "python",
   "nbconvert_exporter": "python",
   "pygments_lexer": "ipython2",
   "version": "2.7.6"
  }
 },
 "nbformat": 4,
 "nbformat_minor": 5
}
